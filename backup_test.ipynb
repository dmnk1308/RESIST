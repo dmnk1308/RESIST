{
 "cells": [
  {
   "cell_type": "code",
   "execution_count": null,
   "metadata": {},
   "outputs": [],
   "source": [
    "import PIL\n",
    "import numpy as np\n",
    "import matplotlib.pyplot as plt\n",
    "import vtk\n",
    "from vtk.util.numpy_support import vtk_to_numpy\n",
    "from tqdm import tqdm\n",
    "import scipy\n",
    "from scipy.optimize import minimize\n",
    "from scipy.ndimage import binary_erosion\n",
    "from skimage import measure\n",
    "from vedo import *\n",
    "import meshio\n",
    "import seaborn as sns\n",
    "import pyvista as pv\n",
    "from data_processing.mesh_to_array import *\n",
    "import pandas as pd\n",
    "from matplotlib.colors import LinearSegmentedColormap\n",
    "import hydra\n",
    "from hydra import compose, initialize\n",
    "from omegaconf import OmegaConf, DictConfig\n",
    "import fnmatch\n",
    "import cv2\n",
    "import torch\n",
    "from train.testing import testing\n",
    "from data_processing.dataset_3d import load_dataset_3d, generate_points\n",
    "from data_processing.obj2py import read_get, read_mat, read_egt\n",
    "from data_processing.helper import sort_filenames\n",
    "from utils.helper import make_cmap\n",
    "import copy\n",
    "cmap = make_cmap()\n",
    "\n"
   ]
  },
  {
   "cell_type": "code",
   "execution_count": null,
   "metadata": {},
   "outputs": [],
   "source": [
    "def get_all_cases(cfg: DictConfig, base_dir=\"..\"):\n",
    "    if cfg.data.cases == 'all':\n",
    "        cases = os.listdir(os.path.join(base_dir,cfg.data.processed_data_folder))\n",
    "        cases = [case.split('.')[0] for case in cases if fnmatch.fnmatch(case, 'case_TCIA*')]\n",
    "        cases_number = [int(case.split('_')[-2]) for case in cases]\n",
    "        # cases = [case for case, case_number in zip(cases, cases_number) if case_number < 290]\n",
    "        # cases \n",
    "    else:\n",
    "        cases = cfg.data.cases\n",
    "    return cases\n",
    "\n",
    "def interpolate_arrays(arr, t):\n",
    "    arr1, arr2, arr3, arr4 = arr\n",
    "    # Linear interpolation between arrays based on parameter t (0 <= t <= 1)\n",
    "    return (1 - t) * (1 - t) * arr1 + 2 * (1 - t) * t * arr2 + t * t * arr3 + (1 - t) * (1 - t) * arr4\n",
    "\n",
    "def remove_empty_space(img, lung_mask=None):           \n",
    "    mask = img < 0.001\n",
    "    masked_data = np.ma.masked_where(mask, img)\n",
    "    rows_to_keep = ~np.all(mask, axis=1)\n",
    "    cols_to_keep = ~np.all(mask, axis=0)\n",
    "    masked_data = masked_data[rows_to_keep][:, cols_to_keep]\n",
    "    if lung_mask is not None:\n",
    "        mask = lung_mask < 0.001\n",
    "        lung_mask = np.ma.masked_where(mask, lung_mask)\n",
    "        lung_mask = lung_mask[rows_to_keep][:, cols_to_keep]\n",
    "        return masked_data, lung_mask\n",
    "    return masked_data"
   ]
  },
  {
   "cell_type": "markdown",
   "metadata": {},
   "source": [
    "# Load model and process test data"
   ]
  },
  {
   "cell_type": "code",
   "execution_count": null,
   "metadata": {},
   "outputs": [],
   "source": [
    "def load_model(path):\n",
    "    cfg = load_cfg(path)\n",
    "    cfg.inference_path = path\n",
    "    model = hydra.utils.instantiate(cfg.learning.model, model_3d=cfg.data.model_3d)\n",
    "    model.load_state_dict(torch.load(os.path.join(path,'model_lung.pt'), map_location=cfg.learning.training.device)['model_state_dict'], strict=False)\n",
    "    return model, cfg\n",
    "\n",
    "def load_seg_model(path):\n",
    "    cfg = load_cfg(path)\n",
    "    model = hydra.utils.instantiate(cfg.learning.segmentation_model)\n",
    "    model.load_state_dict(torch.load(os.path.join(path,'seg_model.pt'), map_location=cfg.learning.training.device))\n",
    "    return model, cfg\n",
    "\n",
    "def load_cfg(path):\n",
    "    with initialize(version_base=None, config_path=os.path.join(path, \".hydra\"), job_name=\"test\"):\n",
    "        cfg = compose(config_name=\"config\")\n",
    "    return cfg"
   ]
  },
  {
   "cell_type": "code",
   "execution_count": null,
   "metadata": {},
   "outputs": [],
   "source": [
    "eit_path = 'outputs/2024-07-12/11-22-04'\n",
    "model, cfg = load_model(eit_path)\n",
    "# seg_path = 'outputs/2024-04-29/19-25-08'\n",
    "# seg_model, seg_cfg = load_seg_model(seg_path)"
   ]
  },
  {
   "cell_type": "code",
   "execution_count": null,
   "metadata": {},
   "outputs": [],
   "source": []
  },
  {
   "cell_type": "code",
   "execution_count": null,
   "metadata": {},
   "outputs": [],
   "source": [
    "cases = get_all_cases(cfg, base_dir='')    \n",
    "train_dataset, val_dataset, test_dataset = load_dataset_3d(cases,\n",
    "            resolution=cfg.data.resolution, \n",
    "            base_dir = '',\n",
    "            raw_data_folder=cfg.data.raw_data_folder, \n",
    "            processed_data_folder=cfg.data.processed_data_folder,\n",
    "            dataset_data_folder=cfg.data.dataset_data_folder,\n",
    "            name_prefix=cfg.data.name_prefix,\n",
    "            write_dataset=False, write_npz=False, \n",
    "            overwrite_npz=False, n_sample_points=cfg.learning.training.sample_points,\n",
    "            return_electrodes=cfg.data.return_electrodes, apply_rotation=cfg.data.apply_rotation,\n",
    "            apply_subsampling=cfg.data.apply_subsampling,\n",
    "            apply_translation = cfg.data.apply_translation,\n",
    "            translation_x=cfg.data.translation_x, translation_y=cfg.data.translation_y, translation_z=cfg.data.translation_z,\n",
    "            point_levels_3d=cfg.data.point_levels_3d, point_range_3d=cfg.data.point_range_3d,\n",
    "            multi_process=cfg.data.multi_process, num_workers=cfg.data.num_workers, all_signals=cfg.data.all_signals,\n",
    "            use_body_mask = cfg.learning.model.use_body_mask, signal_norm='all'\n",
    "            )\n"
   ]
  },
  {
   "cell_type": "markdown",
   "metadata": {},
   "source": [
    "## Test Model"
   ]
  },
  {
   "cell_type": "code",
   "execution_count": null,
   "metadata": {},
   "outputs": [],
   "source": [
    "# add noise\n",
    "test_dataset_noise = copy.deepcopy(test_dataset)\n",
    "test_dataset_noise.case_files = sort_filenames(test_dataset_noise.case_files)\n",
    "# test_dataset_noise.signals = test_dataset_noise.signals + np.random.normal(0, 0.5, test_dataset_noise.signals.shape)\n",
    "# test_dataset_noise.signals = torch.from_numpy(np.random.normal(0, 1., test_dataset_noise.signals.shape))\n",
    "\n",
    "# test_dataset.signals = torch.zeros_like(test_dataset.signals)"
   ]
  },
  {
   "cell_type": "code",
   "execution_count": null,
   "metadata": {},
   "outputs": [],
   "source": [
    "targets_model, preds_model = testing(model, test_dataset_noise, batch_size=1, device=cfg.learning.training.device, model_3d=cfg.data.model_3d, wandb_log=False, point_chunks=40)"
   ]
  },
  {
   "cell_type": "code",
   "execution_count": null,
   "metadata": {},
   "outputs": [],
   "source": [
    "def pred_postprocess(preds, targets, resolution=512, nlevel=4, nres=4):\n",
    "    targets = targets.reshape(-1, nres, nlevel, resolution, resolution)\n",
    "    preds = preds.reshape(-1, nres, nlevel, resolution, resolution)\n",
    "    lung_mask = targets[:,0]==0.2\n",
    "    lung_mask = lung_mask.unsqueeze(1).tile(1, nres, 1, 1, 1).reshape(-1, resolution, resolution).numpy()\n",
    "    lung_mask_shrunken = torch.tensor([binary_erosion(mask, structure=np.ones((30,30))).astype(np.uint8) for mask in lung_mask])\n",
    "    lung_mask_shrunken = lung_mask_shrunken.reshape(-1, nres, nlevel, resolution, resolution)\n",
    "    return preds.numpy(), targets.numpy(), lung_mask_shrunken.numpy()"
   ]
  },
  {
   "cell_type": "code",
   "execution_count": null,
   "metadata": {},
   "outputs": [],
   "source": [
    "def plot_lung_contour(img, mask, cond_value, ax, fontsize=20):\n",
    "    contours = measure.find_contours(m, level=0.5)\n",
    "    for contour in contours:\n",
    "        ax.plot(contour[:, 1], contour[:, 0], linewidth=2, color='red')\n",
    "    # Get the coordinates of the mask\n",
    "    center_x, center_y = m.shape[1] / 2, m.shape[0]\n",
    "    # Compute the average pixel value of the rectangle\n",
    "    average_pixel_value = np.mean(p[m==1])\n",
    "    # Annotate the rectangle with the average pixel value\n",
    "    ax.text(center_x, center_y, f'Error: \\n{(np.round(cond_value-average_pixel_value, 4)):.4f}', fontsize=fontsize-5,\n",
    "            color='white', ha='center', va='center', bbox=dict(facecolor='red', alpha=0.8))\n"
   ]
  },
  {
   "cell_type": "code",
   "execution_count": null,
   "metadata": {},
   "outputs": [],
   "source": [
    "preds, targets, lung_masks = pred_postprocess(preds_model, targets_model, nlevel=30)"
   ]
  },
  {
   "cell_type": "code",
   "execution_count": null,
   "metadata": {},
   "outputs": [],
   "source": [
    "preds.shape"
   ]
  },
  {
   "cell_type": "code",
   "execution_count": null,
   "metadata": {},
   "outputs": [],
   "source": [
    "targets.shape"
   ]
  },
  {
   "cell_type": "code",
   "execution_count": null,
   "metadata": {},
   "outputs": [],
   "source": [
    "fontsize = 20\n",
    "n_cases = preds.shape[0]\n",
    "n_res = preds.shape[1]\n",
    "n_level = preds.shape[2]\n",
    "for case in range(n_cases):\n",
    "    if case == 4:\n",
    "        break\n",
    "    for res in range(n_res):\n",
    "        fig, axes = plt.subplots(n_level, 2, figsize=(10, int(4*n_level)))\n",
    "        cbar_ax = fig.add_axes([0.92, 0.15, 0.02, 0.7])  # [left, bottom, width, height]\n",
    "            \n",
    "        for level in range(n_level):\n",
    "            if level == 0:\n",
    "                axes[level,0].set_title('Ground Truth', fontsize=fontsize)\n",
    "                axes[level,1].set_title('Model Tomogram', fontsize=fontsize)\n",
    "            # GT\n",
    "            t = remove_empty_space(targets[case,res,level])\n",
    "            axes[level,0].imshow(t, vmin=0, vmax=0.7, cmap=cmap)       \n",
    "            axes[level,0].axis('off')\n",
    "            # Pred + Mask\n",
    "            cond_value = np.mean(targets[case,res,level][lung_masks[case,res,level]==1])\n",
    "            p, m = remove_empty_space(preds[case,res,level], lung_masks[case,res,level])\n",
    "            axes[level,1].imshow(p, vmin=0, vmax=0.7, cmap=cmap)\n",
    "            axes[level,1].imshow(m, cmap='Greys', alpha=0.3)\n",
    "            axes[level,1].axis('off')\n",
    "            plot_lung_contour(p, m, cond_value, axes[level,1])\n",
    "\n",
    "        # Add colorbar to the figure\n",
    "        sm = plt.cm.ScalarMappable(cmap=cmap)\n",
    "        sm.set_clim(0, 0.7)\n",
    "        cbar = fig.colorbar(sm, cax=cbar_ax)        \n",
    "        cbar.set_label('Conductivity (S/m)', fontsize=fontsize)\n",
    "        fig.suptitle(f'{test_dataset.cases[int(case/4)]}', fontsize=fontsize)\n",
    "        plt.show()\n",
    "        plt.close(fig)\n"
   ]
  },
  {
   "cell_type": "markdown",
   "metadata": {},
   "source": [
    "### All levels and resistivities"
   ]
  },
  {
   "cell_type": "code",
   "execution_count": null,
   "metadata": {},
   "outputs": [],
   "source": [
    "# cmap.set_bad(color='none')  # Set the color for masked values to 'none' for transparency\n",
    "\n",
    "for case in range(n_cases):\n",
    "    # set up figure\n",
    "    fig, axes = plt.subplots(n_res+1, n_level+1, figsize=(int((n_level+1)*4), int(4*n_res)))\n",
    "    cbar_ax = fig.add_axes([0.95, 0.15, 0.02, 0.7])  # [left, bottom, width, height]\n",
    "    axes[0,0].text(0.5, 0.5, 'Ground Truth', fontsize=fontsize, ha='center', va='center', rotation=45)\n",
    "    axes[0,0].text(0.5, 0., 'Level', fontsize=fontsize-5, ha='center', va='center', rotation=0)\n",
    "    axes[0,0].text(0.9, 0.3, ' Conductivity', fontsize=fontsize-5, ha='center', va='center', rotation=90)\n",
    "    axes[0,0].axis('off')\n",
    "\n",
    "    for level in range(n_level):\n",
    "        # GT across levels (choose cond. 0.05)\n",
    "        t = remove_empty_space(targets[case,2,level])\n",
    "        axes[level+1,0].imshow(t, vmin=0, vmax=0.7, cmap=cmap)       \n",
    "        axes[level+1,0].axis('off')\n",
    "        for res in range(n_res):\n",
    "            cond_value = np.round(np.mean(targets[case,res,level][lung_masks[case,res,level]==1]),2)\n",
    "            # GT across cond. values (choose level 0)\n",
    "            if level == 0:\n",
    "                t = remove_empty_space(targets[case,res,0])\n",
    "                axes[0,res+1].imshow(t, vmin=0, vmax=0.7, cmap=cmap)       \n",
    "                axes[0,res+1].axis('off')\n",
    "                axes[level,int(res+1)].set_title(f'{str(cond_value)} S/m', fontsize=fontsize-5)\n",
    "            p, m = remove_empty_space(preds[case,res,level], lung_masks[case,res,level])\n",
    "            axes[level+1,res+1].imshow(p, vmin=0, vmax=0.7, cmap=cmap)\n",
    "            axes[level+1,res+1].imshow(m, cmap='Greys', alpha=0.3)\n",
    "            axes[level+1,res+1].axis('off')\n",
    "            plot_lung_contour(p, m, cond_value, axes[level+1,res+1])\n",
    "\n",
    "            axes[level+1,res+1].axis('off')\n",
    "            axes[level+1,res+1].set_facecolor('grey')\n",
    "\n",
    "    # Add colorbar to the figure\n",
    "    sm = plt.cm.ScalarMappable(cmap=cmap)\n",
    "    sm.set_clim(0, 0.7)\n",
    "    cbar = fig.colorbar(sm, cax=cbar_ax)        \n",
    "    cbar.set_label('Conductivity (S/m)', fontsize=fontsize-5)\n",
    "\n",
    "    # Draw horizontal and vertical lines separating the lower right 4x4 grid\n",
    "    # Use the figure's add_artist method to add lines at the required positions\n",
    "    # Get the positions of the first row and first column of the lower right 4x4 grid\n",
    "    top_left_of_4x4 = axes[1, 1].get_position() \n",
    "    bottom_right_of_4x4 = axes[4, 4].get_position()\n",
    "\n",
    "    # Adjusted positions for the lines to be outside the plots\n",
    "    horizontal_line_y = top_left_of_4x4.y1 + 0.01\n",
    "    vertical_line_x = top_left_of_4x4.x0 - 0.01\n",
    "\n",
    "    # Draw a horizontal line\n",
    "    fig.add_artist(plt.Line2D([top_left_of_4x4.x0-0.15, bottom_right_of_4x4.x1], \n",
    "                            [horizontal_line_y, horizontal_line_y], \n",
    "                            color='black', linewidth=2))\n",
    "\n",
    "    # Draw a vertical line\n",
    "    fig.add_artist(plt.Line2D([vertical_line_x, vertical_line_x], \n",
    "                            [bottom_right_of_4x4.y0, top_left_of_4x4.y1+0.15], \n",
    "                            color='black', linewidth=2))\n",
    "                            \n",
    "    # fig.suptitle(f'{test_dataset.cases[int(i/4)]}', fontsize=fontsize)\n",
    "    # plt.tight_layout()\n",
    "    plt.show()\n",
    "    plt.close(fig)\n",
    "    if case == 10:\n",
    "        break"
   ]
  },
  {
   "cell_type": "markdown",
   "metadata": {},
   "source": [
    "## Test Model - Single case"
   ]
  },
  {
   "cell_type": "code",
   "execution_count": null,
   "metadata": {},
   "outputs": [],
   "source": [
    "case = 'case_TCIA_401_0*'"
   ]
  },
  {
   "cell_type": "markdown",
   "metadata": {},
   "source": [
    "### Iterate over the dataloader until certain case is reached"
   ]
  },
  {
   "cell_type": "code",
   "execution_count": null,
   "metadata": {},
   "outputs": [],
   "source": [
    "p = []\n",
    "s = []\n",
    "e = []\n",
    "t = []\n",
    "for i, (points, signals, electrodes, _, targets, _) in enumerate(test_dataset):\n",
    "    if fnmatch.fnmatch(test_dataset.case_files[i], case):\n",
    "        p.append(points)\n",
    "        s.append(signals)\n",
    "        e.append(electrodes)\n",
    "        t.append(targets)\n",
    "        print(test_dataset.case_files[i])\n",
    "points = torch.stack(p, dim=0)\n",
    "signals = torch.stack(s, dim=0)\n",
    "electrodes = torch.stack(e, dim=0)\n",
    "targets = torch.stack(t, dim=0)\n",
    "\n",
    "batch = 4"
   ]
  },
  {
   "cell_type": "code",
   "execution_count": null,
   "metadata": {},
   "outputs": [],
   "source": [
    "preds_all = []\n",
    "targets_all = []\n",
    "noise = torch.randn(signals.shape)*0.5\n",
    "points = points  \n",
    "\n",
    "for i in range(points.shape[0]):\n",
    "    # signals_tmp = signals[i].unsqueeze(0).float() + noise[i].unsqueeze(0).float()\n",
    "    # signals_tmp = noise[i].unsqueeze(0).float()\n",
    "    _, pred = testing(model, [signals[i].unsqueeze(0).float(), \n",
    "                              electrodes[i].unsqueeze(0).float(), \n",
    "                              points[i].unsqueeze(0).float()], \n",
    "                              batch_size=1, device=cfg.learning.training.device, wandb_log=False,)\n",
    "    targets_all.append(targets[i].detach().cpu().numpy().squeeze())\n",
    "    preds_all.append(pred.detach().cpu().numpy().squeeze())\n",
    "preds_all = np.concatenate(preds_all, axis=0)\n",
    "targets_all = np.concatenate(targets_all, axis=0)"
   ]
  },
  {
   "cell_type": "code",
   "execution_count": null,
   "metadata": {},
   "outputs": [],
   "source": [
    "fontsize = 20\n",
    "for i in range(preds_all.shape[0]):\n",
    "    fig, axes = plt.subplots(preds_all.shape[0], 2, figsize=(10, int(4*cfg.data.point_levels_3d)))\n",
    "    cbar_ax = fig.add_axes([0.92, 0.15, 0.02, 0.7])  # [left, bottom, width, height]\n",
    "    for level in range(preds_all.shape[1]):\n",
    "        if level == 0:\n",
    "            axes[level,0].set_title('Ground Truth', fontsize=fontsize)\n",
    "            axes[level,1].set_title('Model Tomogram', fontsize=fontsize)\n",
    "        target = remove_empty_space(targets_all[i,level])\n",
    "        axes[level,0].imshow(target, vmin=0, vmax=0.7, cmap=cmap)       \n",
    "        axes[level,0].axis('off')\n",
    "\n",
    "        lung_mask = targets_all[0]==0.2 \n",
    "        image = preds_all[i,level]\n",
    "        lung_mask_shrunken = binary_erosion(lung_mask[level], structure=np.ones((9, 9))).astype(np.uint8)\n",
    "        image, lung_mask_shrunken = remove_empty_space(image, lung_mask_shrunken)\n",
    "        \n",
    "        axes[level,1].imshow(image, vmin=0, vmax=0.7, cmap=cmap)\n",
    "\n",
    "        contours = measure.find_contours(lung_mask_shrunken, level=0.5)\n",
    "        for contour in contours:\n",
    "            axes[level,1].plot(contour[:, 1], contour[:, 0], linewidth=2, color='red')\n",
    "\n",
    "        # Get the coordinates of the mask\n",
    "        center_x, center_y = lung_mask_shrunken.shape[1] / 2, lung_mask_shrunken.shape[0]\n",
    "\n",
    "        # Compute the average pixel value of the rectangle\n",
    "        average_pixel_value = np.mean(image[lung_mask_shrunken==1])\n",
    "\n",
    "        # Annotate the rectangle with the average pixel value\n",
    "        axes[level,1].text(center_x, center_y, f'Average: \\n{average_pixel_value:.2f}', fontsize=fontsize-5,\n",
    "                color='white', ha='center', va='center', bbox=dict(facecolor='red', alpha=0.8))\n",
    "\n",
    "\n",
    "        # axes[level,1].imshow(lung_masks[i,0,level], cmap='Greys', alpha=0.3)\n",
    "        axes[level,1].axis('off')\n",
    "    # Add colorbar to the figure\n",
    "    sm = plt.cm.ScalarMappable(cmap=cmap)\n",
    "    sm.set_clim(0, 0.7)\n",
    "    cbar = fig.colorbar(sm, cax=cbar_ax)        \n",
    "    cbar.set_label('Conductivity (S/m)', fontsize=fontsize)\n",
    "    fig.suptitle(f'{test_dataset.cases[i]}', fontsize=fontsize)\n",
    "    plt.show()\n",
    "    plt.close(fig)\n"
   ]
  },
  {
   "cell_type": "code",
   "execution_count": null,
   "metadata": {},
   "outputs": [],
   "source": [
    "p = preds_all[:,0]\n",
    "plt.imshow(np.std(p, axis=0), cmap='coolwarm')\n",
    "plt.colorbar()"
   ]
  },
  {
   "cell_type": "markdown",
   "metadata": {},
   "source": [
    "### Add noise"
   ]
  },
  {
   "cell_type": "code",
   "execution_count": null,
   "metadata": {},
   "outputs": [],
   "source": [
    "preds_all = []\n",
    "targets_all = []\n",
    "noise = torch.randn(signals.shape)*0.5\n",
    "points = points  \n",
    "\n",
    "for i in range(points.shape[0]):\n",
    "    signals_tmp = signals[i].unsqueeze(0).float() + noise[i].unsqueeze(0).float()\n",
    "    # signals_tmp = noise[i].unsqueeze(0).float()\n",
    "    _, pred = testing(model, [signals_tmp, \n",
    "                              electrodes[i].unsqueeze(0).float(), \n",
    "                              points[i].unsqueeze(0).float()], \n",
    "                              batch_size=1, device=cfg.learning.training.device, wandb_log=False,\n",
    "                              downsample_factor_test=downsample_factor)\n",
    "    targets_all.append(targets[i].detach().cpu().numpy().squeeze().reshape(-1, 4, down_resolution, down_resolution))\n",
    "    preds_all.append(pred.detach().cpu().numpy().squeeze().reshape(-1, 4, down_resolution, down_resolution))\n",
    "preds_all = np.concatenate(preds_all, axis=0)\n",
    "targets_all = np.concatenate(targets_all, axis=0)\n",
    "\n",
    "fontsize = 20\n",
    "for i in range(preds_all.shape[0]):\n",
    "    fig, axes = plt.subplots(preds_all.shape[0], 2, figsize=(10, int(4*cfg.data.point_levels_3d)))\n",
    "    cbar_ax = fig.add_axes([0.92, 0.15, 0.02, 0.7])  # [left, bottom, width, height]\n",
    "    for level in range(preds_all.shape[1]):\n",
    "        if level == 0:\n",
    "            axes[level,0].set_title('Ground Truth', fontsize=fontsize)\n",
    "            axes[level,1].set_title('Model Tomogram', fontsize=fontsize)\n",
    "        axes[level,0].imshow(targets_all[i,level], vmin=0, vmax=0.7, cmap=cmap)       \n",
    "        axes[level,0].axis('off')\n",
    "        axes[level,1].imshow(preds_all[i,level], vmin=0, vmax=0.7, cmap=cmap)\n",
    "        # axes[level,1].imshow(lung_masks[i,0,level], cmap='Greys', alpha=0.3)\n",
    "        axes[level,1].axis('off')\n",
    "    # Add colorbar to the figure\n",
    "    sm = plt.cm.ScalarMappable(cmap=cmap)\n",
    "    sm.set_clim(0, 0.7)\n",
    "    cbar = fig.colorbar(sm, cax=cbar_ax)        \n",
    "    cbar.set_label('Conductivity (S/m)', fontsize=fontsize)\n",
    "    fig.suptitle(f'{test_dataset.cases[i]}', fontsize=fontsize)\n",
    "    plt.show()\n",
    "    plt.close(fig)"
   ]
  },
  {
   "cell_type": "markdown",
   "metadata": {},
   "source": [
    "### Interpolate between signals"
   ]
  },
  {
   "cell_type": "code",
   "execution_count": null,
   "metadata": {},
   "outputs": [],
   "source": [
    "signals.shape"
   ]
  },
  {
   "cell_type": "code",
   "execution_count": null,
   "metadata": {},
   "outputs": [],
   "source": [
    "n_interpolation_levels = 48\n",
    "interpolation_range = np.linspace(0, 1, n_interpolation_levels)\n",
    "preds = []\n",
    "for interp in interpolation_range:\n",
    "    signals_interpolated = signals[0] + (signals[3] - signals[0]) * interp\n",
    "    # signals_interpolated = interpolate_arrays(signals, interp).unsqueeze(0)\n",
    "    _, pred = testing(model, [signals_interpolated.unsqueeze(0).float(), \n",
    "                                electrodes[0].unsqueeze(0).float(), \n",
    "                                points[0].unsqueeze(0).float()], \n",
    "                                batch_size=1, device=cfg.learning.training.device, wandb_log=False,\n",
    "                                downsample_factor_test=downsample_factor)\n",
    "    pred = pred.detach().cpu().numpy().squeeze().reshape(4, down_resolution, down_resolution)\n",
    "    preds.append(pred)"
   ]
  },
  {
   "cell_type": "code",
   "execution_count": null,
   "metadata": {},
   "outputs": [],
   "source": [
    "fig, axes = plt.subplots(4, int(n_interpolation_levels/4), figsize=(int(1*(n_interpolation_levels/4)), 4))\n",
    "for i, ax in enumerate(axes.flatten()):\n",
    "    ax.imshow(remove_empty_space(preds[i][0]), cmap=cmap, vmin=0, vmax=0.7)\n",
    "    if i == 0:\n",
    "        ax.set_title('0.2 S/m', fontsize=10, loc='left')\n",
    "    elif i == len(interpolation_range)-1:\n",
    "        ax.set_title('0.05 S/m', fontsize=10, loc='right')\n",
    "    ax.axis('off')\n",
    "plt.tight_layout()"
   ]
  },
  {
   "cell_type": "code",
   "execution_count": null,
   "metadata": {},
   "outputs": [],
   "source": [
    "p = np.array(preds)[:,0]\n",
    "plt.imshow(np.std(p, axis=0), cmap='coolwarm')\n",
    "plt.colorbar()"
   ]
  },
  {
   "cell_type": "markdown",
   "metadata": {},
   "source": [
    "## Load from a file directly"
   ]
  },
  {
   "cell_type": "code",
   "execution_count": null,
   "metadata": {},
   "outputs": [],
   "source": [
    "def load_data_from_file(path, dataset):\n",
    "    file = np.load(path)\n",
    "    target = torch.from_numpy(file['targets'].reshape(-1, 1))\n",
    "    signal =  torch.from_numpy(file['signals']).reshape(-1, 4, 16, 13)\n",
    "    signal = (signal - dataset.train_mean) / dataset.train_std\n",
    "    signal = signal.reshape(4, -1)\n",
    "    electrode =  torch.from_numpy(file['electrodes'])\n",
    "    electrode[:,:,:,:,:2] = (electrode[:,:,:,:,:2] - dataset.points_min) / (dataset.points_max - dataset.points_min) * 2 - 1\n",
    "    electrode[:,:,:,:,2] = (electrode[:,:,:,:,2] - dataset.points_min_z) / (dataset.points_max_z - dataset.points_min_z) * 2 - 1\n",
    "    points =  torch.from_numpy(file['points']).reshape(-1, 3)\n",
    "    points[:,:2] = (points[:,:2] - dataset.points_min) / (dataset.points_max - dataset.points_min) * 2 - 1\n",
    "    points[:,2] = (points[:,2] - dataset.points_min_z) / (dataset.points_max_z - dataset.points_min_z) * 2 - 1\n",
    "    return points.float(), signal.float(), electrode, target.float()\n"
   ]
  },
  {
   "cell_type": "code",
   "execution_count": null,
   "metadata": {},
   "outputs": [],
   "source": [
    "points, signals, electrodes, targets = load_data_from_file('/home/nibdombe/deep_eit/data/processed/3d/case_TCIA_401_0/case_TCIA_401_0_15.npz', test_dataset)"
   ]
  },
  {
   "cell_type": "code",
   "execution_count": null,
   "metadata": {},
   "outputs": [],
   "source": [
    "preds_all = []\n",
    "targets_all = []\n",
    "noise = torch.randn(signals.shape)*0.5\n",
    "\n",
    "downsample_factor = 4\n",
    "down_resolution = 512//downsample_factor\n",
    "\n",
    "targets = targets.reshape(-1, 512, 512, 1)\n",
    "\n",
    "_, pred = testing(model, [signals.unsqueeze(0).float(), \n",
    "                              electrodes.unsqueeze(0).float(), \n",
    "                              points.unsqueeze(0).float()], \n",
    "                              batch_size=1, device=cfg.learning.training.device, wandb_log=False,\n",
    "                              downsample_factor_test=downsample_factor)\n",
    "# targets_down = targets.reshape(4, down_resolution, down_resolution)\n",
    "pred = pred.detach().cpu().numpy().squeeze().reshape(4, down_resolution, down_resolution)\n"
   ]
  },
  {
   "cell_type": "code",
   "execution_count": null,
   "metadata": {},
   "outputs": [],
   "source": [
    "level = 0\n",
    "fig, ax = plt.subplots(1,2)\n",
    "ax[0].imshow(targets[level], cmap=cmap, vmin=0)\n",
    "ax[1].imshow(pred[level], cmap=cmap, vmin=0)\n",
    "ax[0].axis('off')\n",
    "ax[1].axis('off')"
   ]
  },
  {
   "cell_type": "markdown",
   "metadata": {},
   "source": [
    "### Change input coordinates"
   ]
  },
  {
   "cell_type": "code",
   "execution_count": null,
   "metadata": {},
   "outputs": [],
   "source": [
    "n_z_levels = 48\n",
    "points_level_new = points.reshape(-1, 512, 512, 3)[0]\n",
    "z_pred = []\n",
    "z_levels = torch.linspace(1, -1, n_z_levels)\n",
    "points_level_new = points_level_new.unsqueeze(0)\n",
    "\n",
    "for z in z_levels:\n",
    "    points_level_new[:,:,:,2] = z\n",
    "    _, pred = testing(model, [signals.unsqueeze(0).float(), \n",
    "                                electrodes.unsqueeze(0).float(), \n",
    "                                points_level_new.unsqueeze(0).float()], \n",
    "                                batch_size=1, device=cfg.learning.training.device, wandb_log=False,\n",
    "                                downsample_factor_test=downsample_factor)\n",
    "    z_pred.append(pred.detach().cpu().numpy().squeeze().reshape(down_resolution, down_resolution))\n",
    "fig, axes = plt.subplots(4, int(n_z_levels/4), figsize=(int(1*(n_z_levels/4)), 4))\n",
    "for i, ax in enumerate(axes.flatten()):\n",
    "    ax.imshow(remove_empty_space(z_pred[i]), cmap=cmap, vmin=0)\n",
    "    if i == 0:\n",
    "        ax.set_title('Upper Body', fontsize=10, loc='left')\n",
    "    elif i == len(z_levels)-1:\n",
    "        ax.set_title('Lower Body', fontsize=10)\n",
    "    ax.axis('off')\n",
    "plt.tight_layout()\n",
    "\n"
   ]
  },
  {
   "cell_type": "markdown",
   "metadata": {},
   "source": [
    "## Get coordinate bounds"
   ]
  },
  {
   "cell_type": "code",
   "execution_count": null,
   "metadata": {},
   "outputs": [],
   "source": [
    "train_dataset.training = False"
   ]
  },
  {
   "cell_type": "code",
   "execution_count": null,
   "metadata": {},
   "outputs": [],
   "source": [
    "points = []\n",
    "max_x = 0\n",
    "max_y = 0\n",
    "max_z = 0\n",
    "min_x = 0\n",
    "min_y = 0\n",
    "min_z = 0\n",
    "\n",
    "for case in tqdm(test_dataset):\n",
    "    points = case[0]\n",
    "    points = points[case[4].reshape(-1) != 0]\n",
    "    max_x = max(max_x, torch.max(points[:,0]))\n",
    "    max_y = max(max_y, torch.max(points[:,1]))\n",
    "    max_z = max(max_z, torch.max(points[:,2]))\n",
    "    min_x = min(min_x, torch.min(points[:,0]))\n",
    "    min_y = min(min_y, torch.min(points[:,1]))\n",
    "    min_z = min(min_z, torch.min(points[:,2]))\n",
    "for case in tqdm(val_dataset):\n",
    "    points = case[0]\n",
    "    points = points[case[4].reshape(-1) != 0]\n",
    "    max_x = max(max_x, torch.max(points[:,0]))\n",
    "    max_y = max(max_y, torch.max(points[:,1]))\n",
    "    max_z = max(max_z, torch.max(points[:,2]))\n",
    "    min_x = min(min_x, torch.min(points[:,0]))\n",
    "    min_y = min(min_y, torch.min(points[:,1]))\n",
    "    min_z = min(min_z, torch.min(points[:,2]))\n",
    "for case in tqdm(train_dataset):\n",
    "    points = case[0]\n",
    "    points = points[case[4].reshape(-1) != 0]\n",
    "    max_x = max(max_x, torch.max(points[:,0]))\n",
    "    max_y = max(max_y, torch.max(points[:,1]))\n",
    "    max_z = max(max_z, torch.max(points[:,2]))\n",
    "    min_x = min(min_x, torch.min(points[:,0]))\n",
    "    min_y = min(min_y, torch.min(points[:,1]))\n",
    "    min_z = min(min_z, torch.min(points[:,2]))\n",
    "\n",
    "print(max_x, max_y, max_z, min_x, min_y, min_z)"
   ]
  },
  {
   "cell_type": "markdown",
   "metadata": {},
   "source": [
    "## Test Model with Training Data"
   ]
  },
  {
   "cell_type": "code",
   "execution_count": null,
   "metadata": {},
   "outputs": [],
   "source": [
    "targets, preds = testing(model, train_dataset, batch_size=cfg.learning.testing.batch_size_test, device=cfg.learning.training.device, wandb_log=False)\n"
   ]
  },
  {
   "cell_type": "code",
   "execution_count": null,
   "metadata": {},
   "outputs": [],
   "source": [
    "test_resolution = cfg.data.resolution//cfg.learning.testing.downsample_factor_test\n",
    "targets_case = targets.detach().cpu().numpy().squeeze().reshape(-1, 4, cfg.data.point_levels_3d, test_resolution, test_resolution)\n",
    "preds_case = preds.detach().cpu().numpy().squeeze().reshape(-1, 4, cfg.data.point_levels_3d, test_resolution, test_resolution)\n",
    "\n",
    "body_masks = targets_case > 0\n",
    "lung_masks = (targets_case <= 0.2) * (targets_case >= 0.05)\n",
    "eval_lung_masks = lung_masks * (preds_case<=0.25)"
   ]
  },
  {
   "cell_type": "code",
   "execution_count": null,
   "metadata": {},
   "outputs": [],
   "source": [
    "fontsize = 20\n",
    "for i in range(preds_case.shape[0]):\n",
    "    fig, axes = plt.subplots(preds_case.shape[2], 2, figsize=(10, int(4*cfg.data.point_levels_3d)))\n",
    "    cbar_ax = fig.add_axes([0.92, 0.15, 0.02, 0.7])  # [left, bottom, width, height]\n",
    "    for level in range(preds_case.shape[2]):\n",
    "        if level == 0:\n",
    "            axes[level,0].set_title('Ground Truth', fontsize=fontsize)\n",
    "            axes[level,1].set_title('Model Tomogram', fontsize=fontsize)\n",
    "        axes[level,0].imshow(targets_case[i,0,level], vmin=0, vmax=0.7, cmap=cmap)       \n",
    "        axes[level,0].axis('off')\n",
    "        axes[level,1].imshow(preds_case[i,0,level], vmin=0, vmax=0.7, cmap=cmap)\n",
    "        # axes[level,1].imshow(lung_masks[i,0,level], cmap='Greys', alpha=0.3)\n",
    "        axes[level,1].axis('off')\n",
    "    # Add colorbar to the figure\n",
    "    sm = plt.cm.ScalarMappable(cmap=cmap)\n",
    "    sm.set_clim(0, 0.7)\n",
    "    cbar = fig.colorbar(sm, cax=cbar_ax)        \n",
    "    cbar.set_label('Conductivity (S/m)', fontsize=fontsize)\n",
    "    fig.suptitle(f'{test_dataset.cases[i]}', fontsize=fontsize)\n",
    "    plt.show()\n",
    "    plt.close(fig)\n",
    "    if i == 10:\n",
    "        break\n"
   ]
  },
  {
   "cell_type": "markdown",
   "metadata": {},
   "source": [
    "## Inference on one case"
   ]
  },
  {
   "cell_type": "code",
   "execution_count": null,
   "metadata": {},
   "outputs": [],
   "source": [
    "case = 'case_TCIA_10_0'"
   ]
  },
  {
   "cell_type": "code",
   "execution_count": null,
   "metadata": {},
   "outputs": [],
   "source": [
    "from data_processing.dataset import combine_electrode_positions"
   ]
  },
  {
   "cell_type": "code",
   "execution_count": null,
   "metadata": {},
   "outputs": [],
   "source": [
    "data = np.load('data/processed/'+case+'.npz')\n",
    "signals = torch.from_numpy(data['signals'])\n",
    "electrodes = torch.from_numpy(data['electrodes'])\n",
    "points = torch.from_numpy(data['points'])\n",
    "targets = torch.from_numpy(data['targets'])\n",
    "\n",
    "# normalize\n",
    "signals = (signals-train_dataset.train_mean) / train_dataset.train_std\n",
    "points = points[:,:,:2]\n",
    "points = ((points - train_dataset.points_min) / (train_dataset.points_max - train_dataset.points_min)) * 2 - 1\n",
    "electrodes[:,:,:2] = ((electrodes[:,:,:2] - train_dataset.points_min) / (train_dataset.points_max - train_dataset.points_min)) * 2 - 1\n",
    "electrodes = combine_electrode_positions(electrodes)"
   ]
  },
  {
   "cell_type": "code",
   "execution_count": null,
   "metadata": {},
   "outputs": [],
   "source": [
    "_, pred = testing(model, [signals.float(), electrodes.float(), points.float()], batch_size=1, device=cfg.learning.training.device, wandb_log=False)\n",
    "targets = targets.detach().cpu().numpy().squeeze().reshape(-1, 4, 4, 512, 512)\n",
    "targets = np.moveaxis(targets,1,2)\n",
    "preds_case = pred.detach().cpu().numpy().squeeze().reshape(-1, 4, 4, 512, 512)\n",
    "preds_case = np.moveaxis(preds_case,1,2)\n",
    "\n",
    "# SIRT\n",
    "threshold = 50\n",
    "tomogram = np.array([read_egt('data/raw/case_TCIA_10_0/tomograms_rad/level_1_15_radweight_1.egt'),\n",
    "                        read_egt('data/raw/case_TCIA_10_0/tomograms_rad/level_2_15_radweight_1.egt')])\n",
    "tomogram = np.where(tomogram>threshold, threshold, tomogram)\n",
    "tomogram = np.where(tomogram==0, 0, 1/tomogram)\n"
   ]
  },
  {
   "cell_type": "code",
   "execution_count": null,
   "metadata": {},
   "outputs": [],
   "source": [
    "fontsize = 10\n",
    "for i in range(preds_case.shape[0]):\n",
    "    fig, axes = plt.subplots(2, 3, figsize=(6, 4))\n",
    "    cbar_ax = fig.add_axes([0.92, 0.15, 0.02, 0.7])  # [left, bottom, width, height]\n",
    "    for level in range(2):\n",
    "        axes[level,0].imshow(targets[i,2,level], vmin=0, vmax=0.7, cmap=cmap)\n",
    "        axes[level,0].axis('off')\n",
    "        axes[level,1].imshow(preds_case[i,2,level], vmin=0, vmax=0.7, cmap=cmap)\n",
    "        axes[level,1].axis('off')\n",
    "        axes[level,2].imshow(tomogram[level], vmin=0, vmax=0.7, cmap=cmap)\n",
    "        axes[level,2].axis('off')\n",
    "        if level==0:\n",
    "            axes[level,0].set_title('Wahre \\n Widerstandsverteilung', fontsize=fontsize)\n",
    "            axes[level,1].set_title('Rekonstruktion \\n KI-Modell', fontsize=fontsize)\n",
    "            axes[level,2].set_title('Rekonstruktion \\n physikalisches Modell', fontsize=fontsize)\n",
    "    # Add colorbar to the figure\n",
    "    sm = plt.cm.ScalarMappable(cmap=cmap)\n",
    "    sm.set_clim(0, 0.7)\n",
    "    cbar = fig.colorbar(sm, cax=cbar_ax)        \n",
    "    cbar.set_label('Leitfähigkeit (S/m)', fontsize=fontsize)\n",
    "    # fig.suptitle(f'{test_dataset.cases[i]}', fontsize=fontsize)\n",
    "    plt.show()\n",
    "    plt.close(fig)\n",
    "    if i == 10:\n",
    "        break\n"
   ]
  },
  {
   "cell_type": "code",
   "execution_count": null,
   "metadata": {},
   "outputs": [],
   "source": [
    "preds_case = pred.detach().cpu().numpy().squeeze().reshape(-1, 4, 4, 512, 512)\n",
    "preds_case = np.moveaxis(preds_case,1,2)\n",
    "fontsize = 20\n",
    "for i in range(preds_case.shape[0]):\n",
    "    fig, axes = plt.subplots(2, 1, figsize=(5, 16))\n",
    "    cbar_ax = fig.add_axes([0.92, 0.15, 0.02, 0.7])  # [left, bottom, width, height]\n",
    "    for resistancy in range(4):\n",
    "        if resistancy == 0:\n",
    "            axes[resistancy].set_title('Model Tomogram', fontsize=fontsize)\n",
    "        axes[resistancy].imshow(preds_case[i,2,resistancy], vmin=0, vmax=0.7, cmap=cmap)\n",
    "        axes[resistancy].axis('off')\n",
    "    # Add colorbar to the figure\n",
    "    sm = plt.cm.ScalarMappable(cmap=cmap)\n",
    "    sm.set_clim(0, 0.7)\n",
    "    cbar = fig.colorbar(sm, cax=cbar_ax)        \n",
    "    cbar.set_label('Conductivity (S/m)', fontsize=fontsize)\n",
    "    fig.suptitle(f'{test_dataset.cases[i]}', fontsize=fontsize)\n",
    "    plt.show()\n",
    "    plt.close(fig)\n",
    "    if i == 10:\n",
    "        break\n"
   ]
  },
  {
   "cell_type": "markdown",
   "metadata": {},
   "source": [
    "# Inference on training data"
   ]
  },
  {
   "cell_type": "code",
   "execution_count": null,
   "metadata": {},
   "outputs": [],
   "source": [
    "train_dataset.targets.shape"
   ]
  },
  {
   "cell_type": "code",
   "execution_count": null,
   "metadata": {},
   "outputs": [],
   "source": [
    "train_dataset.apply_subsampling = False\n",
    "train_dataset.training = False\n",
    "data = [train_dataset.signals[0].unsqueeze(0).float(), train_dataset.electrodes[0].unsqueeze(0).float(), train_dataset.points[0,:,:2].unsqueeze(0).float()]\n",
    "_, preds = testing(model, data, batch_size=cfg.learning.testing.batch_size_test, device=cfg.learning.training.device, wandb_log=False)\n",
    "targets = train_dataset.targets[0]"
   ]
  },
  {
   "cell_type": "code",
   "execution_count": null,
   "metadata": {},
   "outputs": [],
   "source": [
    "targets_case = targets.detach().cpu().numpy().squeeze().reshape(-1, 1, 1, 512, 512)\n",
    "preds_case = preds.detach().cpu().numpy().squeeze().reshape(-1, 1, 1, 512, 512)\n",
    "\n",
    "body_masks = [cv2.resize(mask.numpy(), (512, 512), interpolation=cv2.INTER_NEAREST) for mask in train_dataset.masks]\n",
    "body_masks = np.stack(body_masks, 0).reshape(-1, 1, 1, 512, 512)\n",
    "\n",
    "lung_masks = (train_dataset.targets <= 0.2) * (train_dataset.targets >= 0.05)\n",
    "lung_masks = lung_masks.reshape(-1, 1, 1, 512, 512)\n",
    "# eval_lung_masks = lung_masks * (preds_case<=0.25)"
   ]
  },
  {
   "cell_type": "code",
   "execution_count": null,
   "metadata": {},
   "outputs": [],
   "source": [
    "fontsize = 20\n",
    "for i in range(preds_case.shape[0]):\n",
    "    fig, axes = plt.subplots(4, 2, figsize=(10, 16))\n",
    "    cbar_ax = fig.add_axes([0.92, 0.15, 0.02, 0.7])  # [left, bottom, width, height]\n",
    "    for resistancy in range(4):\n",
    "        if resistancy == 0:\n",
    "            axes[resistancy,0].set_title('Ground Truth', fontsize=fontsize)\n",
    "            axes[resistancy,1].set_title('Model Tomogram', fontsize=fontsize)\n",
    "        axes[resistancy,0].imshow(targets_case[i,0,resistancy], vmin=0, vmax=0.7, cmap=cmap)       \n",
    "        axes[resistancy,0].axis('off')\n",
    "        axes[resistancy,1].imshow(preds_case[i,0,resistancy], vmin=0, vmax=0.7, cmap=cmap)\n",
    "        # axes[resistancy,1].imshow(-1*body_masks[i,0,resistancy], cmap='Reds', alpha=0.2)\n",
    "        axes[resistancy,1].imshow(lung_masks[i,0,resistancy], cmap='Greys', alpha=0.3)\n",
    "        # axes[resistancy,1].imshow(eval_lung_masks[i,0,resistancy], cmap='Greys', alpha=0.3)\n",
    "        axes[resistancy,1].axis('off')\n",
    "    # Add colorbar to the figure\n",
    "    sm = plt.cm.ScalarMappable(cmap=cmap)\n",
    "    sm.set_clim(0, 0.7)\n",
    "    cbar = fig.colorbar(sm, cax=cbar_ax)        \n",
    "    cbar.set_label('Conductivity (S/m)', fontsize=fontsize)\n",
    "    fig.suptitle(f'{test_dataset.cases[i]}', fontsize=fontsize)\n",
    "    plt.show()\n",
    "    plt.close(fig)\n",
    "    if i == 10:\n",
    "        break\n"
   ]
  },
  {
   "cell_type": "code",
   "execution_count": null,
   "metadata": {},
   "outputs": [],
   "source": [
    "targets_case = targets.detach().cpu().numpy().squeeze().reshape(-1, 4, 4, 512, 512)\n",
    "preds_case_std = np.clip(preds.detach().cpu().numpy().squeeze().reshape(-1, 4, 4, 512, 512), 0, 0.7)\n",
    "preds_case_std = preds_case_std.std(axis=(2))\n",
    "fontsize = 10\n",
    "fig, axes = plt.subplots(preds_case.shape[0], 2, figsize=(10, 80))\n",
    "for i in range(preds_case.shape[0]):\n",
    "    cbar_ax = fig.add_axes([0.92, 0.15, 0.02, 0.7])  # [left, bottom, width, height]\n",
    "    axes[i,0].imshow(targets_case[i,0,0], vmin=0, vmax=0.7, cmap=cmap)\n",
    "    axes[i,0].axis('off')\n",
    "    axes[i,1].imshow(preds_case_std[i,0], cmap='coolwarm')\n",
    "    axes[i,1].axis('off')\n",
    "# Add colorbar to the figure\n",
    "sm = plt.cm.ScalarMappable(cmap='coolwarm')\n",
    "cbar = fig.colorbar(sm, cax=cbar_ax)        \n",
    "cbar.set_label('Standard Deviation of Specific Conductivity (S/m)', fontsize=fontsize)\n",
    "# fig.suptitle(f'{test_dataset.cases[i]}', fontsize=fontsize)\n",
    "plt.show()\n",
    "plt.close(fig)\n"
   ]
  },
  {
   "cell_type": "code",
   "execution_count": null,
   "metadata": {},
   "outputs": [],
   "source": [
    "# images\n",
    "t = test_dataset.targets.reshape(-1, 4, 4, 512, 512)\n",
    "t = t.moveaxis(2, 1)\n",
    "t = t.reshape(-1, 16, 512, 512)\n",
    "# level\n",
    "l = test_dataset.levels.reshape(-1, 4, 4).moveaxis(2,1).reshape(-1, 16)\n",
    "# electrodes\n",
    "e = test_dataset.electrodes.reshape(-1, 4, 4, 16, 3).moveaxis(2, 1).reshape(-1, 16, 16, 3)\n",
    "e = (e[:, :, :, :2] + 1) * 256\n",
    "\n",
    "for i in range(preds_case.shape[0]):\n",
    "    fig, axes = plt.subplots(4, 4, figsize=(10, 11))\n",
    "    for resistancy in range(16):\n",
    "        if resistancy == 0:\n",
    "            axes.flatten()[resistancy].set_ylabel('Lung 5 Ohm')\n",
    "        if resistancy == 3:\n",
    "            axes.flatten()[resistancy].set_ylabel('Lung 10 Ohm')\n",
    "        if resistancy == 7:\n",
    "            axes.flatten()[resistancy].set_ylabel('Lung 15 Ohm')\n",
    "        if resistancy == 11:\n",
    "            axes.flatten()[resistancy].set_ylabel('Lung 20 Ohm')\n",
    "\n",
    "        axes.flatten()[resistancy].set_title(f'Level {str(l[i,resistancy].numpy()*-1+3)}')\n",
    "        axes.flatten()[resistancy].imshow(t[i,resistancy], cmap=cmap)\n",
    "        # axes.flatten()[resistancy].scatter(e[i,resistancy,:,0], e[i,resistancy,:,1], marker='x', c='r')\n",
    "        axes.flatten()[resistancy].axis('off')\n",
    "    # Add colorbar to the figure\n",
    "    # fig.suptitle(f'{test_dataset.cases[i]}', fontsize=12)\n",
    "    plt.show()\n",
    "    plt.close(fig)\n",
    "    if i == 20:\n",
    "        break"
   ]
  },
  {
   "cell_type": "code",
   "execution_count": null,
   "metadata": {},
   "outputs": [],
   "source": [
    "train_dataset.signals.max()"
   ]
  },
  {
   "cell_type": "markdown",
   "metadata": {},
   "source": [
    "# Use 'real' data"
   ]
  },
  {
   "cell_type": "code",
   "execution_count": null,
   "metadata": {},
   "outputs": [],
   "source": [
    "real_signals = read_get('data/raw/case_real/Tag1/Tag_01_Msg_19_SF_1_U_top_I_top_372-459_min_mean.get')[:208]*1000"
   ]
  },
  {
   "cell_type": "code",
   "execution_count": null,
   "metadata": {},
   "outputs": [],
   "source": [
    "plt.plot(real_signals)"
   ]
  },
  {
   "cell_type": "markdown",
   "metadata": {},
   "source": [
    "## get electrode position from ME0*"
   ]
  },
  {
   "cell_type": "code",
   "execution_count": null,
   "metadata": {},
   "outputs": [],
   "source": [
    "electrodes = read_mat('/home/nibdombe/deep_eit/data/raw/case_0/electrodes/electrodes.mat').reshape(-1, 16, 3)"
   ]
  },
  {
   "cell_type": "code",
   "execution_count": null,
   "metadata": {},
   "outputs": [],
   "source": [
    "real_electrodes = electrodes[0]"
   ]
  },
  {
   "cell_type": "code",
   "execution_count": null,
   "metadata": {},
   "outputs": [],
   "source": [
    "plt.scatter(real_electrodes[:,0], real_electrodes[:,1], marker='x', c='r')"
   ]
  },
  {
   "cell_type": "markdown",
   "metadata": {},
   "source": [
    "## normalize"
   ]
  },
  {
   "cell_type": "code",
   "execution_count": null,
   "metadata": {},
   "outputs": [],
   "source": [
    "mean_signals = test_dataset.train_mean\n",
    "std_signals = test_dataset.train_std\n",
    "real_signals = (torch.from_numpy(real_signals) - mean_signals) / std_signals\n",
    "\n",
    "min_xy = test_dataset.points_min\n",
    "max_xy = test_dataset.points_max\n",
    "real_electrodes = (real_electrodes - min_xy) / (max_xy - min_xy) * 2 - 1\n",
    "real_electrodes = torch.from_numpy(real_electrodes.reshape(-1, 16, 3))\n",
    "real_electrodes[:,:,2] = 1 \n",
    "\n",
    "real_signals = real_signals.reshape(1, 16, 13).float()\n",
    "real_electrodes = real_electrodes.reshape(1, 16, 3).float()\n",
    "points = generate_points(resolution=512)\n",
    "points = points.reshape(1, -1, 2).float()"
   ]
  },
  {
   "cell_type": "code",
   "execution_count": null,
   "metadata": {},
   "outputs": [],
   "source": [
    "pred = testing(model, data=[real_signals, real_electrodes, points], batch_size=1, device='cuda:0', wandb_log=False)[1].reshape(512, 512)"
   ]
  },
  {
   "cell_type": "code",
   "execution_count": null,
   "metadata": {},
   "outputs": [],
   "source": [
    "fig, ax = plt.subplots(1, 1, figsize=(10, 10))\n",
    "cbar_ax = fig.add_axes([0.92, 0.15, 0.02, 0.7])  # [left, bottom, width, height]\n",
    "ax.imshow(pred, vmin=0.0, vmax=0.7, cmap=cmap)\n",
    "ax.scatter((real_electrodes[0,:,0]+1)*256, (real_electrodes[0,:,1]+1)*256, marker='x', c='r')\n",
    "ax.axis('off')\n",
    "# Add colorbar to the figure\n",
    "sm = plt.cm.ScalarMappable(cmap=cmap)\n",
    "sm.set_clim(0, 0.7)\n",
    "cbar = fig.colorbar(sm, cax=cbar_ax)        \n",
    "cbar.set_label('Specific Conductivity (S/m)', fontsize=20)\n",
    "plt.show()"
   ]
  },
  {
   "cell_type": "code",
   "execution_count": null,
   "metadata": {},
   "outputs": [],
   "source": [
    "tomogram = read_egt('/home/nibdombe/deep_eit/data/raw/case_11/tomograms_kf/level_1_20.egt')"
   ]
  },
  {
   "cell_type": "code",
   "execution_count": null,
   "metadata": {},
   "outputs": [],
   "source": [
    "plt.imshow(1/tomogram, cmap=cmap, vmin=0., vmax=2)"
   ]
  },
  {
   "cell_type": "code",
   "execution_count": null,
   "metadata": {},
   "outputs": [],
   "source": [
    "gt = read_mat('/home/nibdombe/deep_eit/data/raw/case_11/targets/level_1_20.mat', targets=True)"
   ]
  },
  {
   "cell_type": "code",
   "execution_count": null,
   "metadata": {},
   "outputs": [],
   "source": [
    "fig, ax = plt.subplots(1, 1, figsize=(10, 10))\n",
    "plt.imshow(gt.T, cmap=cmap, vmin=0., vmax=0.7)\n",
    "ax.axis('off')"
   ]
  },
  {
   "cell_type": "code",
   "execution_count": null,
   "metadata": {},
   "outputs": [],
   "source": [
    "import numpy as np\n",
    "n = np.arange(30)\n",
    "np.linspace(n[1],n[-2],4)"
   ]
  },
  {
   "cell_type": "code",
   "execution_count": null,
   "metadata": {},
   "outputs": [],
   "source": [
    "np.linspace(n[1],n[-2],4)"
   ]
  },
  {
   "cell_type": "code",
   "execution_count": null,
   "metadata": {},
   "outputs": [],
   "source": []
  }
 ],
 "metadata": {
  "language_info": {
   "name": "python"
  }
 },
 "nbformat": 4,
 "nbformat_minor": 2
}
