{
 "cells": [
  {
   "cell_type": "code",
   "execution_count": 2,
   "metadata": {},
   "outputs": [
    {
     "name": "stdout",
     "output_type": "stream",
     "text": [
      "torch.Size([1, 3242])\n"
     ]
    }
   ],
   "source": [
    "import torch\n",
    "import torch.nn as nn\n",
    "import torch.nn.functional as F\n",
    "\n",
    "class ConvBlock(nn.Module):\n",
    "    def __init__(self, in_channels, out_channels, num_convs):\n",
    "        super(ConvBlock, self).__init__()\n",
    "        layers = []\n",
    "        for _ in range(num_convs):\n",
    "            layers.append(nn.Conv2d(in_channels, out_channels, kernel_size=3, padding=1))\n",
    "            layers.append(nn.BatchNorm2d(out_channels))\n",
    "            layers.append(nn.ELU())\n",
    "            in_channels = out_channels\n",
    "        self.block = nn.Sequential(*layers)\n",
    "\n",
    "    def forward(self, x):\n",
    "        return self.block(x)\n",
    "\n",
    "\n",
    "class RBFNet(nn.Module):\n",
    "    def __init__(self, in_features, out_features, num_centers):\n",
    "        super(RBFNet, self).__init__()\n",
    "        self.num_centers = num_centers\n",
    "        \n",
    "        # Define the weights, centers, and bandwidths as trainable parameters\n",
    "        self.centers = nn.Parameter(torch.randn(num_centers, in_features))\n",
    "        self.bandwidths = nn.Parameter(torch.ones(num_centers))\n",
    "        self.weights = nn.Linear(num_centers, out_features, bias=False)\n",
    "\n",
    "    def forward(self, x):\n",
    "        # Calculate the squared Euclidean distance between input and centers\n",
    "        expanded_x = x.unsqueeze(1).expand(-1, self.num_centers, -1)  # Shape: (batch_size, num_centers, in_features)\n",
    "        expanded_centers = self.centers.unsqueeze(0).expand(x.size(0), -1, -1)  # Shape: (batch_size, num_centers, in_features)\n",
    "        distances = torch.norm(expanded_x - expanded_centers, dim=2) ** 2  # Shape: (batch_size, num_centers)\n",
    "        \n",
    "        # Calculate the RBF activation\n",
    "        rbf_activations = torch.exp(-distances / (2 * self.bandwidths ** 2))  # Shape: (batch_size, num_centers)\n",
    "        \n",
    "        # Pass through the weights to get the output\n",
    "        output = self.weights(rbf_activations)\n",
    "        return output\n",
    "\n",
    "\n",
    "class ConvNet2D(nn.Module):\n",
    "    def __init__(self):\n",
    "        super(ConvNet2D, self).__init__()\n",
    "        self.encoder1 = ConvBlock(1, 64, num_convs=2)\n",
    "        self.encoder2 = ConvBlock(64, 128, num_convs=2)\n",
    "        self.encoder3 = ConvBlock(128, 256, num_convs=4)\n",
    "        self.encoder4 = ConvBlock(256, 512, num_convs=4)\n",
    "        \n",
    "        self.pool = nn.MaxPool2d(2)\n",
    "\n",
    "        self.global_avg_pool = nn.AdaptiveAvgPool2d((1, 1))\n",
    "        self.rbf_net = RBFNet(512, 3242, num_centers=512)\n",
    "\n",
    "    def forward(self, x):\n",
    "        # Encoder path\n",
    "        x1 = self.encoder1(x)\n",
    "        x2 = self.pool(x1)\n",
    "        \n",
    "        x3 = self.encoder2(x2)\n",
    "        x4 = self.pool(x3)\n",
    "        \n",
    "        x5 = self.encoder3(x4)\n",
    "        x6 = self.pool(x5)\n",
    "        \n",
    "        x7 = self.encoder4(x6)\n",
    "\n",
    "        # Global Average Pooling\n",
    "        x8 = self.global_avg_pool(x7)\n",
    "        \n",
    "        # Flatten before feeding to RBF network\n",
    "        x8 = x8.view(x8.size(0), -1)\n",
    "        output = self.rbf_net(x8)\n",
    "\n",
    "        return output\n",
    "\n",
    "\n",
    "# Example usage\n",
    "model = ConvNet2D()\n",
    "input_tensor = torch.randn(1, 1, 16, 13)  # Batch size 1, 1 input channel, 256x256 image\n",
    "output = model(input_tensor)\n",
    "print(output.shape)  # Should print torch.Size([1, 3242])\n"
   ]
  },
  {
   "cell_type": "code",
   "execution_count": 75,
   "metadata": {},
   "outputs": [
    {
     "name": "stdout",
     "output_type": "stream",
     "text": [
      "Total number of pixels equal to 1: 3242\n"
     ]
    },
    {
     "data": {
      "image/png": "[encoded data removed]",
      "text/plain": [
       "<Figure size 640x480 with 1 Axes>"
      ]
     },
     "metadata": {},
     "output_type": "display_data"
    }
   ],
   "source": [
    "import numpy as np\n",
    "import matplotlib.pyplot as plt\n",
    "from skimage.draw import ellipse\n",
    "\n",
    "def create_ellipse_mask(center, axes, height, width):\n",
    "    \"\"\"\n",
    "    Create a binary mask with a single ellipse.\n",
    "    \n",
    "    Parameters:\n",
    "    - center: Tuple (y_center, x_center) - Center of the ellipse\n",
    "    - axes: Tuple (a, b) - Axes lengths of the ellipse\n",
    "    - height: Height of the mask\n",
    "    - width: Width of the mask\n",
    "    \n",
    "    Returns:\n",
    "    - Binary mask with the ellipse\n",
    "    \"\"\"\n",
    "    mask = np.zeros((height, width), dtype=np.uint8)\n",
    "    rr, cc = ellipse(center[0], center[1], axes[0], axes[1], shape=mask.shape)\n",
    "    mask[rr, cc] = 1\n",
    "    return mask\n",
    "\n",
    "# Define the size of the mask\n",
    "height, width = 128, 128\n",
    "\n",
    "# Ellipse parameters\n",
    "ellipse1_center = (height // 2, width // 4)\n",
    "ellipse1_axes = (height * 0.225, width * 0.1408)\n",
    "\n",
    "ellipse2_center = (height // 2, width * 3 // 4)\n",
    "ellipse2_axes = (height * 0.225, width * 0.1408)\n",
    "\n",
    "# Create masks for each ellipse\n",
    "mask1 = create_ellipse_mask(ellipse1_center, ellipse1_axes, height, width)\n",
    "mask2 = create_ellipse_mask(ellipse2_center, ellipse2_axes, height, width)\n",
    "\n",
    "# Combine masks\n",
    "combined_mask = np.maximum(mask1, mask2)\n",
    "\n",
    "# Count the number of pixels set to 1\n",
    "num_ones = np.sum(combined_mask)\n",
    "\n",
    "# Print the number of pixels with value 1\n",
    "print(f\"Total number of pixels equal to 1: {num_ones}\")\n",
    "\n",
    "# Plot the combined mask\n",
    "plt.imshow(combined_mask, cmap='gray')\n",
    "plt.title(\"Mask with Two Ellipses\")\n",
    "plt.axis('off')\n",
    "plt.show()\n"
   ]
  },
  {
   "cell_type": "code",
   "execution_count": 76,
   "metadata": {},
   "outputs": [],
   "source": [
    "%load_ext autoreload\n",
    "%autoreload 2\n",
    "\n",
    "import numpy as np\n",
    "import matplotlib.pyplot as plt\n",
    "from tqdm import tqdm\n",
    "from scipy.ndimage import binary_erosion\n",
    "import fnmatch\n",
    "import torch\n",
    "from train.testing import testing\n",
    "from data_processing.dataset_3d import load_dataset_3d\n",
    "from data_processing.obj2py import read_get, read_mat, read_egt\n",
    "from data_processing.helper import sort_filenames, erode_lung_masks, combine_electrode_positions\n",
    "import copy\n",
    "from plotting_helper import *"
   ]
  },
  {
   "cell_type": "code",
   "execution_count": 82,
   "metadata": {},
   "outputs": [
    {
     "name": "stdout",
     "output_type": "stream",
     "text": [
      "Using 128 workers.\n"
     ]
    },
    {
     "name": "stderr",
     "output_type": "stream",
     "text": [
      "237it [00:37,  6.37it/s]\n"
     ]
    },
    {
     "name": "stdout",
     "output_type": "stream",
     "text": [
      "Training set: 639, validation set: 96, test set: 120\n"
     ]
    }
   ],
   "source": [
    "eit_path = 'outputs/2024-08-21/16-15-17'\n",
    "model, cfg = load_model(eit_path)#, device='cuda:1')\n",
    "cases = get_all_cases(cfg, base_dir='')    \n",
    "train_dataset, val_dataset, test_dataset = load_dataset_3d(cases,\n",
    "            resolution=cfg.data.resolution, \n",
    "            base_dir = '',\n",
    "            raw_data_folder=cfg.data.raw_data_folder, \n",
    "            processed_data_folder='data/processed/3d_15',\n",
    "            dataset_data_folder=cfg.data.dataset_data_folder,\n",
    "            name_prefix=cfg.data.name_prefix,\n",
    "            write_dataset=True, write_npz=True, \n",
    "            overwrite_npz=False, n_sample_points=cfg.learning.training.sample_points,\n",
    "            apply_rotation=False,\n",
    "            apply_subsampling=False,\n",
    "            apply_translation = False,\n",
    "            translation_x=cfg.data.translation_x, translation_y=cfg.data.translation_y, translation_z=cfg.data.translation_z,\n",
    "            point_levels_3d=4,\n",
    "            multi_process=cfg.data.multi_process, num_workers=cfg.data.num_workers,\n",
    "            signal_norm='all',\n",
    "            normalize_space='xy',\n",
    "            include_resistivities=[5, 15, 10, 20]\n",
    "            )\n",
    "test_dataset.case_files = sort_filenames(test_dataset.case_files)"
   ]
  },
  {
   "cell_type": "code",
   "execution_count": 83,
   "metadata": {},
   "outputs": [
    {
     "name": "stdout",
     "output_type": "stream",
     "text": [
      "torch.Size([3932160, 1])\n"
     ]
    }
   ],
   "source": [
    "for points, signals, electrodes, mask, targets, tissue in train_dataset:\n",
    "    print(targets.reshape())\n",
    "    break"
   ]
  },
  {
   "cell_type": "code",
   "execution_count": 87,
   "metadata": {},
   "outputs": [
    {
     "name": "stderr",
     "output_type": "stream",
     "text": [
      "/scratch/tmp/nibdombe/ipykernel_1110/3738553765.py:1: UserWarning: indexing with dtype torch.uint8 is now deprecated, please use a dtype torch.bool instead. (Triggered internally at /opt/conda/conda-bld/pytorch_1708025847130/work/aten/src/ATen/native/IndexingUtils.h:27.)\n",
      "  targets[mask.reshape(-1)].mean()\n"
     ]
    },
    {
     "data": {
      "text/plain": [
       "tensor(0.2000)"
      ]
     },
     "execution_count": 87,
     "metadata": {},
     "output_type": "execute_result"
    }
   ],
   "source": [
    "targets[mask.reshape(-1)].mean()"
   ]
  },
  {
   "cell_type": "code",
   "execution_count": 131,
   "metadata": {},
   "outputs": [],
   "source": [
    "import os\n",
    "import torch\n",
    "import torch.nn as nn\n",
    "from torch.utils.data import DataLoader\n",
    "from torch.optim import Adam\n",
    "from torch.optim.lr_scheduler import StepLR\n",
    "from tqdm import tqdm\n",
    "import wandb\n",
    "import sys\n",
    "\n",
    "sys.path.append(\"../\")\n",
    "from utils.helper import log_heatmaps, make_cmap\n",
    "\n",
    "def training(\n",
    "    model,\n",
    "    train_dataset,\n",
    "    val_dataset,\n",
    "    epochs,\n",
    "    batch_size_train,\n",
    "    lr,\n",
    "    device,\n",
    "    loss_lung_multiplier=1,\n",
    "    batch_size_val=2,\n",
    "    point_levels_3d=9,\n",
    "    output_dir=None,\n",
    "):\n",
    "    print(\"Initializing Dataloader...\", end=\" \")\n",
    "    train_dataloader = DataLoader(\n",
    "        train_dataset, batch_size=batch_size_train, shuffle=True\n",
    "    )\n",
    "    val_dataloader = DataLoader(val_dataset, batch_size=batch_size_val, shuffle=False)\n",
    "    print(\"Done.\")\n",
    "    optimizer = Adam(model.parameters(), lr=lr)\n",
    "    scheduler = StepLR(optimizer, step_size=100, gamma=0.5)\n",
    "\n",
    "    loss = nn.MSELoss(reduction=\"none\")\n",
    "    pbar = tqdm(range(epochs))\n",
    "    best_val_loss = 100\n",
    "    cmap = make_cmap()\n",
    "    for epoch in pbar:\n",
    "        epoch_loss_train, epoch_lung_loss_train, model, optimizer = training_step(\n",
    "            model,\n",
    "            train_dataloader,\n",
    "            optimizer,\n",
    "            lr,\n",
    "            loss,\n",
    "            device,\n",
    "            epoch,\n",
    "            loss_lung_multiplier,\n",
    "        )\n",
    "        scheduler.step()\n",
    "        torch.cuda.empty_cache()\n",
    "        if epoch % 1 == 0:  # and epoch!=0:\n",
    "            epoch_loss_val = (\n",
    "                validation_step(\n",
    "                    model,\n",
    "                    val_dataloader,\n",
    "                    loss,\n",
    "                    device,\n",
    "                    cmap,\n",
    "                    point_levels_3d=point_levels_3d,\n",
    "                    loss_lung_multiplier=loss_lung_multiplier,\n",
    "                )\n",
    "            )\n",
    "        pbar.set_description(\n",
    "            f\"Epoch: {epoch+1}, Train Loss: {epoch_loss_train:.5f}, Val Loss: {epoch_loss_val:.5f}\"\n",
    "        )\n",
    "        if epoch_loss_val < best_val_loss:\n",
    "            best_val_loss = epoch_loss_val\n",
    "            checkpoint = {\n",
    "                \"epoch\": epoch,\n",
    "                \"model_state_dict\": model.state_dict(),\n",
    "                \"optimizer_state_dict\": optimizer.state_dict(),\n",
    "                \"loss\": loss,\n",
    "            }\n",
    "            # torch.save(checkpoint, os.path.join(output_dir, \"model.pt\"))\n",
    "        # wandb.log(\n",
    "        #     {\n",
    "        #         \"train_loss\": epoch_loss_train,\n",
    "        #         \"val_loss\": epoch_loss_val,\n",
    "        #         \"best_val_loss\": best_val_loss,\n",
    "        #     }\n",
    "        # )\n",
    "    return model\n",
    "\n",
    "\n",
    "def training_step(\n",
    "    model, dataloader, optimizer, lr, loss, device, epoch, loss_lung_multiplier\n",
    "):\n",
    "    model.train()\n",
    "    model.to(device)\n",
    "    epoch_loss = 0\n",
    "    lung_loss = 0\n",
    "    for i, (points, signals, electrodes, mask, targets, tissue) in enumerate(\n",
    "        dataloader\n",
    "    ):\n",
    "        optimizer.zero_grad()\n",
    "        \n",
    "        signals = signals.reshape(-1, 1, 16, 13)\n",
    "        \n",
    "        pred = model(\n",
    "            signals.to(device)\n",
    "        )\n",
    "        mask = mask.reshape(targets.shape[0], -1)\n",
    "        targets = targets.reshape(targets.shape[0], -1)\n",
    "        cond =[]\n",
    "        for i in range(targets.shape[0]):\n",
    "            cond.append(targets[i][mask[i]==1].mean())\n",
    "        cond = torch.tensor(cond)\n",
    "        cond = torch.tile(cond, (4,1)).to(device).reshape(-1,1)\n",
    "        targets = torch.ones_like(pred).to(device) * cond\n",
    "        l = loss(pred, targets)\n",
    "        l = l.mean()\n",
    "        l.backward()\n",
    "        optimizer.step()\n",
    "        epoch_loss += l.detach().cpu()\n",
    "    epoch_loss /= i + 1\n",
    "    lung_loss /= i + 1\n",
    "    return epoch_loss, lung_loss, model, optimizer\n",
    "\n",
    "\n",
    "def validation_step(\n",
    "    model,\n",
    "    dataloader,\n",
    "    loss,\n",
    "    device,\n",
    "    cmap,\n",
    "    point_levels_3d=6,\n",
    "    n_examples=4,\n",
    "    loss_lung_multiplier=1,\n",
    "):\n",
    "    model.eval()\n",
    "    model.to(device)\n",
    "    epoch_loss = 0\n",
    "    for i, (points, signals, electrodes, mask, targets, tissue) in enumerate(\n",
    "        dataloader\n",
    "    ):\n",
    "        \n",
    "        signals = signals.reshape(-1, 1, 16, 13)\n",
    "        \n",
    "        pred = model(\n",
    "            signals.to(device)\n",
    "        )\n",
    "        mask = mask.reshape(targets.shape[0], -1)\n",
    "        targets = targets.reshape(targets.shape[0], -1)\n",
    "        cond =[]\n",
    "        for i in range(targets.shape[0]):\n",
    "            cond.append(targets[i][mask[i]==1].mean())\n",
    "        cond = torch.tensor(cond)\n",
    "        cond = torch.tile(cond, (4,1)).to(device).reshape(-1,1)\n",
    "        targets = torch.ones_like(pred).to(device) * cond\n",
    "        l = loss(pred, targets)\n",
    "        l = l.mean()\n",
    "        epoch_loss += l.detach().cpu()\n",
    "    epoch_loss /= i + 1\n",
    "    return epoch_loss"
   ]
  },
  {
   "cell_type": "code",
   "execution_count": 133,
   "metadata": {},
   "outputs": [
    {
     "name": "stdout",
     "output_type": "stream",
     "text": [
      "Initializing Dataloader... Done.\n"
     ]
    },
    {
     "name": "stderr",
     "output_type": "stream",
     "text": [
      "Epoch: 10, Train Loss: 0.31813, Val Loss: 0.34167: 100%|██████████| 10/10 [46:03<00:00, 276.34s/it]\n"
     ]
    },
    {
     "data": {
      "text/plain": [
       "ConvNet2D(\n",
       "  (encoder1): ConvBlock(\n",
       "    (block): Sequential(\n",
       "      (0): Conv2d(1, 64, kernel_size=(3, 3), stride=(1, 1), padding=(1, 1))\n",
       "      (1): BatchNorm2d(64, eps=1e-05, momentum=0.1, affine=True, track_running_stats=True)\n",
       "      (2): ELU(alpha=1.0)\n",
       "      (3): Conv2d(64, 64, kernel_size=(3, 3), stride=(1, 1), padding=(1, 1))\n",
       "      (4): BatchNorm2d(64, eps=1e-05, momentum=0.1, affine=True, track_running_stats=True)\n",
       "      (5): ELU(alpha=1.0)\n",
       "    )\n",
       "  )\n",
       "  (encoder2): ConvBlock(\n",
       "    (block): Sequential(\n",
       "      (0): Conv2d(64, 128, kernel_size=(3, 3), stride=(1, 1), padding=(1, 1))\n",
       "      (1): BatchNorm2d(128, eps=1e-05, momentum=0.1, affine=True, track_running_stats=True)\n",
       "      (2): ELU(alpha=1.0)\n",
       "      (3): Conv2d(128, 128, kernel_size=(3, 3), stride=(1, 1), padding=(1, 1))\n",
       "      (4): BatchNorm2d(128, eps=1e-05, momentum=0.1, affine=True, track_running_stats=True)\n",
       "      (5): ELU(alpha=1.0)\n",
       "    )\n",
       "  )\n",
       "  (encoder3): ConvBlock(\n",
       "    (block): Sequential(\n",
       "      (0): Conv2d(128, 256, kernel_size=(3, 3), stride=(1, 1), padding=(1, 1))\n",
       "      (1): BatchNorm2d(256, eps=1e-05, momentum=0.1, affine=True, track_running_stats=True)\n",
       "      (2): ELU(alpha=1.0)\n",
       "      (3): Conv2d(256, 256, kernel_size=(3, 3), stride=(1, 1), padding=(1, 1))\n",
       "      (4): BatchNorm2d(256, eps=1e-05, momentum=0.1, affine=True, track_running_stats=True)\n",
       "      (5): ELU(alpha=1.0)\n",
       "      (6): Conv2d(256, 256, kernel_size=(3, 3), stride=(1, 1), padding=(1, 1))\n",
       "      (7): BatchNorm2d(256, eps=1e-05, momentum=0.1, affine=True, track_running_stats=True)\n",
       "      (8): ELU(alpha=1.0)\n",
       "      (9): Conv2d(256, 256, kernel_size=(3, 3), stride=(1, 1), padding=(1, 1))\n",
       "      (10): BatchNorm2d(256, eps=1e-05, momentum=0.1, affine=True, track_running_stats=True)\n",
       "      (11): ELU(alpha=1.0)\n",
       "    )\n",
       "  )\n",
       "  (encoder4): ConvBlock(\n",
       "    (block): Sequential(\n",
       "      (0): Conv2d(256, 512, kernel_size=(3, 3), stride=(1, 1), padding=(1, 1))\n",
       "      (1): BatchNorm2d(512, eps=1e-05, momentum=0.1, affine=True, track_running_stats=True)\n",
       "      (2): ELU(alpha=1.0)\n",
       "      (3): Conv2d(512, 512, kernel_size=(3, 3), stride=(1, 1), padding=(1, 1))\n",
       "      (4): BatchNorm2d(512, eps=1e-05, momentum=0.1, affine=True, track_running_stats=True)\n",
       "      (5): ELU(alpha=1.0)\n",
       "      (6): Conv2d(512, 512, kernel_size=(3, 3), stride=(1, 1), padding=(1, 1))\n",
       "      (7): BatchNorm2d(512, eps=1e-05, momentum=0.1, affine=True, track_running_stats=True)\n",
       "      (8): ELU(alpha=1.0)\n",
       "      (9): Conv2d(512, 512, kernel_size=(3, 3), stride=(1, 1), padding=(1, 1))\n",
       "      (10): BatchNorm2d(512, eps=1e-05, momentum=0.1, affine=True, track_running_stats=True)\n",
       "      (11): ELU(alpha=1.0)\n",
       "    )\n",
       "  )\n",
       "  (pool): MaxPool2d(kernel_size=2, stride=2, padding=0, dilation=1, ceil_mode=False)\n",
       "  (global_avg_pool): AdaptiveAvgPool2d(output_size=(1, 1))\n",
       "  (rbf_net): RBFNet(\n",
       "    (weights): Linear(in_features=512, out_features=3242, bias=False)\n",
       "  )\n",
       ")"
      ]
     },
     "execution_count": 133,
     "metadata": {},
     "output_type": "execute_result"
    }
   ],
   "source": [
    "model = ConvNet2D()\n",
    "training(model,\n",
    "    train_dataset,\n",
    "    val_dataset,\n",
    "    epochs=10,\n",
    "    batch_size_train=12,\n",
    "    lr=0.001,\n",
    "    device='cuda')"
   ]
  },
  {
   "cell_type": "code",
   "execution_count": 118,
   "metadata": {},
   "outputs": [
    {
     "name": "stderr",
     "output_type": "stream",
     "text": [
      "/scratch/tmp/nibdombe/ipykernel_1110/713906156.py:1: UserWarning: indexing with dtype torch.uint8 is now deprecated, please use a dtype torch.bool instead. (Triggered internally at /opt/conda/conda-bld/pytorch_1708025847130/work/aten/src/ATen/native/IndexingUtils.h:27.)\n",
      "  targets[mask.reshape(-1)].mean(\n"
     ]
    },
    {
     "data": {
      "text/plain": [
       "tensor(0.2000)"
      ]
     },
     "execution_count": 118,
     "metadata": {},
     "output_type": "execute_result"
    }
   ],
   "source": [
    "targets[mask.reshape(-1)].mean()"
   ]
  },
  {
   "cell_type": "code",
   "execution_count": null,
   "metadata": {},
   "outputs": [],
   "source": []
  }
 ],
 "metadata": {
  "kernelspec": {
   "display_name": "base",
   "language": "python",
   "name": "python3"
  },
  "language_info": {
   "codemirror_mode": {
    "name": "ipython",
    "version": 3
   },
   "file_extension": ".py",
   "mimetype": "text/x-python",
   "name": "python",
   "nbconvert_exporter": "python",
   "pygments_lexer": "ipython3",
   "version": "3.10.13"
  }
 },
 "nbformat": 4,
 "nbformat_minor": 2
}
