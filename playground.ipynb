{
 "cells": [
  {
   "cell_type": "code",
   "execution_count": 1,
   "metadata": {},
   "outputs": [],
   "source": [
    "import PIL\n",
    "import numpy as np\n",
    "import shutil\n",
    "import torch\n",
    "import matplotlib.pyplot as plt\n",
    "import vtk\n",
    "from vtk.util.numpy_support import vtk_to_numpy\n",
    "from tqdm import tqdm\n",
    "from scipy.optimize import minimize\n",
    "from vedo import *\n",
    "import meshio\n",
    "import seaborn as sns\n",
    "import pyvista as pv\n",
    "from data_processing.mesh_to_array import *\n",
    "import pandas as pd\n",
    "from matplotlib.colors import LinearSegmentedColormap\n",
    "from hydra import compose, initialize\n",
    "from omegaconf import OmegaConf\n",
    "from utils.helper import make_cmap, get_all_cases\n",
    "import fnmatch\n",
    "import cv2\n",
    "from data_processing.mesh_to_array import mesh_to_image\n",
    "from data_processing.dataset_3d import make_npz_3d, load_dataset_3d, make_dataset_3d, make_npz_3d_multi, write_npz_case_3d\n",
    "from data_processing.dataset_3d import change_rho\n",
    "from data_processing.preprocessing import load_signals\n",
    "# from data_processing.obj2py import read_get\n",
    "from utils.helper import make_cmap\n",
    "from data_processing.helper import sort_filenames\n"
   ]
  },
  {
   "cell_type": "code",
   "execution_count": 4,
   "metadata": {},
   "outputs": [
    {
     "data": {
      "text/plain": [
       "array(5.)"
      ]
     },
     "execution_count": 4,
     "metadata": {},
     "output_type": "execute_result"
    }
   ],
   "source": [
    "np.load('/home/nibdombe/deep_eit/data/processed/all_rho/case_TCIA_2_0/case_TCIA_2_0_5.0.npz')['rhos']"
   ]
  },
  {
   "cell_type": "code",
   "execution_count": null,
   "metadata": {},
   "outputs": [],
   "source": []
  },
  {
   "cell_type": "code",
   "execution_count": null,
   "metadata": {},
   "outputs": [],
   "source": [
    "def load_cfg(path):\n",
    "    with initialize(version_base=None, config_path=path, job_name=\"test\"):\n",
    "        cfg = compose(config_name=\"config\")\n",
    "    return cfg\n",
    "\n",
    "cmap = make_cmap()\n",
    "cfg = load_cfg('cfg')"
   ]
  },
  {
   "cell_type": "code",
   "execution_count": null,
   "metadata": {},
   "outputs": [],
   "source": [
    "cases = get_all_cases(cfg, base_dir='')    \n",
    "train_dataset, val_dataset, test_dataset = load_dataset_3d(cases,\n",
    "            resolution=cfg.data.resolution, \n",
    "            base_dir = '',\n",
    "            raw_data_folder=cfg.data.raw_data_folder, \n",
    "            processed_data_folder='data/processed/3d',\n",
    "            dataset_data_folder=cfg.data.dataset_data_folder,\n",
    "            name_prefix=cfg.data.name_prefix,\n",
    "            write_dataset=True, write_npz=True, \n",
    "            overwrite_npz=False, n_sample_points=cfg.learning.training.sample_points,\n",
    "            apply_rotation=cfg.data.apply_rotation,\n",
    "            apply_subsampling=cfg.data.apply_subsampling,\n",
    "            apply_translation = cfg.data.apply_translation,\n",
    "            translation_x=cfg.data.translation_x, translation_y=cfg.data.translation_y, translation_z=cfg.data.translation_z,\n",
    "            point_levels_3d=cfg.data.point_levels_3d,\n",
    "            multi_process=cfg.data.multi_process, num_workers=cfg.data.num_workers,\n",
    "            signal_norm='all',\n",
    "            normalize_space='xy',\n",
    "            include_resistivities=[5, 15, 10, 20]\n",
    "            )\n",
    "test_dataset.case_files = sort_filenames(test_dataset.case_files)"
   ]
  },
  {
   "cell_type": "markdown",
   "metadata": {},
   "source": [
    "# Linear Regression"
   ]
  },
  {
   "cell_type": "code",
   "execution_count": null,
   "metadata": {},
   "outputs": [],
   "source": [
    "s = []\n",
    "t = []\n",
    "for points, signal, electrode, mask, target, _ in train_dataset:\n",
    "    s.append(signal.float())\n",
    "    t.append(target.float())"
   ]
  },
  {
   "cell_type": "code",
   "execution_count": null,
   "metadata": {},
   "outputs": [],
   "source": [
    "X_train = torch.stack(s, dim=0).numpy()\n",
    "Y_train = torch.stack(t, dim=0).numpy()"
   ]
  },
  {
   "cell_type": "code",
   "execution_count": null,
   "metadata": {},
   "outputs": [],
   "source": [
    "Y_train.shape"
   ]
  },
  {
   "cell_type": "code",
   "execution_count": null,
   "metadata": {},
   "outputs": [],
   "source": [
    "import numpy as np\n",
    "from numpy.linalg import lstsq\n",
    "\n",
    "# Parameters\n",
    "batch_size = X_train.shape[0]\n",
    "m = 4\n",
    "n1 = 208\n",
    "n2 = 512\n",
    "\n",
    "X_train = X_train.reshape(batch_size, m * n1)\n",
    "Y_train = Y_train.reshape(batch_size, m*n2*n2)\n",
    "\n",
    "# Now, solve for A in Y = X @ A\n",
    "# X_train_flat: (batch_size, 4*512*512)\n",
    "# Y_train: (batch_size, 832)\n",
    "\n",
    "# Perform the least squares estimation to find A\n",
    "# A should map 1048576 (4*512*512) to 832 (4*208)\n",
    "A_estimated, _, _, _ = lstsq(X_train, Y_train, rcond=None)\n",
    "\n",
    "# A_estimated has shape (4*512*512, 832)\n",
    "print(\"Shape of A_estimated:\", A_estimated.shape)\n",
    "\n",
    "# You can now use A_estimated for predictions or further analysis\n"
   ]
  },
  {
   "cell_type": "code",
   "execution_count": null,
   "metadata": {},
   "outputs": [],
   "source": []
  },
  {
   "cell_type": "code",
   "execution_count": null,
   "metadata": {},
   "outputs": [],
   "source": []
  },
  {
   "cell_type": "code",
   "execution_count": null,
   "metadata": {},
   "outputs": [],
   "source": []
  },
  {
   "cell_type": "code",
   "execution_count": null,
   "metadata": {},
   "outputs": [],
   "source": [
    "pv.read('/home/nibdombe/deep_eit/data/raw/case_TCIA_2_0/shape/mesh.vtk').n_cells"
   ]
  },
  {
   "cell_type": "code",
   "execution_count": null,
   "metadata": {},
   "outputs": [],
   "source": [
    "cells = []\n",
    "for case in cases:\n",
    "    cells.append(pv.read('data/raw/'+case+'/shape/mesh.vtk').n_cells)"
   ]
  },
  {
   "cell_type": "code",
   "execution_count": null,
   "metadata": {},
   "outputs": [],
   "source": [
    "len(cells)"
   ]
  },
  {
   "cell_type": "code",
   "execution_count": null,
   "metadata": {},
   "outputs": [],
   "source": [
    "np.array(cells).mean()"
   ]
  },
  {
   "cell_type": "markdown",
   "metadata": {},
   "source": [
    "# Are the signals linear in conductivity?"
   ]
  },
  {
   "cell_type": "code",
   "execution_count": null,
   "metadata": {},
   "outputs": [],
   "source": [
    "train_data = torch.load('data/datasets/train_dataset_3d.pt')"
   ]
  },
  {
   "cell_type": "code",
   "execution_count": null,
   "metadata": {},
   "outputs": [],
   "source": [
    "signals_5 = []\n",
    "signals_10 = []\n",
    "signals_15 = []\n",
    "signals_20 = []\n",
    "\n",
    "for case in train_data.case_files:\n",
    "    tmp = np.load('data/processed/3d_mask/'+case)\n",
    "    rho = np.unique(tmp['targets'])[3]\n",
    "    if rho == 1/5:\n",
    "        signals_5.append(tmp['signals'])\n",
    "    if rho == 1/10:\n",
    "        signals_10.append(tmp['signals'])\n",
    "    if rho == 1/15:\n",
    "        signals_15.append(tmp['signals'])\n",
    "    if rho == 1/20:\n",
    "        signals_20.append(tmp['signals'])"
   ]
  },
  {
   "cell_type": "code",
   "execution_count": null,
   "metadata": {},
   "outputs": [],
   "source": [
    "signals_5 = np.stack(signals_5, axis=0)\n",
    "signals_10 = np.stack(signals_10, axis=0)\n",
    "signals_15 = np.stack(signals_15, axis=0)\n",
    "signals_20 = np.stack(signals_20, axis=0)"
   ]
  },
  {
   "cell_type": "code",
   "execution_count": null,
   "metadata": {},
   "outputs": [],
   "source": [
    "data = np.load('/home/nibdombe/deep_eit/data/processed/3d_mask/case_TCIA_2_0/case_TCIA_2_0_15.npz')"
   ]
  },
  {
   "cell_type": "code",
   "execution_count": null,
   "metadata": {},
   "outputs": [],
   "source": [
    "np.unique(data['targets'])"
   ]
  },
  {
   "cell_type": "code",
   "execution_count": null,
   "metadata": {},
   "outputs": [],
   "source": [
    "signals_5.shape"
   ]
  },
  {
   "cell_type": "code",
   "execution_count": null,
   "metadata": {},
   "outputs": [],
   "source": [
    "np.corrcoef(np.vstack((signals_5[:,0].reshape(-1), signals_10[:,0].reshape(-1), signals_15[:,0].reshape(-1), signals_20[:,0].reshape(-1))))"
   ]
  },
  {
   "cell_type": "code",
   "execution_count": null,
   "metadata": {},
   "outputs": [],
   "source": [
    "np.quantile(signals_5.reshape(-1), q=[0.01, 0.1, 0.25, 0.5, 0.75, 0.9, 0.99])"
   ]
  },
  {
   "cell_type": "code",
   "execution_count": null,
   "metadata": {},
   "outputs": [],
   "source": [
    "signals_5.shape"
   ]
  },
  {
   "cell_type": "code",
   "execution_count": null,
   "metadata": {},
   "outputs": [],
   "source": [
    "fig, ax = plt.subplots()\n",
    "rhos = np.array([5.,10.,15.,20.])\n",
    "ax.scatter(rhos, np.array([signals_5[0,0,0],signals_10[0,0,0],signals_15[0,0,0],signals_20[0,0,0]]))\n",
    "ax.scatter(rhos, np.array([signals_5[0,0,1],signals_10[0,0,1],signals_15[0,0,1],signals_20[0,0,1]]), c='green')\n",
    "ax.scatter(rhos, np.array([signals_5[0,0,2],signals_10[0,0,2],signals_15[0,0,2],signals_20[0,0,2]]), c='red')\n",
    "ax.scatter(rhos, np.array([signals_5[0,0,3],signals_10[0,0,3],signals_15[0,0,3],signals_20[0,0,3]]), c='orange')"
   ]
  },
  {
   "cell_type": "code",
   "execution_count": null,
   "metadata": {},
   "outputs": [],
   "source": [
    "import numpy as np\n",
    "import matplotlib.pyplot as plt\n",
    "\n",
    "# Perform linear regression using numpy\n",
    "def linear_regression(x, y):\n",
    "    A = np.vstack([x, np.ones(len(x))]).T\n",
    "    m, c = np.linalg.lstsq(A, y, rcond=None)[0]\n",
    "    return m, c\n",
    "\n",
    "def make_reg(x,y):\n",
    "    # Perform linear regression on filtered data\n",
    "    m_final, c_final = linear_regression(x, y)\n",
    "    y_pred_final = m_final * x + c_final\n",
    "\n",
    "    # Plot data points\n",
    "    plt.scatter(x, y, color='blue', label='Data points')\n",
    "\n",
    "    # Plot regression line\n",
    "    plt.plot(x, y_pred_final, color='red', label=f'Regression line: y={m_final:.2f}x+{c_final:.2f}')\n",
    "\n",
    "    # Add labels, legend, and estimated parameters\n",
    "    plt.xlabel('Lung Resistivity')\n",
    "    plt.ylabel('Voltages')\n",
    "    plt.legend()\n",
    "\n",
    "    # Show estimated parameters on the plot\n",
    "    plt.text(0.05, 0.95, f'y = {m_final:.2f}x + {c_final:.2f}', transform=plt.gca().transAxes,\n",
    "            fontsize=12, verticalalignment='top', bbox=dict(facecolor='white', alpha=0.5))\n",
    "\n",
    "    # Show plot\n",
    "    plt.show()\n"
   ]
  },
  {
   "cell_type": "code",
   "execution_count": null,
   "metadata": {},
   "outputs": [],
   "source": [
    "for i in range(100):\n",
    "    # Create example data\n",
    "    x = rhos\n",
    "    y = np.array([signals_5[0,0,i],signals_10[0,0,i],signals_15[0,0,i],signals_20[0,0,i]])\n",
    "\n",
    "    make_reg(x,y)"
   ]
  },
  {
   "cell_type": "code",
   "execution_count": null,
   "metadata": {},
   "outputs": [],
   "source": [
    "import numpy as np\n",
    "import matplotlib.pyplot as plt\n",
    "\n",
    "# Create example data\n",
    "x=signals_5[:,0,0].reshape(-1)\n",
    "y=signals_20[:,0,0].reshape(-1)\n",
    "\n",
    "# Determine the 90th percentile for both arrays\n",
    "x_threshold = np.percentile(x, 90)\n",
    "y_threshold = np.percentile(y, 90)\n",
    "\n",
    "# Filter out values higher than the 90th percentile in either array\n",
    "mask = (x <= x_threshold) & (y <= y_threshold)\n",
    "x_filtered = x[mask]\n",
    "y_filtered = y[mask]\n",
    "\n",
    "# Perform linear regression using numpy\n",
    "def linear_regression(x, y):\n",
    "    A = np.vstack([x, np.ones(len(x))]).T\n",
    "    m, c = np.linalg.lstsq(A, y, rcond=None)[0]\n",
    "    return m, c\n",
    "\n",
    "# Perform linear regression on filtered data\n",
    "m_final, c_final = linear_regression(x_filtered, y_filtered)\n",
    "y_pred_final = m_final * x_filtered + c_final\n",
    "\n",
    "# Plot data points\n",
    "plt.scatter(x_filtered, y_filtered, color='blue', label='Data points')\n",
    "\n",
    "# Plot regression line\n",
    "plt.plot(x_filtered, y_pred_final, color='red', label=f'Regression line: y={m_final:.2f}x+{c_final:.2f}')\n",
    "\n",
    "# Add labels, legend, and estimated parameters\n",
    "plt.xlabel('X values')\n",
    "plt.ylabel('Y values')\n",
    "plt.title('Linear Regression after Filtering')\n",
    "plt.legend()\n",
    "\n",
    "# Show estimated parameters on the plot\n",
    "plt.text(0.05, 0.95, f'y = {m_final:.2f}x + {c_final:.2f}', transform=plt.gca().transAxes,\n",
    "         fontsize=12, verticalalignment='top', bbox=dict(facecolor='white', alpha=0.5))\n",
    "\n",
    "# Show plot\n",
    "plt.show()\n"
   ]
  },
  {
   "cell_type": "code",
   "execution_count": null,
   "metadata": {},
   "outputs": [],
   "source": [
    "plt.scatter(signals_5[0,1], signals_10[0,1])"
   ]
  },
  {
   "cell_type": "markdown",
   "metadata": {},
   "source": []
  },
  {
   "cell_type": "markdown",
   "metadata": {},
   "source": [
    "# Make 3d points"
   ]
  },
  {
   "cell_type": "code",
   "execution_count": null,
   "metadata": {},
   "outputs": [],
   "source": [
    "cfg.data.processed_data_folder = 'data/processed/3d'\n",
    "cases = get_all_cases(cfg, base_dir='', use_raw=True)"
   ]
  },
  {
   "cell_type": "code",
   "execution_count": null,
   "metadata": {},
   "outputs": [],
   "source": [
    "cases = ['case_TCIA_110_0']"
   ]
  },
  {
   "cell_type": "code",
   "execution_count": null,
   "metadata": {},
   "outputs": [],
   "source": [
    "write_npz_case_3d(cases[0], resolution=512, electrode_resolution=512, all_signals=True, points_3d=True)"
   ]
  },
  {
   "cell_type": "code",
   "execution_count": null,
   "metadata": {},
   "outputs": [],
   "source": [
    "train_dataset, val_dataset, test_dataset = load_dataset_3d(cases,\n",
    "                write_dataset=False, write_npz=True, points_3d=True, processed_data_folder='data/processed/3d', overwrite_npz=False, \n",
    "                base_dir='', resolution=512, electrode_resolution=512, all_signals=True)"
   ]
  },
  {
   "cell_type": "code",
   "execution_count": null,
   "metadata": {},
   "outputs": [],
   "source": [
    "train_dataset.training = False\n",
    "points_max = []\n",
    "points_min = []\n",
    "for p, s, e, m, t in tqdm(train_dataset):\n",
    "    points_max.append(p.max(dim=0).values)\n",
    "    points_min.append(p.min(dim=0).values)"
   ]
  },
  {
   "cell_type": "code",
   "execution_count": null,
   "metadata": {},
   "outputs": [],
   "source": [
    "print(torch.stack(points_max).max(dim=0),\n",
    "      torch.stack(points_min).min(dim=0))"
   ]
  },
  {
   "cell_type": "code",
   "execution_count": null,
   "metadata": {},
   "outputs": [],
   "source": [
    "tmp = torch.stack(points_max)"
   ]
  },
  {
   "cell_type": "code",
   "execution_count": null,
   "metadata": {},
   "outputs": [],
   "source": [
    "tmp = tmp + 0.2 "
   ]
  },
  {
   "cell_type": "code",
   "execution_count": null,
   "metadata": {},
   "outputs": [],
   "source": [
    "torch.any(torch.logical_or(tmp > 1, tmp < -1), dim=1)"
   ]
  },
  {
   "cell_type": "code",
   "execution_count": null,
   "metadata": {},
   "outputs": [],
   "source": [
    "torch.any((tmp > 1) + (tmp < -1), dim=1)"
   ]
  },
  {
   "cell_type": "code",
   "execution_count": null,
   "metadata": {},
   "outputs": [],
   "source": [
    "torch.where(tmp > 1 or tmp < -1)"
   ]
  },
  {
   "cell_type": "code",
   "execution_count": null,
   "metadata": {},
   "outputs": [],
   "source": [
    "fig, axes = plt.subplots(1,8)\n",
    "tmp_points = train_dataset.points.reshape(8, 4, -1, 8, 3)\n",
    "for i in range(8):\n",
    "    # axes[i].imshow(train_dataset.targets[4,0,:,:,i], cmap=cmap)\n",
    "    axes[i].scatter(tmp_points[0,0,:,i,0], tmp_points[0,0,:,i,1], marker='.', c=(train_dataset.targets[0,0,:,:,i].reshape(-1)), cmap=cmap, s=1)\n"
   ]
  },
  {
   "cell_type": "code",
   "execution_count": null,
   "metadata": {},
   "outputs": [],
   "source": [
    "test = np.load('/home/nibdombe/deep_eit/data/processed/case_TCIA_2_0.npz')"
   ]
  },
  {
   "cell_type": "code",
   "execution_count": null,
   "metadata": {},
   "outputs": [],
   "source": [
    "targets = test['targets']\n",
    "targets = np.moveaxis(targets.reshape(4,4,512,512,1),0,1)"
   ]
  },
  {
   "cell_type": "code",
   "execution_count": null,
   "metadata": {},
   "outputs": [],
   "source": [
    "test['points'].shape"
   ]
  },
  {
   "cell_type": "code",
   "execution_count": null,
   "metadata": {},
   "outputs": [],
   "source": [
    "plt.imshow(targets[0,2], cmap=cmap)"
   ]
  },
  {
   "cell_type": "code",
   "execution_count": null,
   "metadata": {},
   "outputs": [],
   "source": [
    "targets.shape"
   ]
  },
  {
   "cell_type": "markdown",
   "metadata": {},
   "source": [
    "# Show slice from .nas"
   ]
  },
  {
   "cell_type": "code",
   "execution_count": null,
   "metadata": {},
   "outputs": [],
   "source": [
    "from data_processing.preprocessing import load_mask_target_electrodes\n",
    "import matplotlib.pyplot as plt"
   ]
  },
  {
   "cell_type": "code",
   "execution_count": null,
   "metadata": {},
   "outputs": [],
   "source": [
    "mesh_data = load_mask_target_electrodes('/home/nibdombe/deep_eit/data/raw/case_TCIA_250_0', resolution=512)"
   ]
  },
  {
   "cell_type": "code",
   "execution_count": null,
   "metadata": {},
   "outputs": [],
   "source": [
    "fig, axes = plt.subplots(2, 4, figsize=(30, 10))\n",
    "for i in range(4):\n",
    "    axes[0,i].imshow(mesh_data[0][i])\n",
    "    axes[0,i].axis('off')\n",
    "    axes[0,i].scatter(mesh_data[-1][i][:,0], mesh_data[-1][i][:,1], marker='x', c='r')\n",
    "    axes[1,i].imshow(mesh_data[1][i])\n",
    "    axes[1,i].axis('off')\n",
    "    axes[1,i].scatter(mesh_data[-1][i][:,0], mesh_data[-1][i][:,1], marker='x', c='r')\n",
    "\n"
   ]
  },
  {
   "cell_type": "markdown",
   "metadata": {},
   "source": [
    "# Check data from .npz files"
   ]
  },
  {
   "cell_type": "code",
   "execution_count": null,
   "metadata": {},
   "outputs": [],
   "source": [
    "import numpy as np\n",
    "import matplotlib.pyplot as plt\n",
    "import seaborn as sns"
   ]
  },
  {
   "cell_type": "markdown",
   "metadata": {},
   "source": [
    "## Individual case"
   ]
  },
  {
   "cell_type": "code",
   "execution_count": null,
   "metadata": {},
   "outputs": [],
   "source": [
    "data = np.load('/home/nibdombe/deep_eit/data/processed/3d/case_TCIA_2_0/case_TCIA_2_0_20.npz')\n",
    "print(\n",
    "    data['targets'].shape,\n",
    "    data['points'].shape,\n",
    "    data['electrodes'].shape,\n",
    "    data['masks'].shape,\n",
    "    data['signals'].shape\n",
    ")"
   ]
  },
  {
   "cell_type": "code",
   "execution_count": null,
   "metadata": {},
   "outputs": [],
   "source": [
    "targets = data['targets']\n",
    "points = data['points']\n",
    "electrodes = data['electrodes']"
   ]
  },
  {
   "cell_type": "code",
   "execution_count": null,
   "metadata": {},
   "outputs": [],
   "source": [
    "fig, axes = plt.subplots(3, 2, figsize=(10, 3))\n",
    "for i, ax in enumerate(axes.flatten()):\n",
    "    # ax.imshow(targets[i], cmap=cmap)\n",
    "    ax.axis('off')\n",
    "    ax.scatter(points[i][:,0], points[i][:,1], marker='.', c=(targets[i].reshape(-1)), cmap=cmap, s=1)\n",
    "    # ax.scatter(electrodes[i][0,0],electrodes[i][0,1], marker='x', c='r', s=50)"
   ]
  },
  {
   "cell_type": "markdown",
   "metadata": {},
   "source": [
    "## Check all cases"
   ]
  },
  {
   "cell_type": "code",
   "execution_count": null,
   "metadata": {},
   "outputs": [],
   "source": [
    "path = '/home/nibdombe/deep_eit/data/processed/'\n",
    "cases = os.listdir(path)\n",
    "cases = [case for case in cases if fnmatch.fnmatch(case, 'case_TCIA*')]\n"
   ]
  },
  {
   "cell_type": "markdown",
   "metadata": {},
   "source": [
    "### Electrode position"
   ]
  },
  {
   "cell_type": "code",
   "execution_count": null,
   "metadata": {},
   "outputs": [],
   "source": [
    "for i, case in enumerate(tqdm(cases)):\n",
    "    case_path = os.path.join(path, case) \n",
    "    data = np.load(case_path)\n",
    "    targets = data['targets']\n",
    "    points = data['points']\n",
    "    electrodes = data['electrodes']\n",
    "    idx = np.where(targets[0].reshape(-1) != 0.)[0]\n",
    "    rel_points = points[0][idx]\n",
    "    min_x = np.min(rel_points[:,0])\n",
    "    max_x = np.max(rel_points[:,0])\n",
    "    min_y = np.min(rel_points[:,1])\n",
    "    max_y = np.max(rel_points[:,1])\n",
    "    \n",
    "    min_x_electrodes = np.min(electrodes[0][:,0])\n",
    "    max_x_electrodes = np.max(electrodes[0][:,0])\n",
    "    min_y_electrodes = np.min(electrodes[0][:,1])\n",
    "    max_y_electrodes = np.max(electrodes[0][:,1])\n",
    "\n",
    "    distances = np.array([min_x - min_x_electrodes,\n",
    "        max_x - max_x_electrodes,\n",
    "        min_y - min_y_electrodes,\n",
    "        max_y - max_y_electrodes])\n",
    "    if np.any(np.abs(distances) > 0.01):\n",
    "        fig, ax = plt.subplots(1, 1, figsize=(3, 3))\n",
    "        ax.axis('off')\n",
    "        ax.scatter(points[0][:,0], points[0][:,1], marker='.', c=(targets[0].reshape(-1)), cmap=cmap, s=1)\n",
    "        ax.scatter(electrodes[0][:,0],electrodes[0][:,1], marker='x', c='r', s=50)\n",
    "        ax.set_title(case)\n",
    "        plt.show()\n",
    "        plt.close()"
   ]
  },
  {
   "cell_type": "markdown",
   "metadata": {},
   "source": [
    "# Check signals scale"
   ]
  },
  {
   "cell_type": "code",
   "execution_count": null,
   "metadata": {},
   "outputs": [],
   "source": [
    "for i, case in enumerate(tqdm(cases)):\n",
    "    case_path = os.path.join(path, case) \n",
    "    data = np.load(case_path)\n",
    "    signals = data['targets']\n",
    "    plt.hist(signals[0].flatten())\n",
    "    plt.show()"
   ]
  },
  {
   "cell_type": "markdown",
   "metadata": {},
   "source": [
    "## Check all cases visually"
   ]
  },
  {
   "cell_type": "code",
   "execution_count": null,
   "metadata": {},
   "outputs": [],
   "source": [
    "for i, case in enumerate(cases):\n",
    "    case_path = os.path.join(path, case) \n",
    "    data = np.load(case_path)\n",
    "    targets = data['targets']\n",
    "    points = data['points']\n",
    "    electrodes = data['electrodes']\n",
    "    fig, ax = plt.subplots(1, 1, figsize=(3, 3))\n",
    "    ax.axis('off')\n",
    "    ax.scatter(points[0][:,0], points[0][:,1], marker='.', c=(targets[0].reshape(-1)), cmap=cmap, s=1)\n",
    "    ax.scatter(electrodes[0][:3,0],electrodes[0][:3,1], marker='x', c='r', s=50)\n",
    "    ax.set_title(case)\n",
    "    ax.set_xlim(-1,1)\n",
    "    ax.set_ylim(-1,1)\n",
    "    plt.show()\n",
    "    plt.close()\n"
   ]
  },
  {
   "cell_type": "markdown",
   "metadata": {},
   "source": [
    "# Check dataset files"
   ]
  },
  {
   "cell_type": "code",
   "execution_count": null,
   "metadata": {},
   "outputs": [],
   "source": [
    "train_dataset = torch.load('data/datasets/train_dataset.pt')"
   ]
  },
  {
   "cell_type": "code",
   "execution_count": null,
   "metadata": {},
   "outputs": [],
   "source": [
    "train_dataset.cases"
   ]
  },
  {
   "cell_type": "code",
   "execution_count": null,
   "metadata": {},
   "outputs": [],
   "source": [
    "len(train_dataset.cases)"
   ]
  },
  {
   "cell_type": "code",
   "execution_count": null,
   "metadata": {},
   "outputs": [],
   "source": [
    "for i in range(len(train_dataset)):\n",
    "    targets = train_dataset.targets[i]\n",
    "    points = train_dataset.points[i]\n",
    "    electrodes = train_dataset.electrodes[i,:,0,0]\n",
    "    case = train_dataset.cases[i]\n",
    "    fig, ax = plt.subplots(1, 1, figsize=(3, 3))\n",
    "    ax.axis('off')\n",
    "    ax.scatter(points[:,0], points[:,1], marker='.', c=(targets.reshape(-1)), cmap=cmap, s=1)\n",
    "    ax.scatter(electrodes[:3,0],electrodes[:3,1], marker='x', c='r', s=50)\n",
    "    ax.set_title(case)\n",
    "    ax.set_xlim(-1,1)\n",
    "    ax.set_ylim(-1,1)\n",
    "    plt.show()\n",
    "    plt.close()\n",
    "    if i==10:\n",
    "        break"
   ]
  },
  {
   "cell_type": "code",
   "execution_count": null,
   "metadata": {},
   "outputs": [],
   "source": [
    "electrodes.shape"
   ]
  },
  {
   "cell_type": "code",
   "execution_count": null,
   "metadata": {},
   "outputs": [],
   "source": [
    "case = 'case_TCIA_25_0.npz'\n",
    "case_path = os.path.join(path, case) \n",
    "data = np.load(case_path)\n",
    "targets = data['targets']\n",
    "points = data['points']\n",
    "electrodes = data['electrodes']\n",
    "fig, ax = plt.subplots(1, 1, figsize=(3, 3))\n",
    "ax.scatter(points[0][:,0], points[0][:,1], marker='.', c=(targets[0].reshape(-1)), cmap=cmap, s=1)\n",
    "ax.scatter(electrodes[0][:16,0], electrodes[0][:16,1], marker='x', c='r', s=50)\n",
    "ax.set_title(case)\n",
    "plt.show()\n",
    "plt.close()\n"
   ]
  },
  {
   "cell_type": "code",
   "execution_count": null,
   "metadata": {},
   "outputs": [],
   "source": [
    "electrodes[0]"
   ]
  },
  {
   "cell_type": "code",
   "execution_count": null,
   "metadata": {},
   "outputs": [],
   "source": [
    "for i, case in enumerate(cases):\n",
    "    case_path = os.path.join(path, case) \n",
    "    data = np.load(case_path)\n",
    "    targets = data['targets']\n",
    "    points = data['points']\n",
    "    electrodes = data['electrodes']\n",
    "    fig, ax = plt.subplots(1, 1, figsize=(3, 3))\n",
    "    ax.axis('off')\n",
    "    ax.scatter(points[0][:,0], points[0][:,1], marker='.', c=(targets[0].reshape(-1)), cmap=cmap, s=1)\n",
    "    ax.scatter(electrodes[0][:3,0],electrodes[0][:3,1], marker='x', c='r', s=50)\n",
    "    ax.set_title(case)\n",
    "    plt.show()\n",
    "    plt.close()\n"
   ]
  },
  {
   "cell_type": "code",
   "execution_count": null,
   "metadata": {},
   "outputs": [],
   "source": [
    "fig, axes = plt.subplots(2, 4, figsize=(30, 10))\n",
    "for i, ax in enumerate(axes.flatten()):\n",
    "    ax.scatter(points[i][:,0], points[i][:,1], marker='.', c=(targets[i].reshape(-1)))\n",
    "    ax.axis('off')\n",
    "    ax.scatter(electrodes[i][:,0], electrodes[i][:,1], marker='x', c='r')"
   ]
  },
  {
   "cell_type": "code",
   "execution_count": null,
   "metadata": {},
   "outputs": [],
   "source": [
    "from matplotlib.colors import LinearSegmentedColormap\n",
    "\n",
    "# Define the colors and their positions in the colormap\n",
    "colors = [(1., 1., 1),   # blue\n",
    "          (0.1, 0.1, 1), # light blue\n",
    "          (1, 0.8, 0.4), # yellow\n",
    "          (0.8, 0, 0)]     # red\n",
    "positions = [0.0, 0.05, 0.2, 1.0]\n",
    "\n",
    "# Create the colormap\n",
    "cmap = LinearSegmentedColormap.from_list('custom_colormap', list(zip(positions, colors)))\n",
    "\n"
   ]
  },
  {
   "cell_type": "code",
   "execution_count": null,
   "metadata": {},
   "outputs": [],
   "source": [
    "fig, axes = plt.subplots(2, 4, figsize=(30, 10))\n",
    "for i, ax in enumerate(axes.flatten()):\n",
    "    sns.heatmap(targets[i].squeeze(), cmap=cmap, ax=ax)\n",
    "    ax.axis('off')\n",
    "    ax.scatter(electrodes[i][:,0], electrodes[i][:,1], marker='x', c='r', legend='Electrodes')"
   ]
  },
  {
   "cell_type": "markdown",
   "metadata": {},
   "source": [
    "# Load from datasets"
   ]
  },
  {
   "cell_type": "code",
   "execution_count": null,
   "metadata": {},
   "outputs": [],
   "source": [
    "import torch\n",
    "import matplotlib.pyplot as plt\n",
    "import numpy as np"
   ]
  },
  {
   "cell_type": "code",
   "execution_count": null,
   "metadata": {},
   "outputs": [],
   "source": [
    "dataset = torch.load('/home/nibdombe/deep_eit/data/datasets/train_dataset.pt')"
   ]
  },
  {
   "cell_type": "code",
   "execution_count": null,
   "metadata": {},
   "outputs": [],
   "source": [
    "data = np.load('/home/nibdombe/deep_eit/data/processed/3d/case_TCIA_194_0/case_TCIA_194_0_5.npz')"
   ]
  },
  {
   "cell_type": "code",
   "execution_count": null,
   "metadata": {},
   "outputs": [],
   "source": [
    "points = data['points'][0]\n",
    "targets = data['targets'][0]\n",
    "electrodes = data['electrodes'][0][:,0, 0]"
   ]
  },
  {
   "cell_type": "markdown",
   "metadata": {},
   "source": [
    "### random translation"
   ]
  },
  {
   "cell_type": "code",
   "execution_count": null,
   "metadata": {},
   "outputs": [],
   "source": [
    "cmap = make_cmap()\n",
    "n_col = 4\n",
    "fig, axes = plt.subplots(1, n_col, figsize=(int(n_col*5), 5))\n",
    "translations_x = [0.05, -0.1, 0.1, -0.05]\n",
    "translations_y = [-0.1, 0.05, 0.05, 0.1]\n",
    "translations_z = [0, 0, 0, 0]\n",
    "for i, ax in enumerate(axes.flatten()):\n",
    "    scale = 0.025\n",
    "    translation_x = translations_x[i]\n",
    "    translation_y = translations_y[i]\n",
    "    translation_z = translations_z[i]\n",
    "    translation = np.array([translation_x, translation_y, translation_z]).reshape(3)\n",
    "    trans_points = points + translation\n",
    "    trans_electrode = electrodes.copy() + translation\n",
    "    # ax.imshow(t.squeeze())\n",
    "    ax.scatter(trans_points[:,0], -1*trans_points[:,1], marker='x', c=targets.flatten(), s=.1, cmap=cmap)\n",
    "    ax.scatter(trans_electrode[:,0], -1*trans_electrode[:,1], marker='x', c='r', s=20, label='Electrodes')\n",
    "    ax.set_xlim(-0.3, 0.3)\n",
    "    ax.set_ylim(-0.3, 0.3)\n",
    "    ax.xaxis.set_ticks([])\n",
    "    ax.yaxis.set_ticks([])\n",
    "    ax.set_xlabel('')\n",
    "    ax.set_ylabel('')\n",
    "    if i==0:\n",
    "        ax.legend()"
   ]
  },
  {
   "cell_type": "code",
   "execution_count": null,
   "metadata": {},
   "outputs": [],
   "source": [
    "electrodes.shape"
   ]
  },
  {
   "cell_type": "code",
   "execution_count": null,
   "metadata": {},
   "outputs": [],
   "source": [
    "cmap = make_cmap()\n",
    "n_col = 4\n",
    "fig, axes = plt.subplots(1, n_col, figsize=(int(n_col*5), 5))\n",
    "rotation_angles = np.linspace(0, 2 * np.pi, n_col+2)[1:]\n",
    "\n",
    "\n",
    "for i, ax in enumerate(axes.flatten()):\n",
    "    rotation_angle = rotation_angles[i]\n",
    "    rotation_matrix = np.array([[np.cos(rotation_angle), -np.sin(rotation_angle)],\n",
    "                                    [np.sin(rotation_angle), np.cos(rotation_angle)]])\n",
    "    \n",
    "    rot_points = points.copy()\n",
    "    rot_points[:,:2] = np.matmul(rot_points[:,:2], rotation_matrix)\n",
    "    rot_electrode = electrodes.copy()\n",
    "    rot_electrode[:,:2] = np.matmul(rot_electrode[:,:2], rotation_matrix)\n",
    "    # ax.imshow(t.squeeze())\n",
    "    ax.scatter(rot_points[:,0], -1*rot_points[:,1], marker='x', c=targets.flatten(), s=.1, cmap=cmap)\n",
    "    ax.scatter(rot_electrode[:,0], -1*rot_electrode[:,1], marker='x', c='r', s=20, label='Electrodes')\n",
    "    # ax.scatter(c[:,0], -1*c[:,1], marker='o', c='y', s=20, label='E-Center')\n",
    "    # ax.scatter(0, 0, marker='o', c='white', edgecolors='black', s=60, label='Rotation Origin')\n",
    "    # ax.annotate('', xy=(e[0,0], -1*e[0,1]), xytext=(0, 0),\n",
    "    #              arrowprops=dict(facecolor='red', shrink=0.1))\n",
    "    # ax.annotate('', xy=(e[1,0], -1*e[1,1]), xytext=(0, 0),\n",
    "    #              arrowprops=dict(facecolor='red', shrink=0.1))\n",
    "    # ax.annotate('', xy=(c[0,0], -1*c[0,1]), xytext=(0, 0),\n",
    "    #              arrowprops=dict(facecolor='y', shrink=0.1))\n",
    "    ax.set_xlim(-0.3, 0.3)\n",
    "    ax.set_ylim(-0.3, 0.3)\n",
    "    ax.xaxis.set_ticks([])\n",
    "    ax.yaxis.set_ticks([])\n",
    "    ax.set_xlabel('')\n",
    "    ax.set_ylabel('')\n",
    "    if i==0:\n",
    "        ax.legend()"
   ]
  },
  {
   "cell_type": "code",
   "execution_count": null,
   "metadata": {},
   "outputs": [],
   "source": [
    "def show_rotation(angles):\n",
    "    if isinstance(angles, int):\n",
    "        angles = [angles]\n",
    "    fig, axes = plt.subplots(1, len(angles), figsize=(int(5*len(angles)), 5))\n",
    "    if len(angles) == 1:\n",
    "        axes = [axes]\n",
    "    for i, angle in enumerate(angles):\n",
    "        rad_angle = torch.deg2rad(torch.tensor(angle))\n",
    "        rot = dataset._random_rotation_matrix(rotation_angle=rad_angle)\n",
    "        e_rot = torch.matmul(e, rot)\n",
    "        p_rot = torch.matmul(p[:,:2].float(), rot)\n",
    "        c_rot = torch.matmul(torch.from_numpy(c), rot)\n",
    "\n",
    "        # fig, ax = plt.subplots(figsize=(5, 5))\n",
    "        # ax.imshow(t.squeeze())\n",
    "        axes[i].scatter(p_rot[:,0], -1*p_rot[:,1], marker='x', c=t.flatten(), s=.1, cmap=cmap)\n",
    "        axes[i].scatter(e_rot[:,0], -1*e_rot[:,1], marker='x', c='r', s=20, label='Electrodes')\n",
    "        axes[i].scatter(c_rot[:,0], -1*c_rot[:,1], marker='o', c='y', s=20, label='E-Center')\n",
    "        axes[i].scatter(0, 0, marker='o', c='white', edgecolors='black', s=60, label='Rotation Origin')\n",
    "        axes[i].annotate('', xy=(e_rot[0,0], -1*e_rot[0,1]), xytext=(0, 0),\n",
    "                    arrowprops=dict(facecolor='red', shrink=0.1))\n",
    "        axes[i].annotate('', xy=(e_rot[1,0], -1*e_rot[1,1]), xytext=(0, 0),\n",
    "                    arrowprops=dict(facecolor='red', shrink=0.1))\n",
    "        axes[i].annotate('', xy=(c_rot[0,0], -1*c_rot[0,1]), xytext=(0, 0),\n",
    "                    arrowprops=dict(facecolor='y', shrink=0.1))\n",
    "        axes[i].set_xlim(-1, 1)\n",
    "        axes[i].set_ylim(-1, 1)\n",
    "        axes[i]. set_title(f'Rotation Angle: {angle}')\n",
    "        if i == len(angles)-1:\n",
    "            axes[i].legend()\n"
   ]
  },
  {
   "cell_type": "code",
   "execution_count": null,
   "metadata": {},
   "outputs": [],
   "source": [
    "show_rotation([0, 90, 180,360])"
   ]
  },
  {
   "cell_type": "code",
   "execution_count": null,
   "metadata": {},
   "outputs": [],
   "source": [
    "from torch.utils.data import DataLoader\n",
    "dl = DataLoader(dataset, batch_size=3, shuffle=True)"
   ]
  },
  {
   "cell_type": "code",
   "execution_count": null,
   "metadata": {},
   "outputs": [],
   "source": [
    "for p, _, s, e, m, t in dl:\n",
    "    points = p\n",
    "    targets = t\n",
    "    electrodes = e\n",
    "    break"
   ]
  },
  {
   "cell_type": "code",
   "execution_count": null,
   "metadata": {},
   "outputs": [],
   "source": [
    "rot = dataset._random_rotation_matrix(torch.deg2rad(torch.tensor(90)))"
   ]
  },
  {
   "cell_type": "code",
   "execution_count": null,
   "metadata": {},
   "outputs": [],
   "source": [
    "plt.scatter(electrodes[0,:,0,0,0], electrodes[0,:,0,0,1], marker='x', c='r')\n",
    "plt.scatter(points[0,::2,0], points[0,::2,1], marker='x',s=0.01, c=targets[0,::2])\n",
    "\n",
    "plt.axis('equal')\n",
    "plt.xlim(-1,1)\n",
    "plt.ylim(-1,1)\n"
   ]
  },
  {
   "cell_type": "code",
   "execution_count": null,
   "metadata": {},
   "outputs": [],
   "source": [
    "electrodes_rot = torch.matmul(electrodes[:,:,:,:,:2], rot)\n",
    "points_rot = torch.matmul(points, rot)"
   ]
  },
  {
   "cell_type": "code",
   "execution_count": null,
   "metadata": {},
   "outputs": [],
   "source": [
    "plt.scatter(electrodes_rot[0,:,0,0,0], electrodes_rot[0,:,0,0,1], marker='x', c='r')\n",
    "plt.scatter(points_rot[0,::2,0], points_rot[0,::2,1], marker='x',s=0.01, c=targets[0,::2])\n",
    "plt.axis('equal')\n",
    "plt.xlim(-1,1)\n",
    "plt.ylim(-1,1)\n"
   ]
  },
  {
   "cell_type": "code",
   "execution_count": null,
   "metadata": {},
   "outputs": [],
   "source": [
    "points.shape"
   ]
  },
  {
   "cell_type": "code",
   "execution_count": null,
   "metadata": {},
   "outputs": [],
   "source": []
  },
  {
   "cell_type": "markdown",
   "metadata": {},
   "source": [
    "# Compare generated targets with Anita's targets"
   ]
  },
  {
   "cell_type": "code",
   "execution_count": null,
   "metadata": {},
   "outputs": [],
   "source": [
    "import numpy as np\n",
    "import scipy.io as sio\n",
    "import matplotlib.pyplot as plt\n",
    "import seaborn as sns"
   ]
  },
  {
   "cell_type": "code",
   "execution_count": null,
   "metadata": {},
   "outputs": [],
   "source": [
    "toy = np.load('/work/deep_eit/data/processed/case_TCIA_53_0.npz', allow_pickle=True)"
   ]
  },
  {
   "cell_type": "code",
   "execution_count": null,
   "metadata": {},
   "outputs": [],
   "source": [
    "toy['targets'].shape"
   ]
  },
  {
   "cell_type": "code",
   "execution_count": null,
   "metadata": {},
   "outputs": [],
   "source": [
    "fig, axes = plt.subplots(1, 2, figsize=(15, 5))\n",
    "sns.heatmap(toy['targets'][0].squeeze(), ax=axes[0])\n",
    "axes[0].axis('off')\n",
    "sns.heatmap(toy['targets'][1].squeeze(), ax=axes[1])"
   ]
  },
  {
   "cell_type": "code",
   "execution_count": null,
   "metadata": {},
   "outputs": [],
   "source": [
    "anita_target = sio.loadmat('/work/deep_eit/data/raw/case_TCIA_53_0/targets/level_1.mat')['slice_z1']\n",
    "anita_target = np.where(np.isnan(anita_target), 0, anita_target)\n",
    "anita_target = np.moveaxis(anita_target, 0, 1)"
   ]
  },
  {
   "cell_type": "code",
   "execution_count": null,
   "metadata": {},
   "outputs": [],
   "source": [
    "fig, axes = plt.subplots(1, 2, figsize=(15, 5))\n",
    "sns.heatmap(toy['targets'][0].squeeze(), ax=axes[0], vmax=1)\n",
    "axes[0].axis('off')\n",
    "sns.heatmap(anita_target, ax=axes[1], vmax=1)\n",
    "axes[1].axis('off')\n"
   ]
  },
  {
   "cell_type": "code",
   "execution_count": null,
   "metadata": {},
   "outputs": [],
   "source": [
    "anita_target.shape"
   ]
  },
  {
   "cell_type": "code",
   "execution_count": null,
   "metadata": {},
   "outputs": [],
   "source": [
    "np.unique(anita_target)"
   ]
  },
  {
   "cell_type": "code",
   "execution_count": null,
   "metadata": {},
   "outputs": [],
   "source": [
    "import os\n"
   ]
  },
  {
   "cell_type": "code",
   "execution_count": null,
   "metadata": {},
   "outputs": [],
   "source": [
    "import numpy as np\n",
    "import cv2\n",
    "import matplotlib.pyplot as plt\n",
    "import torch\n",
    "import torchvision.transforms.functional as TF"
   ]
  },
  {
   "cell_type": "code",
   "execution_count": null,
   "metadata": {},
   "outputs": [],
   "source": [
    "from data_processing.mesh_to_array import mesh_to_image"
   ]
  },
  {
   "cell_type": "code",
   "execution_count": null,
   "metadata": {},
   "outputs": [],
   "source": [
    "mesh = '/home/nibdombe/deep_eit/data/raw/case_TCIA_21_0/shape/mesh.vtk'   "
   ]
  },
  {
   "cell_type": "code",
   "execution_count": null,
   "metadata": {},
   "outputs": [],
   "source": [
    "res = mesh_to_image(mesh, resolution=512)"
   ]
  },
  {
   "cell_type": "code",
   "execution_count": null,
   "metadata": {},
   "outputs": [],
   "source": [
    "points = np.asarray(res[1].points)"
   ]
  },
  {
   "cell_type": "code",
   "execution_count": null,
   "metadata": {},
   "outputs": [],
   "source": [
    "points.shape"
   ]
  },
  {
   "cell_type": "code",
   "execution_count": null,
   "metadata": {},
   "outputs": [],
   "source": [
    "points_re = points.reshape(512,512,3)"
   ]
  },
  {
   "cell_type": "code",
   "execution_count": null,
   "metadata": {},
   "outputs": [],
   "source": [
    "res[0].shape"
   ]
  },
  {
   "cell_type": "code",
   "execution_count": null,
   "metadata": {},
   "outputs": [],
   "source": [
    "plt.scatter(points[:,0], points[:,1], c=res[0].flatten())"
   ]
  },
  {
   "cell_type": "code",
   "execution_count": null,
   "metadata": {},
   "outputs": [],
   "source": [
    "points_res = points - np.mean(points, axis=0)\n",
    "plt.scatter(points_res[:,0], points_res[:,1], c=res[0].flatten())"
   ]
  },
  {
   "cell_type": "code",
   "execution_count": null,
   "metadata": {},
   "outputs": [],
   "source": [
    "from model.positional_encoding import positional_encoding\n",
    "import torch"
   ]
  },
  {
   "cell_type": "code",
   "execution_count": null,
   "metadata": {},
   "outputs": [],
   "source": [
    "coord = torch.tensor([[torch.pi,-torch.pi,torch.pi, 1],\n",
    "                     [4,5,6,5],\n",
    "                     [7,8,9,29]])\n",
    "print(coord.shape)                     "
   ]
  },
  {
   "cell_type": "code",
   "execution_count": null,
   "metadata": {},
   "outputs": [],
   "source": [
    "coord_pe = positional_encoding(coord, num_encoding_functions=2)\n",
    "print(coord_pe.shape)"
   ]
  },
  {
   "cell_type": "code",
   "execution_count": null,
   "metadata": {},
   "outputs": [],
   "source": [
    "coord_pe[0]"
   ]
  },
  {
   "cell_type": "code",
   "execution_count": null,
   "metadata": {},
   "outputs": [],
   "source": [
    "coord_pe_0 = positional_encoding(coord[0], num_encoding_functions=2)"
   ]
  },
  {
   "cell_type": "code",
   "execution_count": null,
   "metadata": {},
   "outputs": [],
   "source": [
    "print(coord_pe_0)\n",
    "print(coord_pe[0])"
   ]
  },
  {
   "cell_type": "code",
   "execution_count": null,
   "metadata": {},
   "outputs": [],
   "source": [
    "coord_more_dim = positional_encoding(coord.reshape(3,2,2), num_encoding_functions=2)"
   ]
  },
  {
   "cell_type": "code",
   "execution_count": null,
   "metadata": {},
   "outputs": [],
   "source": [
    "torch.all(coord_pe_0 == coord_more_dim[0].flatten())"
   ]
  },
  {
   "cell_type": "code",
   "execution_count": null,
   "metadata": {},
   "outputs": [],
   "source": [
    "coord_more_dim_pe = coord_more_dim[0].flatten()"
   ]
  },
  {
   "cell_type": "code",
   "execution_count": null,
   "metadata": {},
   "outputs": [],
   "source": [
    "torch.sort(coord_more_dim_pe)[0] == torch.sort(coord_pe_0)[0]"
   ]
  },
  {
   "cell_type": "code",
   "execution_count": null,
   "metadata": {},
   "outputs": [],
   "source": [
    "test_3 = np.load('/home/nibdombe/deep_eit/data/processed/3d_mask/case_TCIA_401_0/case_TCIA_401_0_3.npz')\n",
    "test_5 = np.load('/home/nibdombe/deep_eit/data/processed/3d_mask/case_TCIA_401_0/case_TCIA_401_0_5.npz')"
   ]
  },
  {
   "cell_type": "code",
   "execution_count": null,
   "metadata": {},
   "outputs": [],
   "source": [
    "signals_3 = test_3['signals']\n",
    "signals_5 = test_5['signals']"
   ]
  },
  {
   "cell_type": "code",
   "execution_count": null,
   "metadata": {},
   "outputs": [],
   "source": [
    "signals_5"
   ]
  },
  {
   "cell_type": "code",
   "execution_count": 3,
   "metadata": {},
   "outputs": [],
   "source": [
    "from data_processing.mesh_to_array import convert_to_vtk"
   ]
  },
  {
   "cell_type": "code",
   "execution_count": 4,
   "metadata": {},
   "outputs": [],
   "source": [
    "convert_to_vtk('/home/nibdombe/deep_eit/data/raw/case_9/shape/ME_EIT_06_tra_Exspiration_03resampled06_Mesh_extrudiert.nas')"
   ]
  },
  {
   "cell_type": "code",
   "execution_count": null,
   "metadata": {},
   "outputs": [],
   "source": []
  }
 ],
 "metadata": {
  "kernelspec": {
   "display_name": "deep_eit",
   "language": "python",
   "name": "python3"
  },
  "language_info": {
   "codemirror_mode": {
    "name": "ipython",
    "version": 3
   },
   "file_extension": ".py",
   "mimetype": "text/x-python",
   "name": "python",
   "nbconvert_exporter": "python",
   "pygments_lexer": "ipython3",
   "version": "3.10.13"
  }
 },
 "nbformat": 4,
 "nbformat_minor": 2
}
