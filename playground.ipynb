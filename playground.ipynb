{
 "cells": [
  {
   "cell_type": "code",
   "execution_count": 1,
   "metadata": {},
   "outputs": [],
   "source": [
    "import PIL\n",
    "import numpy as np\n",
    "import torch\n",
    "import matplotlib.pyplot as plt\n",
    "import vtk\n",
    "from vtk.util.numpy_support import vtk_to_numpy\n",
    "from tqdm import tqdm\n",
    "from scipy.optimize import minimize\n",
    "from vedo import *\n",
    "import meshio\n",
    "import seaborn as sns\n",
    "import pyvista as pv\n",
    "from data_processing.mesh_to_array import *\n",
    "import pandas as pd\n",
    "from matplotlib.colors import LinearSegmentedColormap\n",
    "from hydra import compose, initialize\n",
    "from omegaconf import OmegaConf\n",
    "from utils.helper import make_cmap, get_all_cases\n",
    "import fnmatch\n",
    "import cv2\n",
    "from data_processing.mesh_to_array import mesh_to_image\n",
    "from data_processing.dataset_3d import make_npz_3d, load_dataset_3d, make_dataset_3d, make_npz_3d_multi, write_npz_case_3d\n",
    "from data_processing.dataset_3d import change_rho\n",
    "from data_processing.preprocessing import load_signals\n",
    "# from data_processing.obj2py import read_get\n",
    "from utils.helper import make_cmap"
   ]
  },
  {
   "cell_type": "code",
   "execution_count": 13,
   "metadata": {},
   "outputs": [
    {
     "data": {
      "text/plain": [
       "(array([[[ 0.        ,  0.        ,  0.        , ...,  0.        ,\n",
       "           0.        ,  0.        ],\n",
       "         [ 0.        ,  0.        ,  0.        , ...,  0.        ,\n",
       "           0.        ,  0.        ],\n",
       "         [ 0.        ,  0.        ,  0.        , ...,  0.        ,\n",
       "           0.        ,  0.        ],\n",
       "         ...,\n",
       "         [ 0.        ,  0.        ,  0.        , ...,  0.        ,\n",
       "           0.        ,  0.        ],\n",
       "         [ 0.        ,  0.        ,  0.        , ...,  0.        ,\n",
       "           0.        ,  0.        ],\n",
       "         [ 0.        ,  0.        ,  0.        , ...,  0.        ,\n",
       "           0.        ,  0.        ]],\n",
       " \n",
       "        [[ 0.        ,  0.        , 11.51216507, ...,  1.9046129 ,\n",
       "           5.33557367,  0.        ],\n",
       "         [ 0.        ,  0.        ,  0.        , ...,  0.37056428,\n",
       "           0.69410956,  7.25867462],\n",
       "         [11.51205826,  0.        ,  0.        , ...,  0.19454066,\n",
       "           0.27288866,  1.93046832],\n",
       "         ...,\n",
       "         [ 1.90453196,  0.37046272,  0.19453616, ...,  0.        ,\n",
       "           0.        , 16.01811218],\n",
       "         [ 5.33533335,  0.69398981,  0.27285472, ...,  0.        ,\n",
       "           0.        ,  0.        ],\n",
       "         [ 7.25861502,  1.93068874,  0.83534616, ...,  0.        ,\n",
       "           0.        ,  0.        ]],\n",
       " \n",
       "        [[ 0.        ,  0.        ,  0.        , ...,  0.        ,\n",
       "           0.        ,  0.        ],\n",
       "         [ 0.        ,  0.        ,  0.        , ...,  0.        ,\n",
       "           0.        ,  0.        ],\n",
       "         [ 0.        ,  0.        ,  0.        , ...,  0.        ,\n",
       "           0.        ,  0.        ],\n",
       "         ...,\n",
       "         [ 0.        ,  0.        ,  0.        , ...,  0.        ,\n",
       "           0.        ,  0.        ],\n",
       "         [ 0.        ,  0.        ,  0.        , ...,  0.        ,\n",
       "           0.        ,  0.        ],\n",
       "         [ 0.        ,  0.        ,  0.        , ...,  0.        ,\n",
       "           0.        ,  0.        ]],\n",
       " \n",
       "        ...,\n",
       " \n",
       "        [[ 0.        ,  0.        , 12.87389851, ...,  1.7818619 ,\n",
       "           9.66934013,  0.        ],\n",
       "         [ 0.        ,  0.        ,  0.        , ...,  0.31902403,\n",
       "           1.0119561 ,  8.7835207 ],\n",
       "         [12.87403584,  0.        ,  0.        , ...,  0.17056844,\n",
       "           0.41856068,  2.12827301],\n",
       "         ...,\n",
       "         [ 1.78290594,  0.32174239,  0.16824374, ...,  0.        ,\n",
       "           0.        ,  8.40539169],\n",
       "         [ 9.66820621,  1.00935602,  0.42097858, ...,  0.        ,\n",
       "           0.        ,  0.        ],\n",
       "         [ 8.78365993,  2.1282177 ,  1.24047005, ...,  0.        ,\n",
       "           0.        ,  0.        ]],\n",
       " \n",
       "        [[ 0.        ,  0.        ,  0.        , ...,  0.        ,\n",
       "           0.        ,  0.        ],\n",
       "         [ 0.        ,  0.        ,  0.        , ...,  0.        ,\n",
       "           0.        ,  0.        ],\n",
       "         [ 0.        ,  0.        ,  0.        , ...,  0.        ,\n",
       "           0.        ,  0.        ],\n",
       "         ...,\n",
       "         [ 0.        ,  0.        ,  0.        , ...,  0.        ,\n",
       "           0.        ,  0.        ],\n",
       "         [ 0.        ,  0.        ,  0.        , ...,  0.        ,\n",
       "           0.        ,  0.        ],\n",
       "         [ 0.        ,  0.        ,  0.        , ...,  0.        ,\n",
       "           0.        ,  0.        ]],\n",
       " \n",
       "        [[ 0.        ,  0.        , 12.86809921, ...,  1.79091966,\n",
       "           9.67076588,  0.        ],\n",
       "         [ 0.        ,  0.        ,  0.        , ...,  0.32153264,\n",
       "           1.01335847,  8.77895546],\n",
       "         [12.8681879 ,  0.        ,  0.        , ...,  0.1723862 ,\n",
       "           0.41973186,  2.12634778],\n",
       "         ...,\n",
       "         [ 1.79214239,  0.32432038,  0.17006348, ...,  0.        ,\n",
       "           0.        ,  8.41975403],\n",
       "         [ 9.66951466,  1.0108062 ,  0.42203429, ...,  0.        ,\n",
       "           0.        ,  0.        ],\n",
       "         [ 8.77896309,  2.1264565 ,  1.24012911, ...,  0.        ,\n",
       "           0.        ,  0.        ]]]),\n",
       " array([ 3,  5,  8, 10, 13, 15, 18, 20,  3,  5,  8, 10, 13, 15, 18, 20,  3,\n",
       "         5,  8, 10, 13, 15, 18, 20,  3,  5,  8, 10, 13, 15, 18, 20]),\n",
       " array([1, 1, 1, 1, 1, 1, 1, 1, 2, 2, 2, 2, 2, 2, 2, 2, 3, 3, 3, 3, 3, 3,\n",
       "        3, 3, 4, 4, 4, 4, 4, 4, 4, 4]))"
      ]
     },
     "execution_count": 13,
     "metadata": {},
     "output_type": "execute_result"
    }
   ],
   "source": [
    "load_signals(dir = '/home/nibdombe/deep_eit/data/raw/case_TCIA_404_0/')"
   ]
  },
  {
   "cell_type": "code",
   "execution_count": null,
   "metadata": {},
   "outputs": [],
   "source": [
    "def load_cfg(path):\n",
    "    with initialize(version_base=None, config_path=path, job_name=\"test\"):\n",
    "        cfg = compose(config_name=\"config\")\n",
    "    return cfg\n",
    "\n",
    "cmap = make_cmap()\n",
    "cfg = load_cfg('cfg')"
   ]
  },
  {
   "cell_type": "markdown",
   "metadata": {},
   "source": [
    "# Are the signals linear in conductivity?"
   ]
  },
  {
   "cell_type": "code",
   "execution_count": null,
   "metadata": {},
   "outputs": [],
   "source": [
    "train_data = torch.load('data/datasets/train_dataset_3d.pt')"
   ]
  },
  {
   "cell_type": "code",
   "execution_count": null,
   "metadata": {},
   "outputs": [],
   "source": [
    "signals_5 = []\n",
    "signals_10 = []\n",
    "signals_15 = []\n",
    "signals_20 = []\n",
    "\n",
    "for case in train_data.case_files:\n",
    "    tmp = np.load('data/processed/3d_mask/'+case)\n",
    "    rho = np.unique(tmp['targets'])[3]\n",
    "    if rho == 1/5:\n",
    "        signals_5.append(tmp['signals'])\n",
    "    if rho == 1/10:\n",
    "        signals_10.append(tmp['signals'])\n",
    "    if rho == 1/15:\n",
    "        signals_15.append(tmp['signals'])\n",
    "    if rho == 1/20:\n",
    "        signals_20.append(tmp['signals'])"
   ]
  },
  {
   "cell_type": "code",
   "execution_count": null,
   "metadata": {},
   "outputs": [],
   "source": [
    "signals_5 = np.stack(signals_5, axis=0)\n",
    "signals_10 = np.stack(signals_10, axis=0)\n",
    "signals_15 = np.stack(signals_15, axis=0)\n",
    "signals_20 = np.stack(signals_20, axis=0)"
   ]
  },
  {
   "cell_type": "code",
   "execution_count": null,
   "metadata": {},
   "outputs": [],
   "source": [
    "data = np.load('/home/nibdombe/deep_eit/data/processed/3d_mask/case_TCIA_2_0/case_TCIA_2_0_15.npz')"
   ]
  },
  {
   "cell_type": "code",
   "execution_count": null,
   "metadata": {},
   "outputs": [],
   "source": [
    "np.unique(data['targets'])"
   ]
  },
  {
   "cell_type": "code",
   "execution_count": null,
   "metadata": {},
   "outputs": [],
   "source": [
    "signals_5.shape"
   ]
  },
  {
   "cell_type": "code",
   "execution_count": null,
   "metadata": {},
   "outputs": [],
   "source": [
    "np.corrcoef(np.vstack((signals_5[:,0].reshape(-1), signals_10[:,0].reshape(-1), signals_15[:,0].reshape(-1), signals_20[:,0].reshape(-1))))"
   ]
  },
  {
   "cell_type": "code",
   "execution_count": null,
   "metadata": {},
   "outputs": [],
   "source": [
    "np.quantile(signals_5.reshape(-1), q=[0.01, 0.1, 0.25, 0.5, 0.75, 0.9, 0.99])"
   ]
  },
  {
   "cell_type": "code",
   "execution_count": null,
   "metadata": {},
   "outputs": [],
   "source": [
    "signals_5.shape"
   ]
  },
  {
   "cell_type": "code",
   "execution_count": null,
   "metadata": {},
   "outputs": [],
   "source": [
    "fig, ax = plt.subplots()\n",
    "rhos = np.array([5.,10.,15.,20.])\n",
    "ax.scatter(rhos, np.array([signals_5[0,0,0],signals_10[0,0,0],signals_15[0,0,0],signals_20[0,0,0]]))\n",
    "ax.scatter(rhos, np.array([signals_5[0,0,1],signals_10[0,0,1],signals_15[0,0,1],signals_20[0,0,1]]), c='green')\n",
    "ax.scatter(rhos, np.array([signals_5[0,0,2],signals_10[0,0,2],signals_15[0,0,2],signals_20[0,0,2]]), c='red')\n",
    "ax.scatter(rhos, np.array([signals_5[0,0,3],signals_10[0,0,3],signals_15[0,0,3],signals_20[0,0,3]]), c='orange')"
   ]
  },
  {
   "cell_type": "code",
   "execution_count": null,
   "metadata": {},
   "outputs": [],
   "source": [
    "import numpy as np\n",
    "import matplotlib.pyplot as plt\n",
    "\n",
    "# Perform linear regression using numpy\n",
    "def linear_regression(x, y):\n",
    "    A = np.vstack([x, np.ones(len(x))]).T\n",
    "    m, c = np.linalg.lstsq(A, y, rcond=None)[0]\n",
    "    return m, c\n",
    "\n",
    "def make_reg(x,y):\n",
    "    # Perform linear regression on filtered data\n",
    "    m_final, c_final = linear_regression(x, y)\n",
    "    y_pred_final = m_final * x + c_final\n",
    "\n",
    "    # Plot data points\n",
    "    plt.scatter(x, y, color='blue', label='Data points')\n",
    "\n",
    "    # Plot regression line\n",
    "    plt.plot(x, y_pred_final, color='red', label=f'Regression line: y={m_final:.2f}x+{c_final:.2f}')\n",
    "\n",
    "    # Add labels, legend, and estimated parameters\n",
    "    plt.xlabel('Lung Resistivity')\n",
    "    plt.ylabel('Voltages')\n",
    "    plt.legend()\n",
    "\n",
    "    # Show estimated parameters on the plot\n",
    "    plt.text(0.05, 0.95, f'y = {m_final:.2f}x + {c_final:.2f}', transform=plt.gca().transAxes,\n",
    "            fontsize=12, verticalalignment='top', bbox=dict(facecolor='white', alpha=0.5))\n",
    "\n",
    "    # Show plot\n",
    "    plt.show()\n"
   ]
  },
  {
   "cell_type": "code",
   "execution_count": null,
   "metadata": {},
   "outputs": [],
   "source": [
    "for i in range(100):\n",
    "    # Create example data\n",
    "    x = rhos\n",
    "    y = np.array([signals_5[0,0,i],signals_10[0,0,i],signals_15[0,0,i],signals_20[0,0,i]])\n",
    "\n",
    "    make_reg(x,y)"
   ]
  },
  {
   "cell_type": "code",
   "execution_count": null,
   "metadata": {},
   "outputs": [],
   "source": [
    "import numpy as np\n",
    "import matplotlib.pyplot as plt\n",
    "\n",
    "# Create example data\n",
    "x=signals_5[:,0,0].reshape(-1)\n",
    "y=signals_20[:,0,0].reshape(-1)\n",
    "\n",
    "# Determine the 90th percentile for both arrays\n",
    "x_threshold = np.percentile(x, 90)\n",
    "y_threshold = np.percentile(y, 90)\n",
    "\n",
    "# Filter out values higher than the 90th percentile in either array\n",
    "mask = (x <= x_threshold) & (y <= y_threshold)\n",
    "x_filtered = x[mask]\n",
    "y_filtered = y[mask]\n",
    "\n",
    "# Perform linear regression using numpy\n",
    "def linear_regression(x, y):\n",
    "    A = np.vstack([x, np.ones(len(x))]).T\n",
    "    m, c = np.linalg.lstsq(A, y, rcond=None)[0]\n",
    "    return m, c\n",
    "\n",
    "# Perform linear regression on filtered data\n",
    "m_final, c_final = linear_regression(x_filtered, y_filtered)\n",
    "y_pred_final = m_final * x_filtered + c_final\n",
    "\n",
    "# Plot data points\n",
    "plt.scatter(x_filtered, y_filtered, color='blue', label='Data points')\n",
    "\n",
    "# Plot regression line\n",
    "plt.plot(x_filtered, y_pred_final, color='red', label=f'Regression line: y={m_final:.2f}x+{c_final:.2f}')\n",
    "\n",
    "# Add labels, legend, and estimated parameters\n",
    "plt.xlabel('X values')\n",
    "plt.ylabel('Y values')\n",
    "plt.title('Linear Regression after Filtering')\n",
    "plt.legend()\n",
    "\n",
    "# Show estimated parameters on the plot\n",
    "plt.text(0.05, 0.95, f'y = {m_final:.2f}x + {c_final:.2f}', transform=plt.gca().transAxes,\n",
    "         fontsize=12, verticalalignment='top', bbox=dict(facecolor='white', alpha=0.5))\n",
    "\n",
    "# Show plot\n",
    "plt.show()\n"
   ]
  },
  {
   "cell_type": "code",
   "execution_count": null,
   "metadata": {},
   "outputs": [],
   "source": [
    "plt.scatter(signals_5[0,1], signals_10[0,1])"
   ]
  },
  {
   "cell_type": "markdown",
   "metadata": {},
   "source": []
  },
  {
   "cell_type": "markdown",
   "metadata": {},
   "source": [
    "# Make 3d points"
   ]
  },
  {
   "cell_type": "code",
   "execution_count": null,
   "metadata": {},
   "outputs": [],
   "source": [
    "cfg.data.processed_data_folder = 'data/processed/3d'\n",
    "cases = get_all_cases(cfg, base_dir='', use_raw=True)"
   ]
  },
  {
   "cell_type": "code",
   "execution_count": null,
   "metadata": {},
   "outputs": [],
   "source": [
    "cases = ['case_TCIA_110_0']"
   ]
  },
  {
   "cell_type": "code",
   "execution_count": null,
   "metadata": {},
   "outputs": [],
   "source": [
    "write_npz_case_3d(cases[0], resolution=512, electrode_resolution=512, all_signals=True, points_3d=True)"
   ]
  },
  {
   "cell_type": "code",
   "execution_count": null,
   "metadata": {},
   "outputs": [],
   "source": [
    "train_dataset, val_dataset, test_dataset = load_dataset_3d(cases,\n",
    "                write_dataset=False, write_npz=True, points_3d=True, processed_data_folder='data/processed/3d', overwrite_npz=False, \n",
    "                base_dir='', resolution=512, electrode_resolution=512, all_signals=True)"
   ]
  },
  {
   "cell_type": "code",
   "execution_count": null,
   "metadata": {},
   "outputs": [],
   "source": [
    "train_dataset.training = False\n",
    "points_max = []\n",
    "points_min = []\n",
    "for p, s, e, m, t in tqdm(train_dataset):\n",
    "    points_max.append(p.max(dim=0).values)\n",
    "    points_min.append(p.min(dim=0).values)"
   ]
  },
  {
   "cell_type": "code",
   "execution_count": null,
   "metadata": {},
   "outputs": [],
   "source": [
    "print(torch.stack(points_max).max(dim=0),\n",
    "      torch.stack(points_min).min(dim=0))"
   ]
  },
  {
   "cell_type": "code",
   "execution_count": null,
   "metadata": {},
   "outputs": [],
   "source": [
    "tmp = torch.stack(points_max)"
   ]
  },
  {
   "cell_type": "code",
   "execution_count": null,
   "metadata": {},
   "outputs": [],
   "source": [
    "tmp = tmp + 0.2 "
   ]
  },
  {
   "cell_type": "code",
   "execution_count": null,
   "metadata": {},
   "outputs": [],
   "source": [
    "torch.any(torch.logical_or(tmp > 1, tmp < -1), dim=1)"
   ]
  },
  {
   "cell_type": "code",
   "execution_count": null,
   "metadata": {},
   "outputs": [],
   "source": [
    "torch.any((tmp > 1) + (tmp < -1), dim=1)"
   ]
  },
  {
   "cell_type": "code",
   "execution_count": null,
   "metadata": {},
   "outputs": [],
   "source": [
    "torch.where(tmp > 1 or tmp < -1)"
   ]
  },
  {
   "cell_type": "code",
   "execution_count": null,
   "metadata": {},
   "outputs": [],
   "source": [
    "fig, axes = plt.subplots(1,8)\n",
    "tmp_points = train_dataset.points.reshape(8, 4, -1, 8, 3)\n",
    "for i in range(8):\n",
    "    # axes[i].imshow(train_dataset.targets[4,0,:,:,i], cmap=cmap)\n",
    "    axes[i].scatter(tmp_points[0,0,:,i,0], tmp_points[0,0,:,i,1], marker='.', c=(train_dataset.targets[0,0,:,:,i].reshape(-1)), cmap=cmap, s=1)\n"
   ]
  },
  {
   "cell_type": "code",
   "execution_count": null,
   "metadata": {},
   "outputs": [],
   "source": [
    "test = np.load('/home/nibdombe/deep_eit/data/processed/case_TCIA_2_0.npz')"
   ]
  },
  {
   "cell_type": "code",
   "execution_count": null,
   "metadata": {},
   "outputs": [],
   "source": [
    "targets = test['targets']\n",
    "targets = np.moveaxis(targets.reshape(4,4,512,512,1),0,1)"
   ]
  },
  {
   "cell_type": "code",
   "execution_count": null,
   "metadata": {},
   "outputs": [],
   "source": [
    "test['points'].shape"
   ]
  },
  {
   "cell_type": "code",
   "execution_count": null,
   "metadata": {},
   "outputs": [],
   "source": [
    "plt.imshow(targets[0,2], cmap=cmap)"
   ]
  },
  {
   "cell_type": "code",
   "execution_count": null,
   "metadata": {},
   "outputs": [],
   "source": [
    "targets.shape"
   ]
  },
  {
   "cell_type": "markdown",
   "metadata": {},
   "source": [
    "# Show slice from .nas"
   ]
  },
  {
   "cell_type": "code",
   "execution_count": null,
   "metadata": {},
   "outputs": [],
   "source": [
    "from data_processing.preprocessing import load_mask_target_electrodes\n",
    "import matplotlib.pyplot as plt"
   ]
  },
  {
   "cell_type": "code",
   "execution_count": null,
   "metadata": {},
   "outputs": [],
   "source": [
    "mesh_data = load_mask_target_electrodes('/home/nibdombe/deep_eit/data/raw/case_TCIA_250_0', resolution=512)"
   ]
  },
  {
   "cell_type": "code",
   "execution_count": null,
   "metadata": {},
   "outputs": [],
   "source": [
    "fig, axes = plt.subplots(2, 4, figsize=(30, 10))\n",
    "for i in range(4):\n",
    "    axes[0,i].imshow(mesh_data[0][i])\n",
    "    axes[0,i].axis('off')\n",
    "    axes[0,i].scatter(mesh_data[-1][i][:,0], mesh_data[-1][i][:,1], marker='x', c='r')\n",
    "    axes[1,i].imshow(mesh_data[1][i])\n",
    "    axes[1,i].axis('off')\n",
    "    axes[1,i].scatter(mesh_data[-1][i][:,0], mesh_data[-1][i][:,1], marker='x', c='r')\n",
    "\n"
   ]
  },
  {
   "cell_type": "markdown",
   "metadata": {},
   "source": [
    "# Check data from .npz files"
   ]
  },
  {
   "cell_type": "code",
   "execution_count": null,
   "metadata": {},
   "outputs": [],
   "source": [
    "import numpy as np\n",
    "import matplotlib.pyplot as plt\n",
    "import seaborn as sns"
   ]
  },
  {
   "cell_type": "markdown",
   "metadata": {},
   "source": [
    "## Individual case"
   ]
  },
  {
   "cell_type": "code",
   "execution_count": null,
   "metadata": {},
   "outputs": [],
   "source": [
    "data = np.load('/home/nibdombe/deep_eit/data/processed/3d/case_TCIA_2_0/case_TCIA_2_0_20.npz')\n",
    "print(\n",
    "    data['targets'].shape,\n",
    "    data['points'].shape,\n",
    "    data['electrodes'].shape,\n",
    "    data['masks'].shape,\n",
    "    data['signals'].shape\n",
    ")"
   ]
  },
  {
   "cell_type": "code",
   "execution_count": null,
   "metadata": {},
   "outputs": [],
   "source": [
    "targets = data['targets']\n",
    "points = data['points']\n",
    "electrodes = data['electrodes']"
   ]
  },
  {
   "cell_type": "code",
   "execution_count": null,
   "metadata": {},
   "outputs": [],
   "source": [
    "fig, axes = plt.subplots(3, 2, figsize=(10, 3))\n",
    "for i, ax in enumerate(axes.flatten()):\n",
    "    # ax.imshow(targets[i], cmap=cmap)\n",
    "    ax.axis('off')\n",
    "    ax.scatter(points[i][:,0], points[i][:,1], marker='.', c=(targets[i].reshape(-1)), cmap=cmap, s=1)\n",
    "    # ax.scatter(electrodes[i][0,0],electrodes[i][0,1], marker='x', c='r', s=50)"
   ]
  },
  {
   "cell_type": "markdown",
   "metadata": {},
   "source": [
    "## Check all cases"
   ]
  },
  {
   "cell_type": "code",
   "execution_count": null,
   "metadata": {},
   "outputs": [],
   "source": [
    "path = '/home/nibdombe/deep_eit/data/processed/'\n",
    "cases = os.listdir(path)\n",
    "cases = [case for case in cases if fnmatch.fnmatch(case, 'case_TCIA*')]\n"
   ]
  },
  {
   "cell_type": "markdown",
   "metadata": {},
   "source": [
    "### Electrode position"
   ]
  },
  {
   "cell_type": "code",
   "execution_count": null,
   "metadata": {},
   "outputs": [],
   "source": [
    "for i, case in enumerate(tqdm(cases)):\n",
    "    case_path = os.path.join(path, case) \n",
    "    data = np.load(case_path)\n",
    "    targets = data['targets']\n",
    "    points = data['points']\n",
    "    electrodes = data['electrodes']\n",
    "    idx = np.where(targets[0].reshape(-1) != 0.)[0]\n",
    "    rel_points = points[0][idx]\n",
    "    min_x = np.min(rel_points[:,0])\n",
    "    max_x = np.max(rel_points[:,0])\n",
    "    min_y = np.min(rel_points[:,1])\n",
    "    max_y = np.max(rel_points[:,1])\n",
    "    \n",
    "    min_x_electrodes = np.min(electrodes[0][:,0])\n",
    "    max_x_electrodes = np.max(electrodes[0][:,0])\n",
    "    min_y_electrodes = np.min(electrodes[0][:,1])\n",
    "    max_y_electrodes = np.max(electrodes[0][:,1])\n",
    "\n",
    "    distances = np.array([min_x - min_x_electrodes,\n",
    "        max_x - max_x_electrodes,\n",
    "        min_y - min_y_electrodes,\n",
    "        max_y - max_y_electrodes])\n",
    "    if np.any(np.abs(distances) > 0.01):\n",
    "        fig, ax = plt.subplots(1, 1, figsize=(3, 3))\n",
    "        ax.axis('off')\n",
    "        ax.scatter(points[0][:,0], points[0][:,1], marker='.', c=(targets[0].reshape(-1)), cmap=cmap, s=1)\n",
    "        ax.scatter(electrodes[0][:,0],electrodes[0][:,1], marker='x', c='r', s=50)\n",
    "        ax.set_title(case)\n",
    "        plt.show()\n",
    "        plt.close()"
   ]
  },
  {
   "cell_type": "markdown",
   "metadata": {},
   "source": [
    "# Check signals scale"
   ]
  },
  {
   "cell_type": "code",
   "execution_count": null,
   "metadata": {},
   "outputs": [],
   "source": [
    "for i, case in enumerate(tqdm(cases)):\n",
    "    case_path = os.path.join(path, case) \n",
    "    data = np.load(case_path)\n",
    "    signals = data['targets']\n",
    "    plt.hist(signals[0].flatten())\n",
    "    plt.show()"
   ]
  },
  {
   "cell_type": "markdown",
   "metadata": {},
   "source": [
    "## Check all cases visually"
   ]
  },
  {
   "cell_type": "code",
   "execution_count": null,
   "metadata": {},
   "outputs": [],
   "source": [
    "for i, case in enumerate(cases):\n",
    "    case_path = os.path.join(path, case) \n",
    "    data = np.load(case_path)\n",
    "    targets = data['targets']\n",
    "    points = data['points']\n",
    "    electrodes = data['electrodes']\n",
    "    fig, ax = plt.subplots(1, 1, figsize=(3, 3))\n",
    "    ax.axis('off')\n",
    "    ax.scatter(points[0][:,0], points[0][:,1], marker='.', c=(targets[0].reshape(-1)), cmap=cmap, s=1)\n",
    "    ax.scatter(electrodes[0][:3,0],electrodes[0][:3,1], marker='x', c='r', s=50)\n",
    "    ax.set_title(case)\n",
    "    ax.set_xlim(-1,1)\n",
    "    ax.set_ylim(-1,1)\n",
    "    plt.show()\n",
    "    plt.close()\n"
   ]
  },
  {
   "cell_type": "markdown",
   "metadata": {},
   "source": [
    "# Check dataset files"
   ]
  },
  {
   "cell_type": "code",
   "execution_count": null,
   "metadata": {},
   "outputs": [],
   "source": [
    "train_dataset = torch.load('data/datasets/train_dataset.pt')"
   ]
  },
  {
   "cell_type": "code",
   "execution_count": null,
   "metadata": {},
   "outputs": [],
   "source": [
    "train_dataset.cases"
   ]
  },
  {
   "cell_type": "code",
   "execution_count": null,
   "metadata": {},
   "outputs": [],
   "source": [
    "len(train_dataset.cases)"
   ]
  },
  {
   "cell_type": "code",
   "execution_count": null,
   "metadata": {},
   "outputs": [],
   "source": [
    "for i in range(len(train_dataset)):\n",
    "    targets = train_dataset.targets[i]\n",
    "    points = train_dataset.points[i]\n",
    "    electrodes = train_dataset.electrodes[i,:,0,0]\n",
    "    case = train_dataset.cases[i]\n",
    "    fig, ax = plt.subplots(1, 1, figsize=(3, 3))\n",
    "    ax.axis('off')\n",
    "    ax.scatter(points[:,0], points[:,1], marker='.', c=(targets.reshape(-1)), cmap=cmap, s=1)\n",
    "    ax.scatter(electrodes[:3,0],electrodes[:3,1], marker='x', c='r', s=50)\n",
    "    ax.set_title(case)\n",
    "    ax.set_xlim(-1,1)\n",
    "    ax.set_ylim(-1,1)\n",
    "    plt.show()\n",
    "    plt.close()\n",
    "    if i==10:\n",
    "        break"
   ]
  },
  {
   "cell_type": "code",
   "execution_count": null,
   "metadata": {},
   "outputs": [],
   "source": [
    "electrodes.shape"
   ]
  },
  {
   "cell_type": "code",
   "execution_count": null,
   "metadata": {},
   "outputs": [],
   "source": [
    "case = 'case_TCIA_25_0.npz'\n",
    "case_path = os.path.join(path, case) \n",
    "data = np.load(case_path)\n",
    "targets = data['targets']\n",
    "points = data['points']\n",
    "electrodes = data['electrodes']\n",
    "fig, ax = plt.subplots(1, 1, figsize=(3, 3))\n",
    "ax.scatter(points[0][:,0], points[0][:,1], marker='.', c=(targets[0].reshape(-1)), cmap=cmap, s=1)\n",
    "ax.scatter(electrodes[0][:16,0], electrodes[0][:16,1], marker='x', c='r', s=50)\n",
    "ax.set_title(case)\n",
    "plt.show()\n",
    "plt.close()\n"
   ]
  },
  {
   "cell_type": "code",
   "execution_count": null,
   "metadata": {},
   "outputs": [],
   "source": [
    "electrodes[0]"
   ]
  },
  {
   "cell_type": "code",
   "execution_count": null,
   "metadata": {},
   "outputs": [],
   "source": [
    "for i, case in enumerate(cases):\n",
    "    case_path = os.path.join(path, case) \n",
    "    data = np.load(case_path)\n",
    "    targets = data['targets']\n",
    "    points = data['points']\n",
    "    electrodes = data['electrodes']\n",
    "    fig, ax = plt.subplots(1, 1, figsize=(3, 3))\n",
    "    ax.axis('off')\n",
    "    ax.scatter(points[0][:,0], points[0][:,1], marker='.', c=(targets[0].reshape(-1)), cmap=cmap, s=1)\n",
    "    ax.scatter(electrodes[0][:3,0],electrodes[0][:3,1], marker='x', c='r', s=50)\n",
    "    ax.set_title(case)\n",
    "    plt.show()\n",
    "    plt.close()\n"
   ]
  },
  {
   "cell_type": "code",
   "execution_count": null,
   "metadata": {},
   "outputs": [],
   "source": [
    "fig, axes = plt.subplots(2, 4, figsize=(30, 10))\n",
    "for i, ax in enumerate(axes.flatten()):\n",
    "    ax.scatter(points[i][:,0], points[i][:,1], marker='.', c=(targets[i].reshape(-1)))\n",
    "    ax.axis('off')\n",
    "    ax.scatter(electrodes[i][:,0], electrodes[i][:,1], marker='x', c='r')"
   ]
  },
  {
   "cell_type": "code",
   "execution_count": null,
   "metadata": {},
   "outputs": [],
   "source": [
    "from matplotlib.colors import LinearSegmentedColormap\n",
    "\n",
    "# Define the colors and their positions in the colormap\n",
    "colors = [(1., 1., 1),   # blue\n",
    "          (0.1, 0.1, 1), # light blue\n",
    "          (1, 0.8, 0.4), # yellow\n",
    "          (0.8, 0, 0)]     # red\n",
    "positions = [0.0, 0.05, 0.2, 1.0]\n",
    "\n",
    "# Create the colormap\n",
    "cmap = LinearSegmentedColormap.from_list('custom_colormap', list(zip(positions, colors)))\n",
    "\n"
   ]
  },
  {
   "cell_type": "code",
   "execution_count": null,
   "metadata": {},
   "outputs": [],
   "source": [
    "fig, axes = plt.subplots(2, 4, figsize=(30, 10))\n",
    "for i, ax in enumerate(axes.flatten()):\n",
    "    sns.heatmap(targets[i].squeeze(), cmap=cmap, ax=ax)\n",
    "    ax.axis('off')\n",
    "    ax.scatter(electrodes[i][:,0], electrodes[i][:,1], marker='x', c='r', legend='Electrodes')"
   ]
  },
  {
   "cell_type": "markdown",
   "metadata": {},
   "source": [
    "# Load from datasets"
   ]
  },
  {
   "cell_type": "code",
   "execution_count": null,
   "metadata": {},
   "outputs": [],
   "source": [
    "import torch\n",
    "import matplotlib.pyplot as plt\n",
    "import numpy as np"
   ]
  },
  {
   "cell_type": "code",
   "execution_count": null,
   "metadata": {},
   "outputs": [],
   "source": [
    "dataset = torch.load('/home/nibdombe/deep_eit/data/datasets/train_dataset.pt')"
   ]
  },
  {
   "cell_type": "code",
   "execution_count": null,
   "metadata": {},
   "outputs": [],
   "source": [
    "data = np.load('/home/nibdombe/deep_eit/data/processed/3d/case_TCIA_194_0/case_TCIA_194_0_5.npz')"
   ]
  },
  {
   "cell_type": "code",
   "execution_count": null,
   "metadata": {},
   "outputs": [],
   "source": [
    "points = data['points'][0]\n",
    "targets = data['targets'][0]\n",
    "electrodes = data['electrodes'][0][:,0, 0]"
   ]
  },
  {
   "cell_type": "markdown",
   "metadata": {},
   "source": [
    "### random translation"
   ]
  },
  {
   "cell_type": "code",
   "execution_count": null,
   "metadata": {},
   "outputs": [],
   "source": [
    "cmap = make_cmap()\n",
    "n_col = 4\n",
    "fig, axes = plt.subplots(1, n_col, figsize=(int(n_col*5), 5))\n",
    "translations_x = [0.05, -0.1, 0.1, -0.05]\n",
    "translations_y = [-0.1, 0.05, 0.05, 0.1]\n",
    "translations_z = [0, 0, 0, 0]\n",
    "for i, ax in enumerate(axes.flatten()):\n",
    "    scale = 0.025\n",
    "    translation_x = translations_x[i]\n",
    "    translation_y = translations_y[i]\n",
    "    translation_z = translations_z[i]\n",
    "    translation = np.array([translation_x, translation_y, translation_z]).reshape(3)\n",
    "    trans_points = points + translation\n",
    "    trans_electrode = electrodes.copy() + translation\n",
    "    # ax.imshow(t.squeeze())\n",
    "    ax.scatter(trans_points[:,0], -1*trans_points[:,1], marker='x', c=targets.flatten(), s=.1, cmap=cmap)\n",
    "    ax.scatter(trans_electrode[:,0], -1*trans_electrode[:,1], marker='x', c='r', s=20, label='Electrodes')\n",
    "    ax.set_xlim(-0.3, 0.3)\n",
    "    ax.set_ylim(-0.3, 0.3)\n",
    "    ax.xaxis.set_ticks([])\n",
    "    ax.yaxis.set_ticks([])\n",
    "    ax.set_xlabel('')\n",
    "    ax.set_ylabel('')\n",
    "    if i==0:\n",
    "        ax.legend()"
   ]
  },
  {
   "cell_type": "code",
   "execution_count": null,
   "metadata": {},
   "outputs": [],
   "source": [
    "electrodes.shape"
   ]
  },
  {
   "cell_type": "code",
   "execution_count": null,
   "metadata": {},
   "outputs": [],
   "source": [
    "cmap = make_cmap()\n",
    "n_col = 4\n",
    "fig, axes = plt.subplots(1, n_col, figsize=(int(n_col*5), 5))\n",
    "rotation_angles = np.linspace(0, 2 * np.pi, n_col+2)[1:]\n",
    "\n",
    "\n",
    "for i, ax in enumerate(axes.flatten()):\n",
    "    rotation_angle = rotation_angles[i]\n",
    "    rotation_matrix = np.array([[np.cos(rotation_angle), -np.sin(rotation_angle)],\n",
    "                                    [np.sin(rotation_angle), np.cos(rotation_angle)]])\n",
    "    \n",
    "    rot_points = points.copy()\n",
    "    rot_points[:,:2] = np.matmul(rot_points[:,:2], rotation_matrix)\n",
    "    rot_electrode = electrodes.copy()\n",
    "    rot_electrode[:,:2] = np.matmul(rot_electrode[:,:2], rotation_matrix)\n",
    "    # ax.imshow(t.squeeze())\n",
    "    ax.scatter(rot_points[:,0], -1*rot_points[:,1], marker='x', c=targets.flatten(), s=.1, cmap=cmap)\n",
    "    ax.scatter(rot_electrode[:,0], -1*rot_electrode[:,1], marker='x', c='r', s=20, label='Electrodes')\n",
    "    # ax.scatter(c[:,0], -1*c[:,1], marker='o', c='y', s=20, label='E-Center')\n",
    "    # ax.scatter(0, 0, marker='o', c='white', edgecolors='black', s=60, label='Rotation Origin')\n",
    "    # ax.annotate('', xy=(e[0,0], -1*e[0,1]), xytext=(0, 0),\n",
    "    #              arrowprops=dict(facecolor='red', shrink=0.1))\n",
    "    # ax.annotate('', xy=(e[1,0], -1*e[1,1]), xytext=(0, 0),\n",
    "    #              arrowprops=dict(facecolor='red', shrink=0.1))\n",
    "    # ax.annotate('', xy=(c[0,0], -1*c[0,1]), xytext=(0, 0),\n",
    "    #              arrowprops=dict(facecolor='y', shrink=0.1))\n",
    "    ax.set_xlim(-0.3, 0.3)\n",
    "    ax.set_ylim(-0.3, 0.3)\n",
    "    ax.xaxis.set_ticks([])\n",
    "    ax.yaxis.set_ticks([])\n",
    "    ax.set_xlabel('')\n",
    "    ax.set_ylabel('')\n",
    "    if i==0:\n",
    "        ax.legend()"
   ]
  },
  {
   "cell_type": "code",
   "execution_count": null,
   "metadata": {},
   "outputs": [],
   "source": [
    "def show_rotation(angles):\n",
    "    if isinstance(angles, int):\n",
    "        angles = [angles]\n",
    "    fig, axes = plt.subplots(1, len(angles), figsize=(int(5*len(angles)), 5))\n",
    "    if len(angles) == 1:\n",
    "        axes = [axes]\n",
    "    for i, angle in enumerate(angles):\n",
    "        rad_angle = torch.deg2rad(torch.tensor(angle))\n",
    "        rot = dataset._random_rotation_matrix(rotation_angle=rad_angle)\n",
    "        e_rot = torch.matmul(e, rot)\n",
    "        p_rot = torch.matmul(p[:,:2].float(), rot)\n",
    "        c_rot = torch.matmul(torch.from_numpy(c), rot)\n",
    "\n",
    "        # fig, ax = plt.subplots(figsize=(5, 5))\n",
    "        # ax.imshow(t.squeeze())\n",
    "        axes[i].scatter(p_rot[:,0], -1*p_rot[:,1], marker='x', c=t.flatten(), s=.1, cmap=cmap)\n",
    "        axes[i].scatter(e_rot[:,0], -1*e_rot[:,1], marker='x', c='r', s=20, label='Electrodes')\n",
    "        axes[i].scatter(c_rot[:,0], -1*c_rot[:,1], marker='o', c='y', s=20, label='E-Center')\n",
    "        axes[i].scatter(0, 0, marker='o', c='white', edgecolors='black', s=60, label='Rotation Origin')\n",
    "        axes[i].annotate('', xy=(e_rot[0,0], -1*e_rot[0,1]), xytext=(0, 0),\n",
    "                    arrowprops=dict(facecolor='red', shrink=0.1))\n",
    "        axes[i].annotate('', xy=(e_rot[1,0], -1*e_rot[1,1]), xytext=(0, 0),\n",
    "                    arrowprops=dict(facecolor='red', shrink=0.1))\n",
    "        axes[i].annotate('', xy=(c_rot[0,0], -1*c_rot[0,1]), xytext=(0, 0),\n",
    "                    arrowprops=dict(facecolor='y', shrink=0.1))\n",
    "        axes[i].set_xlim(-1, 1)\n",
    "        axes[i].set_ylim(-1, 1)\n",
    "        axes[i]. set_title(f'Rotation Angle: {angle}')\n",
    "        if i == len(angles)-1:\n",
    "            axes[i].legend()\n"
   ]
  },
  {
   "cell_type": "code",
   "execution_count": null,
   "metadata": {},
   "outputs": [],
   "source": [
    "show_rotation([0, 90, 180,360])"
   ]
  },
  {
   "cell_type": "code",
   "execution_count": null,
   "metadata": {},
   "outputs": [],
   "source": [
    "from torch.utils.data import DataLoader\n",
    "dl = DataLoader(dataset, batch_size=3, shuffle=True)"
   ]
  },
  {
   "cell_type": "code",
   "execution_count": null,
   "metadata": {},
   "outputs": [],
   "source": [
    "for p, _, s, e, m, t in dl:\n",
    "    points = p\n",
    "    targets = t\n",
    "    electrodes = e\n",
    "    break"
   ]
  },
  {
   "cell_type": "code",
   "execution_count": null,
   "metadata": {},
   "outputs": [],
   "source": [
    "rot = dataset._random_rotation_matrix(torch.deg2rad(torch.tensor(90)))"
   ]
  },
  {
   "cell_type": "code",
   "execution_count": null,
   "metadata": {},
   "outputs": [],
   "source": [
    "plt.scatter(electrodes[0,:,0,0,0], electrodes[0,:,0,0,1], marker='x', c='r')\n",
    "plt.scatter(points[0,::2,0], points[0,::2,1], marker='x',s=0.01, c=targets[0,::2])\n",
    "\n",
    "plt.axis('equal')\n",
    "plt.xlim(-1,1)\n",
    "plt.ylim(-1,1)\n"
   ]
  },
  {
   "cell_type": "code",
   "execution_count": null,
   "metadata": {},
   "outputs": [],
   "source": [
    "electrodes_rot = torch.matmul(electrodes[:,:,:,:,:2], rot)\n",
    "points_rot = torch.matmul(points, rot)"
   ]
  },
  {
   "cell_type": "code",
   "execution_count": null,
   "metadata": {},
   "outputs": [],
   "source": [
    "plt.scatter(electrodes_rot[0,:,0,0,0], electrodes_rot[0,:,0,0,1], marker='x', c='r')\n",
    "plt.scatter(points_rot[0,::2,0], points_rot[0,::2,1], marker='x',s=0.01, c=targets[0,::2])\n",
    "plt.axis('equal')\n",
    "plt.xlim(-1,1)\n",
    "plt.ylim(-1,1)\n"
   ]
  },
  {
   "cell_type": "code",
   "execution_count": null,
   "metadata": {},
   "outputs": [],
   "source": [
    "points.shape"
   ]
  },
  {
   "cell_type": "code",
   "execution_count": null,
   "metadata": {},
   "outputs": [],
   "source": []
  },
  {
   "cell_type": "markdown",
   "metadata": {},
   "source": [
    "# Compare generated targets with Anita's targets"
   ]
  },
  {
   "cell_type": "code",
   "execution_count": null,
   "metadata": {},
   "outputs": [],
   "source": [
    "import numpy as np\n",
    "import scipy.io as sio\n",
    "import matplotlib.pyplot as plt\n",
    "import seaborn as sns"
   ]
  },
  {
   "cell_type": "code",
   "execution_count": null,
   "metadata": {},
   "outputs": [],
   "source": [
    "toy = np.load('/work/deep_eit/data/processed/case_TCIA_53_0.npz', allow_pickle=True)"
   ]
  },
  {
   "cell_type": "code",
   "execution_count": null,
   "metadata": {},
   "outputs": [],
   "source": [
    "toy['targets'].shape"
   ]
  },
  {
   "cell_type": "code",
   "execution_count": null,
   "metadata": {},
   "outputs": [],
   "source": [
    "fig, axes = plt.subplots(1, 2, figsize=(15, 5))\n",
    "sns.heatmap(toy['targets'][0].squeeze(), ax=axes[0])\n",
    "axes[0].axis('off')\n",
    "sns.heatmap(toy['targets'][1].squeeze(), ax=axes[1])"
   ]
  },
  {
   "cell_type": "code",
   "execution_count": null,
   "metadata": {},
   "outputs": [],
   "source": [
    "anita_target = sio.loadmat('/work/deep_eit/data/raw/case_TCIA_53_0/targets/level_1.mat')['slice_z1']\n",
    "anita_target = np.where(np.isnan(anita_target), 0, anita_target)\n",
    "anita_target = np.moveaxis(anita_target, 0, 1)"
   ]
  },
  {
   "cell_type": "code",
   "execution_count": null,
   "metadata": {},
   "outputs": [],
   "source": [
    "fig, axes = plt.subplots(1, 2, figsize=(15, 5))\n",
    "sns.heatmap(toy['targets'][0].squeeze(), ax=axes[0], vmax=1)\n",
    "axes[0].axis('off')\n",
    "sns.heatmap(anita_target, ax=axes[1], vmax=1)\n",
    "axes[1].axis('off')\n"
   ]
  },
  {
   "cell_type": "code",
   "execution_count": null,
   "metadata": {},
   "outputs": [],
   "source": [
    "anita_target.shape"
   ]
  },
  {
   "cell_type": "code",
   "execution_count": null,
   "metadata": {},
   "outputs": [],
   "source": [
    "np.unique(anita_target)"
   ]
  },
  {
   "cell_type": "code",
   "execution_count": null,
   "metadata": {},
   "outputs": [],
   "source": [
    "import os\n"
   ]
  },
  {
   "cell_type": "code",
   "execution_count": null,
   "metadata": {},
   "outputs": [],
   "source": [
    "import numpy as np\n",
    "import cv2\n",
    "import matplotlib.pyplot as plt\n",
    "import torch\n",
    "import torchvision.transforms.functional as TF"
   ]
  },
  {
   "cell_type": "code",
   "execution_count": null,
   "metadata": {},
   "outputs": [],
   "source": [
    "from data_processing.mesh_to_array import mesh_to_image"
   ]
  },
  {
   "cell_type": "code",
   "execution_count": null,
   "metadata": {},
   "outputs": [],
   "source": [
    "mesh = '/home/nibdombe/deep_eit/data/raw/case_TCIA_21_0/shape/mesh.vtk'   "
   ]
  },
  {
   "cell_type": "code",
   "execution_count": null,
   "metadata": {},
   "outputs": [],
   "source": [
    "res = mesh_to_image(mesh, resolution=512)"
   ]
  },
  {
   "cell_type": "code",
   "execution_count": null,
   "metadata": {},
   "outputs": [],
   "source": [
    "points = np.asarray(res[1].points)"
   ]
  },
  {
   "cell_type": "code",
   "execution_count": null,
   "metadata": {},
   "outputs": [],
   "source": [
    "points.shape"
   ]
  },
  {
   "cell_type": "code",
   "execution_count": null,
   "metadata": {},
   "outputs": [],
   "source": [
    "points_re = points.reshape(512,512,3)"
   ]
  },
  {
   "cell_type": "code",
   "execution_count": null,
   "metadata": {},
   "outputs": [],
   "source": [
    "res[0].shape"
   ]
  },
  {
   "cell_type": "code",
   "execution_count": null,
   "metadata": {},
   "outputs": [],
   "source": [
    "plt.scatter(points[:,0], points[:,1], c=res[0].flatten())"
   ]
  },
  {
   "cell_type": "code",
   "execution_count": null,
   "metadata": {},
   "outputs": [],
   "source": [
    "points_res = points - np.mean(points, axis=0)\n",
    "plt.scatter(points_res[:,0], points_res[:,1], c=res[0].flatten())"
   ]
  },
  {
   "cell_type": "code",
   "execution_count": null,
   "metadata": {},
   "outputs": [],
   "source": [
    "from model.positional_encoding import positional_encoding\n",
    "import torch"
   ]
  },
  {
   "cell_type": "code",
   "execution_count": null,
   "metadata": {},
   "outputs": [],
   "source": [
    "coord = torch.tensor([[torch.pi,-torch.pi,torch.pi, 1],\n",
    "                     [4,5,6,5],\n",
    "                     [7,8,9,29]])\n",
    "print(coord.shape)                     "
   ]
  },
  {
   "cell_type": "code",
   "execution_count": null,
   "metadata": {},
   "outputs": [],
   "source": [
    "coord_pe = positional_encoding(coord, num_encoding_functions=2)\n",
    "print(coord_pe.shape)"
   ]
  },
  {
   "cell_type": "code",
   "execution_count": null,
   "metadata": {},
   "outputs": [],
   "source": [
    "coord_pe[0]"
   ]
  },
  {
   "cell_type": "code",
   "execution_count": null,
   "metadata": {},
   "outputs": [],
   "source": [
    "coord_pe_0 = positional_encoding(coord[0], num_encoding_functions=2)"
   ]
  },
  {
   "cell_type": "code",
   "execution_count": null,
   "metadata": {},
   "outputs": [],
   "source": [
    "print(coord_pe_0)\n",
    "print(coord_pe[0])"
   ]
  },
  {
   "cell_type": "code",
   "execution_count": null,
   "metadata": {},
   "outputs": [],
   "source": [
    "coord_more_dim = positional_encoding(coord.reshape(3,2,2), num_encoding_functions=2)"
   ]
  },
  {
   "cell_type": "code",
   "execution_count": null,
   "metadata": {},
   "outputs": [],
   "source": [
    "torch.all(coord_pe_0 == coord_more_dim[0].flatten())"
   ]
  },
  {
   "cell_type": "code",
   "execution_count": null,
   "metadata": {},
   "outputs": [],
   "source": [
    "coord_more_dim_pe = coord_more_dim[0].flatten()"
   ]
  },
  {
   "cell_type": "code",
   "execution_count": null,
   "metadata": {},
   "outputs": [],
   "source": [
    "torch.sort(coord_more_dim_pe)[0] == torch.sort(coord_pe_0)[0]"
   ]
  },
  {
   "cell_type": "code",
   "execution_count": 2,
   "metadata": {},
   "outputs": [],
   "source": [
    "test_3 = np.load('/home/nibdombe/deep_eit/data/processed/3d_mask/case_TCIA_401_0/case_TCIA_401_0_3.npz')\n",
    "test_5 = np.load('/home/nibdombe/deep_eit/data/processed/3d_mask/case_TCIA_401_0/case_TCIA_401_0_5.npz')"
   ]
  },
  {
   "cell_type": "code",
   "execution_count": 4,
   "metadata": {},
   "outputs": [],
   "source": [
    "signals_3 = test_3['signals']\n",
    "signals_5 = test_5['signals']"
   ]
  },
  {
   "cell_type": "code",
   "execution_count": 6,
   "metadata": {},
   "outputs": [
    {
     "data": {
      "text/plain": [
       "array([[5.84431362e+00, 2.02179313e+00, 3.34397435e-01, 3.68007928e-01,\n",
       "        7.94319153e-01, 1.36940098e+00, 7.67001629e-01, 3.00924599e-01,\n",
       "        1.20110720e-01, 1.34531289e-01, 4.01301116e-01, 1.21459997e+00,\n",
       "        3.36822629e+00, 6.45116091e+00, 6.26429439e-01, 5.72005272e-01,\n",
       "        1.01035130e+00, 1.10180974e+00, 3.60253483e-01, 1.12524137e-01,\n",
       "        3.60650495e-02, 3.51574868e-02, 9.67350155e-02, 1.76984757e-01,\n",
       "        2.84602940e-01, 4.07610083e+00, 2.55628538e+00, 1.34808922e+00,\n",
       "        1.78457558e+00, 1.33270335e+00, 3.50975662e-01, 1.06635928e-01,\n",
       "        3.07441913e-02, 2.63883546e-02, 6.78959861e-02, 1.03753939e-01,\n",
       "        1.38307706e-01, 1.06090832e+00, 5.84417820e+00, 6.63628340e+00,\n",
       "        5.04123068e+00, 1.98420215e+00, 4.01203662e-01, 1.20468840e-01,\n",
       "        3.37584876e-02, 2.78918557e-02, 7.14212209e-02, 9.66777876e-02,\n",
       "        1.16913952e-01, 6.03468657e-01, 2.02188468e+00, 6.45093155e+00,\n",
       "        8.91616917e+00, 1.22566748e+00, 1.73748195e-01, 4.35133204e-02,\n",
       "        1.09495651e-02, 8.05761013e-03, 1.65772736e-02, 2.52507888e-02,\n",
       "        2.81409398e-02, 1.34384453e-01, 3.34421635e-01, 6.26459837e-01,\n",
       "        2.55616260e+00, 3.84200597e+00, 4.03887272e-01, 9.26935896e-02,\n",
       "        2.11329125e-02, 1.36303902e-02, 2.38308124e-02, 3.53635401e-02,\n",
       "        3.51388790e-02, 1.56668663e-01, 3.68032664e-01, 5.71933985e-01,\n",
       "        1.34820580e+00, 6.63622618e+00, 2.30447292e+00, 4.48954225e-01,\n",
       "        9.43826884e-02, 5.65740727e-02, 9.74957272e-02, 1.25483796e-01,\n",
       "        1.11579701e-01, 3.66569638e-01, 7.94287264e-01, 1.01046038e+00,\n",
       "        1.78450227e+00, 5.04124498e+00, 8.91595173e+00, 3.98127651e+00,\n",
       "        6.61084831e-01, 3.62199903e-01, 5.40957987e-01, 7.27282941e-01,\n",
       "        6.07434452e-01, 1.31213224e+00, 1.36951458e+00, 1.10166836e+00,\n",
       "        1.33266222e+00, 1.98424315e+00, 1.22568309e+00, 3.84208012e+00,\n",
       "        3.52225542e+00, 1.36912167e+00, 1.40026760e+00, 1.44898462e+00,\n",
       "        9.03678298e-01, 1.30319571e+00, 7.67128408e-01, 3.60261172e-01,\n",
       "        3.51028591e-01, 4.01338011e-01, 1.73749983e-01, 4.03814882e-01,\n",
       "        2.30449843e+00, 1.05590191e+01, 3.92762470e+00, 2.26657176e+00,\n",
       "        8.48572969e-01, 8.24950397e-01, 3.00906718e-01, 1.12430193e-01,\n",
       "        1.06552526e-01, 1.20470107e-01, 4.35403436e-02, 9.26321223e-02,\n",
       "        4.49134588e-01, 3.98138642e+00, 5.23662233e+00, 1.80357838e+00,\n",
       "        4.60868806e-01, 3.59045625e-01, 1.19976945e-01, 3.60110253e-02,\n",
       "        3.06822844e-02, 3.37099358e-02, 1.09408982e-02, 2.11268086e-02,\n",
       "        9.44273621e-02, 6.61166608e-01, 3.52230048e+00, 4.58416557e+00,\n",
       "        6.94731057e-01, 4.26283181e-01, 1.34706795e-01, 3.53307612e-02,\n",
       "        2.65053697e-02, 2.79461890e-02, 8.02431721e-03, 1.36054857e-02,\n",
       "        5.64311147e-02, 3.61953139e-01, 1.36905944e+00, 1.05591574e+01,\n",
       "        4.24784231e+00, 1.61016190e+00, 4.01187450e-01, 9.66364369e-02,\n",
       "        6.78807423e-02, 7.14291707e-02, 1.66047085e-02, 2.38251034e-02,\n",
       "        9.75301266e-02, 5.40996432e-01, 1.40042794e+00, 3.92747760e+00,\n",
       "        5.23673391e+00, 7.23660517e+00, 1.21461356e+00, 1.77074373e-01,\n",
       "        1.03766486e-01, 9.66319069e-02, 2.52514277e-02, 3.54940109e-02,\n",
       "        1.25388578e-01, 7.27103710e-01, 1.44904983e+00, 2.26662397e+00,\n",
       "        1.80339348e+00, 4.58411884e+00, 3.36828852e+00, 2.84582436e-01,\n",
       "        1.38244376e-01, 1.16852343e-01, 2.81428546e-02, 3.52086052e-02,\n",
       "        1.11525647e-01, 6.07392728e-01, 9.03734922e-01, 8.48535836e-01,\n",
       "        4.60917890e-01, 6.94728732e-01, 4.24775171e+00, 4.07615376e+00,\n",
       "        1.06092548e+00, 6.03385329e-01, 1.34411931e-01, 1.56770676e-01,\n",
       "        3.66613448e-01, 1.31220460e+00, 1.30322814e+00, 8.25106978e-01,\n",
       "        3.58961374e-01, 4.26271141e-01, 1.61012888e+00, 7.23658371e+00],\n",
       "       [3.82459068e+00, 1.28779745e+00, 3.45509648e-01, 2.46063232e-01,\n",
       "        4.27974492e-01, 7.12556064e-01, 6.10664725e-01, 3.38609517e-01,\n",
       "        1.26778677e-01, 1.68030933e-01, 4.13244486e-01, 1.26291001e+00,\n",
       "        3.75543714e+00, 7.44039202e+00, 1.02007282e+00, 5.39196014e-01,\n",
       "        7.76072800e-01, 6.88805819e-01, 3.30176741e-01, 1.00259550e-01,\n",
       "        3.10642235e-02, 5.06998114e-02, 9.92585421e-02, 1.79144353e-01,\n",
       "        2.87289768e-01, 3.55122566e+00, 4.09513187e+00, 1.25955176e+00,\n",
       "        1.30112708e+00, 8.67316246e-01, 3.28328490e-01, 9.29414481e-02,\n",
       "        2.63684094e-02, 3.81368361e-02, 6.80752993e-02, 1.04685389e-01,\n",
       "        1.44827336e-01, 7.80167580e-01, 3.82447243e+00, 6.39194012e+00,\n",
       "        3.85448813e+00, 1.61390829e+00, 4.81459975e-01, 1.24711864e-01,\n",
       "        3.47693041e-02, 5.10900952e-02, 8.46208483e-02, 1.05364583e-01,\n",
       "        1.33553296e-01, 4.77939785e-01, 1.28781116e+00, 7.44004345e+00,\n",
       "        7.71486139e+00, 1.44192421e+00, 3.22038621e-01, 7.61276409e-02,\n",
       "        2.11016629e-02, 3.22805494e-02, 5.07732257e-02, 5.17025590e-02,\n",
       "        6.17711507e-02, 1.68697461e-01, 3.45720142e-01, 1.02012289e+00,\n",
       "        4.09486055e+00, 5.07343054e+00, 7.26790071e-01, 1.80468529e-01,\n",
       "        4.01259549e-02, 2.96376385e-02, 3.83555852e-02, 4.40288447e-02,\n",
       "        4.57172804e-02, 1.26508057e-01, 2.46043861e-01, 5.39234042e-01,\n",
       "        1.25960183e+00, 6.39201784e+00, 3.61160517e+00, 7.52209961e-01,\n",
       "        1.46980017e-01, 6.99463263e-02, 7.21261874e-02, 1.01598918e-01,\n",
       "        9.12837312e-02, 2.45778024e-01, 4.28033888e-01, 7.76114404e-01,\n",
       "        1.30099642e+00, 3.85441089e+00, 7.71504164e+00, 4.62264061e+00,\n",
       "        7.17831552e-01, 3.76189202e-01, 4.04209048e-01, 4.73360926e-01,\n",
       "        4.14929539e-01, 7.12509334e-01, 7.12580919e-01, 6.88813448e-01,\n",
       "        8.67351890e-01, 1.61390889e+00, 1.44189394e+00, 5.07338381e+00,\n",
       "        3.35996699e+00, 1.26579356e+00, 1.04134429e+00, 9.82823670e-01,\n",
       "        7.09921122e-01, 9.00409460e-01, 6.10751092e-01, 3.30109358e-01,\n",
       "        3.28374863e-01, 4.81301367e-01, 3.22169602e-01, 7.26830125e-01,\n",
       "        3.61146164e+00, 9.62012577e+00, 3.36040974e+00, 1.86718166e+00,\n",
       "        8.83337140e-01, 7.35144317e-01, 3.38525712e-01, 1.00247912e-01,\n",
       "        9.29944292e-02, 1.24602988e-01, 7.62283057e-02, 1.80430353e-01,\n",
       "        7.52299309e-01, 4.62264252e+00, 5.34469604e+00, 1.68451202e+00,\n",
       "        5.29308617e-01, 3.35540235e-01, 1.26860350e-01, 3.11405007e-02,\n",
       "        2.63546742e-02, 3.44845951e-02, 2.10618041e-02, 4.00218144e-02,\n",
       "        1.47083119e-01, 7.17766702e-01, 3.35977292e+00, 5.65144920e+00,\n",
       "        1.02348030e+00, 4.98281062e-01, 1.68051720e-01, 5.06622083e-02,\n",
       "        3.80304419e-02, 5.11409789e-02, 3.22346278e-02, 2.96436716e-02,\n",
       "        6.99877217e-02, 3.76155704e-01, 1.26576221e+00, 9.62012005e+00,\n",
       "        4.60797596e+00, 1.44516242e+00, 4.13266599e-01, 9.92199183e-02,\n",
       "        6.80704042e-02, 8.48183781e-02, 5.07505015e-02, 3.82829010e-02,\n",
       "        7.19424486e-02, 4.04244781e-01, 1.04140258e+00, 3.36032224e+00,\n",
       "        5.34471941e+00, 6.69075680e+00, 1.26282954e+00, 1.79210141e-01,\n",
       "        1.04730390e-01, 1.05499759e-01, 5.17132282e-02, 4.41131890e-02,\n",
       "        1.01514697e-01, 4.73362565e-01, 9.82906163e-01, 1.86722183e+00,\n",
       "        1.68442678e+00, 5.65137339e+00, 3.75543332e+00, 2.87353128e-01,\n",
       "        1.44795358e-01, 1.33646578e-01, 6.16843440e-02, 4.57744636e-02,\n",
       "        9.12601799e-02, 4.14842725e-01, 7.09927857e-01, 8.83396566e-01,\n",
       "        5.29169202e-01, 1.02358091e+00, 4.60795689e+00, 3.55112791e+00,\n",
       "        7.80161560e-01, 4.78160471e-01, 1.68782517e-01, 1.26593977e-01,\n",
       "        2.45699555e-01, 7.12624431e-01, 9.00458336e-01, 7.35169709e-01,\n",
       "        3.35509866e-01, 4.98164505e-01, 1.44508588e+00, 6.69076633e+00],\n",
       "       [3.42529726e+00, 1.00230062e+00, 4.98542607e-01, 1.83312342e-01,\n",
       "        3.96701425e-01, 5.01118362e-01, 6.00569069e-01, 3.11658323e-01,\n",
       "        1.57236278e-01, 1.97511807e-01, 3.90034378e-01, 9.38648880e-01,\n",
       "        3.21987820e+00, 5.41699886e+00, 1.19222057e+00, 3.16741377e-01,\n",
       "        4.96084601e-01, 3.74718338e-01, 2.77704686e-01, 1.01914786e-01,\n",
       "        3.85694243e-02, 4.27576751e-02, 7.18356296e-02, 1.22825734e-01,\n",
       "        2.37524256e-01, 2.14989209e+00, 6.94083309e+00, 1.12350178e+00,\n",
       "        1.27214766e+00, 6.39658153e-01, 3.40173364e-01, 1.08529240e-01,\n",
       "        3.60088125e-02, 4.10939045e-02, 6.35640696e-02, 9.73641872e-02,\n",
       "        1.60737827e-01, 7.68959403e-01, 3.42508793e+00, 4.46507692e+00,\n",
       "        3.17015219e+00, 1.08756065e+00, 4.68631953e-01, 1.39228985e-01,\n",
       "        4.04095314e-02, 4.59631905e-02, 6.09450638e-02, 8.23443308e-02,\n",
       "        1.19572572e-01, 4.51885968e-01, 1.00228107e+00, 5.41691446e+00,\n",
       "        1.06850023e+01, 1.86590922e+00, 6.17774844e-01, 1.67712271e-01,\n",
       "        3.43269408e-02, 6.28730506e-02, 6.83697164e-02, 7.65079707e-02,\n",
       "        8.94823372e-02, 2.88422555e-01, 4.98517722e-01, 1.19233274e+00,\n",
       "        6.94055033e+00, 3.65453219e+00, 7.73122728e-01, 1.96577668e-01,\n",
       "        6.65741637e-02, 2.04300471e-02, 2.13182643e-02, 2.64281314e-02,\n",
       "        3.61222811e-02, 1.08211100e-01, 1.83376774e-01, 3.16753060e-01,\n",
       "        1.12364793e+00, 4.46491051e+00, 4.90553236e+00, 9.57990706e-01,\n",
       "        2.93248564e-01, 9.11373720e-02, 8.40794370e-02, 9.22087654e-02,\n",
       "        1.09151602e-01, 2.73318410e-01, 3.96679550e-01, 4.96038646e-01,\n",
       "        1.27207720e+00, 3.17016506e+00, 1.06849575e+01, 4.05933762e+00,\n",
       "        9.28794086e-01, 3.20578426e-01, 2.76488453e-01, 2.71674216e-01,\n",
       "        2.76809335e-01, 5.19483507e-01, 5.01064301e-01, 3.74843419e-01,\n",
       "        6.39522433e-01, 1.08761418e+00, 1.86588764e+00, 3.65463638e+00,\n",
       "        4.38944864e+00, 1.07326901e+00, 7.82275379e-01, 6.63858831e-01,\n",
       "        5.95650494e-01, 8.73449028e-01, 6.00786507e-01, 2.77827233e-01,\n",
       "        3.40259761e-01, 4.68373567e-01, 6.17699444e-01, 7.73193777e-01,\n",
       "        4.90552330e+00, 5.73538351e+00, 2.24037528e+00, 1.17134702e+00,\n",
       "        7.02235639e-01, 6.64446473e-01, 3.11546206e-01, 1.01978518e-01,\n",
       "        1.08461708e-01, 1.39227420e-01, 1.67736575e-01, 1.96651429e-01,\n",
       "        9.58095729e-01, 4.05939054e+00, 6.64607286e+00, 1.85992324e+00,\n",
       "        7.13875175e-01, 4.60367739e-01, 1.57043040e-01, 3.85163538e-02,\n",
       "        3.60135995e-02, 4.03458439e-02, 3.42788249e-02, 6.66791871e-02,\n",
       "        2.93266177e-01, 9.28742230e-01, 4.38927460e+00, 5.65048981e+00,\n",
       "        1.22324872e+00, 5.81858099e-01, 1.97664499e-01, 4.28151712e-02,\n",
       "        4.10967804e-02, 4.60553616e-02, 6.28836527e-02, 2.03845855e-02,\n",
       "        9.11351666e-02, 3.20519537e-01, 1.07329059e+00, 5.73516941e+00,\n",
       "        5.55641937e+00, 1.46067727e+00, 3.90166581e-01, 7.18039796e-02,\n",
       "        6.35657385e-02, 6.08900823e-02, 6.83066770e-02, 2.13439669e-02,\n",
       "        8.40640217e-02, 2.76523888e-01, 7.82159507e-01, 2.24045515e+00,\n",
       "        6.64591217e+00, 5.80231762e+00, 9.38660324e-01, 1.22757278e-01,\n",
       "        9.74403396e-02, 8.23325142e-02, 7.62535706e-02, 2.65615191e-02,\n",
       "        9.22242627e-02, 2.71711916e-01, 6.63860321e-01, 1.17135692e+00,\n",
       "        1.85963058e+00, 5.65067959e+00, 3.21970797e+00, 2.37474278e-01,\n",
       "        1.60689354e-01, 1.19693838e-01, 8.96017775e-02, 3.60038206e-02,\n",
       "        1.09230854e-01, 2.77004540e-01, 5.95454335e-01, 7.02132344e-01,\n",
       "        7.13997483e-01, 1.22324860e+00, 5.55629730e+00, 2.15006328e+00,\n",
       "        7.69003332e-01, 4.52032506e-01, 2.88363695e-01, 1.08130656e-01,\n",
       "        2.73354948e-01, 5.19547999e-01, 8.73379290e-01, 6.64613605e-01,\n",
       "        4.60367173e-01, 5.81885457e-01, 1.46066976e+00, 5.80207014e+00],\n",
       "       [6.39914846e+00, 1.17863655e+00, 6.92457974e-01, 2.95642704e-01,\n",
       "        5.63214183e-01, 8.86513770e-01, 7.09906578e-01, 3.90832335e-01,\n",
       "        2.75157601e-01, 4.00420159e-01, 7.50418901e-01, 1.71633422e+00,\n",
       "        5.37355566e+00, 4.55558062e+00, 1.29555726e+00, 3.83241653e-01,\n",
       "        5.05203426e-01, 4.50796396e-01, 2.55483150e-01, 9.99745280e-02,\n",
       "        5.65701574e-02, 7.08644763e-02, 1.08211920e-01, 1.88060120e-01,\n",
       "        3.52177054e-01, 2.63970423e+00, 5.82933140e+00, 9.86125350e-01,\n",
       "        9.54561770e-01, 5.99764049e-01, 2.80461758e-01, 9.74135920e-02,\n",
       "        4.80570719e-02, 5.12927808e-02, 6.91904351e-02, 1.05098203e-01,\n",
       "        1.66577220e-01, 7.35870779e-01, 6.39914989e+00, 3.12476087e+00,\n",
       "        1.68920743e+00, 6.96220279e-01, 2.78701454e-01, 8.77001286e-02,\n",
       "        4.02592197e-02, 4.07345295e-02, 4.62397002e-02, 6.30321652e-02,\n",
       "        7.99581558e-02, 2.54455000e-01, 1.17868590e+00, 4.55563354e+00,\n",
       "        9.48432255e+00, 1.67829657e+00, 5.25018394e-01, 1.53759912e-01,\n",
       "        6.30597845e-02, 5.10294102e-02, 5.08772098e-02, 6.20005354e-02,\n",
       "        7.53204152e-02, 2.02212617e-01, 6.92458570e-01, 1.29551673e+00,\n",
       "        5.82913494e+00, 3.65823579e+00, 7.68744767e-01, 2.02804625e-01,\n",
       "        7.38620609e-02, 4.34713140e-02, 3.63823250e-02, 3.69558446e-02,\n",
       "        4.92613576e-02, 1.14846110e-01, 2.95250773e-01, 3.82852972e-01,\n",
       "        9.86487269e-01, 3.12498641e+00, 3.97325683e+00, 8.12845111e-01,\n",
       "        2.73204356e-01, 1.58767492e-01, 1.19907446e-01, 1.14526786e-01,\n",
       "        1.25141889e-01, 2.48633116e-01, 5.63702345e-01, 5.05497873e-01,\n",
       "        9.54255760e-01, 1.68890619e+00, 9.48423100e+00, 4.75783443e+00,\n",
       "        1.17158997e+00, 6.06597006e-01, 4.12535518e-01, 3.61198515e-01,\n",
       "        3.41405720e-01, 5.34773767e-01, 8.86520445e-01, 4.50837284e-01,\n",
       "        5.99727511e-01, 6.96330726e-01, 1.67817152e+00, 3.65816975e+00,\n",
       "        4.59369183e+00, 1.49671423e+00, 7.66608596e-01, 5.47141075e-01,\n",
       "        4.39203113e-01, 5.50708413e-01, 7.09404647e-01, 2.54971921e-01,\n",
       "        2.80864865e-01, 2.79143333e-01, 5.25184631e-01, 7.68774509e-01,\n",
       "        3.97348928e+00, 7.38945341e+00, 1.68919003e+00, 7.98754156e-01,\n",
       "        4.62762296e-01, 4.07910138e-01, 3.91351730e-01, 1.00543596e-01,\n",
       "        9.68602970e-02, 8.74734372e-02, 1.53596804e-01, 2.02652246e-01,\n",
       "        8.12785864e-01, 4.75769567e+00, 4.37604713e+00, 1.12517726e+00,\n",
       "        4.92209047e-01, 3.45194101e-01, 2.75109679e-01, 5.64925969e-02,\n",
       "        4.80803624e-02, 4.02336754e-02, 6.31427616e-02, 7.38042668e-02,\n",
       "        2.73296893e-01, 1.17160463e+00, 4.59390640e+00, 4.13832331e+00,\n",
       "        1.08706689e+00, 5.89278817e-01, 4.00394797e-01, 7.09918141e-02,\n",
       "        5.12176417e-02, 4.06388082e-02, 5.09329140e-02, 4.35738377e-02,\n",
       "        1.58783242e-01, 6.06630743e-01, 1.49672151e+00, 7.38956213e+00,\n",
       "        4.59842443e+00, 1.37611389e+00, 7.50726283e-01, 1.08432807e-01,\n",
       "        6.90530390e-02, 4.60558236e-02, 5.07445224e-02, 3.64135690e-02,\n",
       "        1.19859785e-01, 4.12444562e-01, 7.66638100e-01, 1.68909073e+00,\n",
       "        4.37605381e+00, 5.30898714e+00, 1.71661997e+00, 1.88511133e-01,\n",
       "        1.04829915e-01, 6.27551153e-02, 6.19493946e-02, 3.69314402e-02,\n",
       "        1.14312254e-01, 3.61125350e-01, 5.47179222e-01, 7.98683643e-01,\n",
       "        1.12510264e+00, 4.13850927e+00, 5.37286520e+00, 3.51572245e-01,\n",
       "        1.67106479e-01, 8.03289860e-02, 7.55184665e-02, 4.93939742e-02,\n",
       "        1.25195980e-01, 3.41541976e-01, 4.39280957e-01, 4.62737352e-01,\n",
       "        4.92241353e-01, 1.08703852e+00, 4.59827042e+00, 2.63954878e+00,\n",
       "        7.35917687e-01, 2.54481286e-01, 2.02257499e-01, 1.14937849e-01,\n",
       "        2.48526692e-01, 5.34800708e-01, 5.50856054e-01, 4.07796353e-01,\n",
       "        3.45240742e-01, 5.89253783e-01, 1.37607813e+00, 5.30893517e+00]],\n",
       "      dtype=float32)"
      ]
     },
     "execution_count": 6,
     "metadata": {},
     "output_type": "execute_result"
    }
   ],
   "source": [
    "signals_5"
   ]
  },
  {
   "cell_type": "code",
   "execution_count": null,
   "metadata": {},
   "outputs": [],
   "source": []
  }
 ],
 "metadata": {
  "kernelspec": {
   "display_name": "deep_eit",
   "language": "python",
   "name": "python3"
  },
  "language_info": {
   "codemirror_mode": {
    "name": "ipython",
    "version": 3
   },
   "file_extension": ".py",
   "mimetype": "text/x-python",
   "name": "python",
   "nbconvert_exporter": "python",
   "pygments_lexer": "ipython3",
   "version": "3.10.13"
  }
 },
 "nbformat": 4,
 "nbformat_minor": 2
}
