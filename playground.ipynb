{
 "cells": [
  {
   "cell_type": "code",
   "execution_count": null,
   "metadata": {},
   "outputs": [],
   "source": [
    "from data_processing.dataset import load_dataset, get_impulses\n",
    "from data_processing.obj2py import read_get"
   ]
  },
  {
   "cell_type": "code",
   "execution_count": null,
   "metadata": {},
   "outputs": [],
   "source": [
    "import PIL\n",
    "import numpy as np\n",
    "import matplotlib.pyplot as plt\n",
    "import vtk\n",
    "from vtk.util.numpy_support import vtk_to_numpy\n",
    "from tqdm import tqdm\n",
    "from scipy.optimize import minimize\n",
    "from vedo import *\n",
    "import meshio\n",
    "import seaborn as sns\n",
    "import pyvista as pv\n",
    "from data_processing.mesh_to_array import *\n",
    "import pandas as pd\n",
    "from matplotlib.colors import LinearSegmentedColormap\n",
    "from hydra import compose, initialize\n",
    "from omegaconf import OmegaConf\n",
    "\n",
    "# Define the discrete values and corresponding grayscale values\n",
    "values = [0, 1, 2, 3, 4, 5]\n",
    "grayscale_values = np.linspace(0, 1, len(values))  # Grayscale values range from 0 to 1\n",
    "\n",
    "# Create a colormap dictionary\n",
    "colormap_dict = {}\n",
    "for value, grayscale_value in zip(values, grayscale_values):\n",
    "    colormap_dict[value] = grayscale_value\n",
    "\n",
    "# Create a LinearSegmentedColormap object\n",
    "cmap = LinearSegmentedColormap.from_list('custom_colormap', [(val, val, val) for val in grayscale_values], N=len(values))\n"
   ]
  },
  {
   "cell_type": "markdown",
   "metadata": {},
   "source": [
    "# Show slice from .nas"
   ]
  },
  {
   "cell_type": "code",
   "execution_count": null,
   "metadata": {},
   "outputs": [],
   "source": [
    "from data_processing.preprocessing import load_mask_target_electrodes\n",
    "import matplotlib.pyplot as plt"
   ]
  },
  {
   "cell_type": "code",
   "execution_count": null,
   "metadata": {},
   "outputs": [],
   "source": [
    "mesh_data = load_mask_target_electrodes('/home/nibdombe/deep_eit/data/raw/case_TCIA_211_0', resolution=512)"
   ]
  },
  {
   "cell_type": "code",
   "execution_count": null,
   "metadata": {},
   "outputs": [],
   "source": [
    "fig, axes = plt.subplots(2, 4, figsize=(30, 10))\n",
    "for i in range(4):\n",
    "    axes[0,i].imshow(mesh_data[0][i])\n",
    "    axes[0,i].axis('off')\n",
    "    axes[0,i].scatter(mesh_data[-1][i][:,0], mesh_data[-1][i][:,1], marker='x', c='r')\n",
    "    axes[1,i].imshow(mesh_data[1][i])\n",
    "    axes[1,i].axis('off')\n",
    "    axes[1,i].scatter(mesh_data[-1][i][:,0], mesh_data[-1][i][:,1], marker='x', c='r')\n",
    "\n"
   ]
  },
  {
   "cell_type": "markdown",
   "metadata": {},
   "source": [
    "# Show slices from .npz"
   ]
  },
  {
   "cell_type": "code",
   "execution_count": null,
   "metadata": {},
   "outputs": [],
   "source": [
    "import numpy as np\n",
    "import matplotlib.pyplot as plt\n",
    "import seaborn as sns"
   ]
  },
  {
   "cell_type": "code",
   "execution_count": null,
   "metadata": {},
   "outputs": [],
   "source": [
    "data = np.load('/home/nibdombe/deep_eit/data/processed/case_TCIA_104_0.npz')"
   ]
  },
  {
   "cell_type": "code",
   "execution_count": null,
   "metadata": {},
   "outputs": [],
   "source": [
    "targets = data['targets']\n",
    "electrodes = data['electrodes']"
   ]
  },
  {
   "cell_type": "code",
   "execution_count": null,
   "metadata": {},
   "outputs": [],
   "source": [
    "\n",
    "fig, axes = plt.subplots(2, 4, figsize=(30, 10))\n",
    "for i, ax in enumerate(axes.flatten()):\n",
    "    ax.imshow(targets[i])\n",
    "    ax.axis('off')\n",
    "    ax.scatter(electrodes[i][:,0], electrodes[i][:,1], marker='x', c='r', cmap='coolwarm')\n",
    "    ax.scatter(get_impulses(electrodes[i])[:,0], get_impulses(electrodes[i])[:,1], marker='x', c='r', cmap='coolwarm')"
   ]
  },
  {
   "cell_type": "code",
   "execution_count": null,
   "metadata": {},
   "outputs": [],
   "source": [
    "from matplotlib.colors import LinearSegmentedColormap\n",
    "\n",
    "# Define the colors and their positions in the colormap\n",
    "colors = [(1., 1., 1),   # blue\n",
    "          (0.1, 0.1, 1), # light blue\n",
    "          (1, 0.8, 0.4), # yellow\n",
    "          (0.8, 0, 0)]     # red\n",
    "positions = [0.0, 0.05, 0.2, 1.0]\n",
    "\n",
    "# Create the colormap\n",
    "cmap = LinearSegmentedColormap.from_list('custom_colormap', list(zip(positions, colors)))\n",
    "\n"
   ]
  },
  {
   "cell_type": "code",
   "execution_count": null,
   "metadata": {},
   "outputs": [],
   "source": [
    "fig, axes = plt.subplots(2, 4, figsize=(30, 10))\n",
    "for i, ax in enumerate(axes.flatten()):\n",
    "    sns.heatmap(targets[i].squeeze(), cmap=cmap, ax=ax)\n",
    "    ax.axis('off')\n",
    "    ax.scatter(electrodes[i][:,0], electrodes[i][:,1], marker='x', c='r', legend='Electrodes')"
   ]
  },
  {
   "cell_type": "markdown",
   "metadata": {},
   "source": [
    "# Load from datasets"
   ]
  },
  {
   "cell_type": "code",
   "execution_count": null,
   "metadata": {},
   "outputs": [],
   "source": [
    "import torch\n",
    "import matplotlib.pyplot as plt\n",
    "import numpy as np"
   ]
  },
  {
   "cell_type": "code",
   "execution_count": null,
   "metadata": {},
   "outputs": [],
   "source": [
    "dataset = torch.load('/home/nibdombe/deep_eit/data/datasets/train_dataset.pt')"
   ]
  },
  {
   "cell_type": "code",
   "execution_count": null,
   "metadata": {},
   "outputs": [],
   "source": [
    "electrodes = dataset.electrodes"
   ]
  },
  {
   "cell_type": "code",
   "execution_count": null,
   "metadata": {},
   "outputs": [],
   "source": [
    "e = electrodes[0,:,:2]\n",
    "p = dataset.points\n",
    "imp = dataset.impulses[0][:,:2]\n",
    "t = dataset.targets[0].reshape(-1,1)\n",
    "fig, ax = plt.subplots(figsize=(10, 10))\n",
    "ax.scatter(p[:,0], p[:,1], marker='x', c=t, s=.1)\n",
    "ax.scatter(e[:,0], e[:,1], marker='x', c='r')\n",
    "ax.scatter(imp[:,0], imp[:,1], marker='x', c='b')"
   ]
  },
  {
   "cell_type": "code",
   "execution_count": null,
   "metadata": {},
   "outputs": [],
   "source": [
    "e_rot = torch.matmul(e, dataset._random_rotation_matrix(rotation_angle=135))\n",
    "p_rot = torch.matmul(p, dataset._random_rotation_matrix(rotation_angle=135))"
   ]
  },
  {
   "cell_type": "code",
   "execution_count": null,
   "metadata": {},
   "outputs": [],
   "source": [
    "fig, ax = plt.subplots(figsize=(10, 10))\n",
    "ax.scatter(p_rot[:,0], p_rot[:,1], marker='x', c=t, s=0.1)\n",
    "ax.scatter(e_rot[:,0], e_rot[:,1], marker='x', c='r')\n"
   ]
  },
  {
   "cell_type": "markdown",
   "metadata": {},
   "source": [
    "# Load model and process test data"
   ]
  },
  {
   "cell_type": "code",
   "execution_count": null,
   "metadata": {},
   "outputs": [],
   "source": [
    "with initialize(version_base=None, config_path=\"cfg\", job_name=\"test\"):\n",
    "    cfg = compose(config_name=\"config\")\n"
   ]
  },
  {
   "cell_type": "code",
   "execution_count": null,
   "metadata": {},
   "outputs": [],
   "source": []
  },
  {
   "cell_type": "code",
   "execution_count": null,
   "metadata": {},
   "outputs": [],
   "source": []
  },
  {
   "cell_type": "code",
   "execution_count": null,
   "metadata": {},
   "outputs": [],
   "source": []
  },
  {
   "cell_type": "code",
   "execution_count": null,
   "metadata": {},
   "outputs": [],
   "source": []
  },
  {
   "cell_type": "code",
   "execution_count": null,
   "metadata": {},
   "outputs": [],
   "source": []
  },
  {
   "cell_type": "code",
   "execution_count": null,
   "metadata": {},
   "outputs": [],
   "source": []
  },
  {
   "cell_type": "code",
   "execution_count": null,
   "metadata": {},
   "outputs": [],
   "source": []
  },
  {
   "cell_type": "code",
   "execution_count": null,
   "metadata": {},
   "outputs": [],
   "source": []
  },
  {
   "cell_type": "markdown",
   "metadata": {},
   "source": [
    "# Compare generated targets with Anita's targets"
   ]
  },
  {
   "cell_type": "code",
   "execution_count": null,
   "metadata": {},
   "outputs": [],
   "source": [
    "import numpy as np\n",
    "import scipy.io as sio\n",
    "import matplotlib.pyplot as plt\n",
    "import seaborn as sns"
   ]
  },
  {
   "cell_type": "code",
   "execution_count": null,
   "metadata": {},
   "outputs": [],
   "source": [
    "toy = np.load('/work/deep_eit/data/processed/case_TCIA_53_0.npz', allow_pickle=True)"
   ]
  },
  {
   "cell_type": "code",
   "execution_count": null,
   "metadata": {},
   "outputs": [],
   "source": [
    "toy['targets'].shape"
   ]
  },
  {
   "cell_type": "code",
   "execution_count": null,
   "metadata": {},
   "outputs": [],
   "source": [
    "fig, axes = plt.subplots(1, 2, figsize=(15, 5))\n",
    "sns.heatmap(toy['targets'][0].squeeze(), ax=axes[0])\n",
    "axes[0].axis('off')\n",
    "axes[1].imshow(toy['masks'][0])"
   ]
  },
  {
   "cell_type": "code",
   "execution_count": null,
   "metadata": {},
   "outputs": [],
   "source": [
    "anita_target = sio.loadmat('/work/deep_eit/data/raw/case_TCIA_53_0/targets/level_1.mat')['slice_z1']\n",
    "anita_target = np.where(np.isnan(anita_target), 0, anita_target)\n",
    "anita_target = np.moveaxis(anita_target, 0, 1)"
   ]
  },
  {
   "cell_type": "code",
   "execution_count": null,
   "metadata": {},
   "outputs": [],
   "source": [
    "fig, axes = plt.subplots(1, 2, figsize=(15, 5))\n",
    "sns.heatmap(toy['targets'][0].squeeze(), ax=axes[0], vmax=1)\n",
    "axes[0].axis('off')\n",
    "sns.heatmap(anita_target, ax=axes[1], vmax=1)\n",
    "axes[1].axis('off')\n"
   ]
  },
  {
   "cell_type": "code",
   "execution_count": null,
   "metadata": {},
   "outputs": [],
   "source": [
    "anita_target.shape"
   ]
  },
  {
   "cell_type": "code",
   "execution_count": null,
   "metadata": {},
   "outputs": [],
   "source": [
    "np.unique(anita_target)"
   ]
  },
  {
   "cell_type": "code",
   "execution_count": null,
   "metadata": {},
   "outputs": [],
   "source": [
    "import os\n"
   ]
  },
  {
   "cell_type": "code",
   "execution_count": null,
   "metadata": {},
   "outputs": [],
   "source": [
    "import numpy as np\n",
    "import cv2\n",
    "import matplotlib.pyplot as plt\n",
    "import torch\n",
    "import torchvision.transforms.functional as TF"
   ]
  },
  {
   "cell_type": "code",
   "execution_count": null,
   "metadata": {},
   "outputs": [],
   "source": [
    "case_flip = np.load('/home/nibdombe/deep_eit/data/processed/case_TCIA_298_0.npz')\n",
    "case_correct = np.load('/home/nibdombe/deep_eit/data/processed/case_TCIA_2_0.npz')"
   ]
  },
  {
   "cell_type": "code",
   "execution_count": null,
   "metadata": {},
   "outputs": [],
   "source": [
    "img_flip = case_flip['targets'][4]\n",
    "img_correct = case_correct['targets'][5]"
   ]
  },
  {
   "cell_type": "code",
   "execution_count": null,
   "metadata": {},
   "outputs": [],
   "source": [
    "img_flip_flip = np.flip(img_flip, axis=0)\n",
    "img_flip_flip_flip = np.flip(img_flip_flip, axis=1)"
   ]
  },
  {
   "cell_type": "code",
   "execution_count": null,
   "metadata": {},
   "outputs": [],
   "source": [
    "fig, axes = plt.subplots(1, 4, figsize=(15, 5))\n",
    "axes[0].imshow(img_flip.squeeze())\n",
    "axes[1].imshow(img_flip_flip.squeeze())\n",
    "axes[2].imshow(img_flip_flip_flip.squeeze())\n",
    "axes[3].imshow(img_correct.squeeze())"
   ]
  },
  {
   "cell_type": "code",
   "execution_count": null,
   "metadata": {},
   "outputs": [],
   "source": []
  }
 ],
 "metadata": {
  "kernelspec": {
   "display_name": "deep_eit",
   "language": "python",
   "name": "python3"
  },
  "language_info": {
   "codemirror_mode": {
    "name": "ipython",
    "version": 3
   },
   "file_extension": ".py",
   "mimetype": "text/x-python",
   "name": "python",
   "nbconvert_exporter": "python",
   "pygments_lexer": "ipython3",
   "version": "3.10.12"
  }
 },
 "nbformat": 4,
 "nbformat_minor": 2
}
