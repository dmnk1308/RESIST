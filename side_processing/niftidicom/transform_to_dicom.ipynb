{
 "cells": [
  {
   "cell_type": "code",
   "execution_count": 8,
   "metadata": {},
   "outputs": [],
   "source": [
    "import nibabel as nib\n",
    "import pydicom\n",
    "from nibabel import processing\n",
    "import numpy as np\n",
    "import os\n",
    "from tqdm import tqdm\n",
    "import shutil\n",
    "from nifti2dcm import nifti2dicom"
   ]
  },
  {
   "cell_type": "code",
   "execution_count": 4,
   "metadata": {},
   "outputs": [],
   "source": [
    "dir = os.listdir('..')\n",
    "dir = [d for d in dir if d.startswith('case_TCIA')]\n",
    "sort_idx = [int(d.split('_')[-2]) for d in dir]\n",
    "sort_idx = np.argsort(sort_idx)\n",
    "dir = [dir[i] for i in sort_idx]"
   ]
  },
  {
   "cell_type": "code",
   "execution_count": 4,
   "metadata": {},
   "outputs": [
    {
     "name": "stderr",
     "output_type": "stream",
     "text": [
      "  0%|          | 0/1014 [00:00<?, ?it/s]"
     ]
    },
    {
     "name": "stderr",
     "output_type": "stream",
     "text": [
      "100%|██████████| 1014/1014 [58:47<00:00,  3.48s/it] \n"
     ]
    }
   ],
   "source": [
    "for d in tqdm(dir):\n",
    "    nifti_path = '/work/segmentations/'+d+'/labels/final.nii.gz'\n",
    "    dcm_path = '/work/segmentations/'+d+'/labels/final_dicom'\n",
    "    template_path = '/work/segmentations/data_handling/template.dcm'\n",
    "    if os.path.exists(dcm_path):\n",
    "        shutil.rmtree(dcm_path)\n",
    "    nifti2dicom(nifti_path, dcm_path, z_flip=False, x_flip=False, y_flip=False, draft_path=template_path)"
   ]
  },
  {
   "cell_type": "code",
   "execution_count": null,
   "metadata": {},
   "outputs": [],
   "source": []
  }
 ],
 "metadata": {
  "kernelspec": {
   "display_name": "Python 3",
   "language": "python",
   "name": "python3"
  },
  "language_info": {
   "codemirror_mode": {
    "name": "ipython",
    "version": 3
   },
   "file_extension": ".py",
   "mimetype": "text/x-python",
   "name": "python",
   "nbconvert_exporter": "python",
   "pygments_lexer": "ipython3",
   "version": "3.8.2"
  },
  "orig_nbformat": 4
 },
 "nbformat": 4,
 "nbformat_minor": 2
}
